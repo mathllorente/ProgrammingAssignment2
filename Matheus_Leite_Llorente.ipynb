{
  "nbformat": 4,
  "nbformat_minor": 0,
  "metadata": {
    "colab": {
      "name": "Matheus_Leite_Llorente.ipynb",
      "provenance": [],
      "collapsed_sections": [
        "OnFZ5W8kK3f8",
        "EYZ73sebYf8_",
        "H_DzTiiWY9zc",
        "y8ffeoc7d9lN",
        "itDM4svQZ9HM",
        "McZXZLSRa0rE",
        "GX4Z8k0Ctdta",
        "zqDBkQTXlOkx",
        "u3RBoxnFG8M-",
        "b4fyv2vcHUWs",
        "lGrpxtmhOUWn",
        "YzCyiBqmOUWz",
        "DgwRExo5OUXB",
        "_m8A7eUZOUXK",
        "lpl-npxNOUXY",
        "97V_O802Rgty",
        "VOXFMC_J5KdX",
        "8JC99Z_jDAud",
        "a2P_DFxkLxoF",
        "YlDMuUNnNPs6",
        "COLZ0oUrAAQh",
        "2mHz3ATtFXyD",
        "3RzTuBMJGTVL",
        "Kz0vE-xdIq3N",
        "0lebn9VwJPRM",
        "_TQfwQ6CK9TN",
        "JyGOHrnceB23",
        "JoiI55rG1iYw",
        "RK-ows-c3O42",
        "DEBJ0T5r5Jdx",
        "_sB4cofa6f1T",
        "qOKwhhJh7Ntg",
        "A4VLts1QeHL4",
        "Jq29OmKfUAlH",
        "GOdSeTP6fDIP",
        "sabYJXNHGYw_",
        "aw2CcUF0Tivd",
        "JxPkDSCFUBzT",
        "-hz9AcGVUBzi",
        "yWWcBcIYUBzs",
        "j0STCeLQUBz4",
        "b6G0RMwrW-FC",
        "xDI9RVOHSD6i",
        "04iZLq7SwLnc",
        "y2hub5DSdHRA",
        "0QcOKJiNDLVW",
        "Dga4pHTAB30u",
        "ZLieJkJyYNiP",
        "tMWErcMMYNil",
        "RFXkvELjYNi9",
        "lTPJ1WGgYNjQ",
        "hlOJKIpBYNjd",
        "XqMcE1ZLHmU3",
        "Zafe373Adcs8",
        "1MuK-B1SRT4U",
        "-YxIxd95VD-Z",
        "RNHMQVVyY1GU",
        "5MCP3GCPtrwA",
        "uSl3SPYGeXaC",
        "NlB7kSIirooX",
        "QJRaNIiUs2b1",
        "tKLsgF_o6uzk",
        "Gur7FJM93NIL",
        "Vu3aEIzR9fBW",
        "1YzyuYnKdmS2",
        "jvj1nGbHaQQi",
        "YeJWdcgOaQQr",
        "hM80fOUUaQRL",
        "Y45-f_-6aQRr",
        "kZiDAtxbaQR7",
        "VxWaFYxbY1YS",
        "Y0iWr3uHdsAW",
        "bqPlkOusjJ--",
        "vCSqZTC9p6XO",
        "MQGzegHcZ5oW",
        "ujTZFRzEf86_",
        "VOfqzsgecrHy",
        "hgp8FInocrH8",
        "eK_qNWP5crIK",
        "ulK3JfAacrIU",
        "7Of8i5TVcrIf",
        "xzFP8UkjnIcd",
        "0y8HRgRiNvws",
        "4JSTt57iOPG3",
        "q_rF1Jy9W_PY",
        "7GTCJe1pxGR3",
        "ru7Z4ZuUyI8C",
        "74UYeDA8zP12",
        "jWyWOMPCzSsa",
        "Fa1d58sM0H_q",
        "4fv71osi0v8G",
        "zgVc2hHG5wPo",
        "mB2I5vVN6Rrn",
        "xxmOWddoMHvp",
        "PNpkoLHL8xcm",
        "OruYmUHl7L4C",
        "gTZXXwsYZ2t4",
        "nTUAvN1P8OKr",
        "S2Ed2YcS6XJM",
        "yIS_IyvH8NB-",
        "DxWq9Qex6Wnk",
        "l5HrQVXnR6aw",
        "BqcygVJI7_Ev",
        "T_RVX4-hnUrW",
        "-6IZLKDknUrb",
        "hXQZ72cFUQzc"
      ],
      "authorship_tag": "ABX9TyODmpMsQeGCqZgFl317rO18",
      "include_colab_link": true
    },
    "kernelspec": {
      "name": "python3",
      "display_name": "Python 3"
    }
  },
  "cells": [
    {
      "cell_type": "markdown",
      "metadata": {
        "id": "view-in-github",
        "colab_type": "text"
      },
      "source": [
        "<a href=\"https://colab.research.google.com/github/mathllorente/ProgrammingAssignment2/blob/master/Matheus_Leite_Llorente.ipynb\" target=\"_parent\"><img src=\"https://colab.research.google.com/assets/colab-badge.svg\" alt=\"Open In Colab\"/></a>"
      ]
    },
    {
      "cell_type": "markdown",
      "metadata": {
        "id": "3WjkZtChf2fy"
      },
      "source": [
        "**Análise de dados  - ENEM 2019**\n",
        "### **Por: Matheus Leite Llorente**\n",
        "Meu Linkedin: https://www.linkedin.com/in/matheus-llorente/\n",
        "\n",
        "\n",
        "![](https://vertigo.com.br/wp-content/uploads/barra-azul.png)"
      ]
    },
    {
      "cell_type": "markdown",
      "metadata": {
        "id": "fB0EBFsjZz8n"
      },
      "source": [
        "# **Introdução**"
      ]
    },
    {
      "cell_type": "markdown",
      "metadata": {
        "id": "BW1aHCyg8Sdd"
      },
      "source": [
        "![](https://www.alura.com.br/assets/img/imersoes/general/og-imersao-alura.1595534856.png)\n",
        "\n",
        "## **O que é/foi a imersão dados 2?**"
      ]
    },
    {
      "cell_type": "markdown",
      "metadata": {
        "id": "6bqmSiEK9KEB"
      },
      "source": [
        "Muito além do que uma análise, um aprendizado inexplicável!\n",
        "\n",
        "De 19 a 24 de outubro de 2020, os instrutores da [Alura](https://www.alura.com.br/) (a melhor plataforma de aprendizado para ciência de dados e tecnologia do Brasil) organizaram um evento onde os inscritos puderam analisar uma amostra dos microdados do ENEM 2019. Esses dados estão disponíveis no próprio site do INEP: http://inep.gov.br/microdados.\n",
        "\n",
        "Foram cinco aulas, diversas lives sobre conteúdos de DataScience e uma comunidade incrível para as análises (além de reuniões diárias com os próprios coordenadores!).\n",
        "\n",
        "As aulas foram distribuídas por dias, sendo:\n",
        "\n",
        "\n",
        "\n",
        "1.   **Dia 1: Sua primeira análise de dados**\n",
        "2.  **Dia 2: Análise Exploratória de Dados**\n",
        "3.  **Dia 3: Entendendo o que é Machine Learning**\n",
        "4.   **Dia 4: Otimizando os hiperparâmetros**\n",
        "5.  **Dia 5: Storytelling em Data Science**\n",
        "\n",
        "Dentro desses dias, foram propostos diversos desafios aos quais me possibiliaram a desvendar e conhecer mais sobre o universo de Ciência de Dados. Encontrar indicadores, gerar insights, desenvolver análises e relatórios foram ações que fizeram parte do meu cotidiano nesse período e que irão fazer para quaisquer outros.\n",
        "\n"
      ]
    },
    {
      "cell_type": "markdown",
      "metadata": {
        "id": "X9G0QSYRAH9v"
      },
      "source": [
        "## **O que irei encontrar por aqui?**"
      ]
    },
    {
      "cell_type": "markdown",
      "metadata": {
        "id": "vPtpbHTkAMMh"
      },
      "source": [
        "Desde uma análise mais geral, até uma análise mais minuciosa sobre o ENEM 2019 você irá encontrar aqui! \n",
        "\n",
        "Gráficos, scripts e relatórios sobre as minhas conclusões como Atuário e Cientista de Dados, estarão disponíveis nas diversas seções. Procurei explorar ao máximo correlações e indicadores que possam elucidar algum tipo de comportamento nas notas e nos candidatos do ENEM de 2019. Utilizei uma amostra considerável, disponibilizada pela [Alura](https://www.alura.com.br/).\n",
        "\n",
        "# **Resumo sobre as seções**\n",
        "\n",
        "\n",
        "*   **Bibliotecas utilizadas:** quais pacotes/bibliotecas do Python eu utilizei para realizar as análises;\n",
        "*   **Análise Geral:** uma análise sobre as idades e o que significam os valores faltantes;\n",
        "*   **A desigualdade de sexos no ENEM 2019:** uma análise geral e profunda sobre o efeito do sexo nas notas;\n",
        "*   **A desigualdade de cor das Raças no ENEM2019:** as diferenças e vantagens que uma cor tem sobre a outra;\n",
        "*   **Média de notas para cada área no Brasil (Mapas):** a média das notas de cada categoria do ENEM por município dispostas por um mapa;\n",
        "*   **O comportamento das notas no Estado de São Paulo de acordo com o IDH:** a relação entre o IDH municipal e as notas do ENEM para o estado de SP;\n",
        "*   **Como que a escolaridade dos pais influencia nas notas?:** os efeitos que a escolaridade dos pais tem nas notas de seu filho;\n",
        "*   **A lingua estrangeira escolhida influencia de que modo no desempenho?:** a diferença de desempenho em quem escolheu Inglês ou Espanhol no ENEM2019;\n",
        "*   **Taxa de evasão do primeiro para o segundo dia:** como foi a evasão do primeiro para o segundo dia e porquê ocorreram;\n",
        "*   **Ter internet em casa influencia nas notas?:** a influência que a internet faz nas notas dos candidatos;\n",
        "*   **Como a renda familiar pode gerar algum efeito nas notas?:** a diferença que a renda familiar faz nas notas dos candidatos;\n",
        "*   **Análise treineiros do ENEM 2019:** uma breve análise sobre os treineiros e não treineiros no ENEM 2019;\n",
        "*   **Por que o Sul e o Sudeste se desempenharam melhor?:** motivos pelos quais as regiões Sul e Sudeste foram as melhores no ENEM 2019;\n",
        "*   **Machine Learning:** como um modelo de machine learning consegue explicar as notas de ciências humanas no enem.\n",
        "\n",
        "\n"
      ]
    },
    {
      "cell_type": "markdown",
      "metadata": {
        "id": "9NgIHRYnUyj4"
      },
      "source": [
        "# ***Atenção*  : execute os scripts de acordo com a ordem das seções acima para que não haja conflitos.**\n",
        "\n",
        "![](https://i.ibb.co/QYh5NYc/Apresenta-o-sem-t-tulo-16.jpg)"
      ]
    },
    {
      "cell_type": "markdown",
      "metadata": {
        "id": "OnFZ5W8kK3f8"
      },
      "source": [
        "# **Bibliotecas utilizadas**"
      ]
    },
    {
      "cell_type": "markdown",
      "metadata": {
        "id": "2ROq11Gh2WMg"
      },
      "source": [
        "**Bibliotecas**"
      ]
    },
    {
      "cell_type": "code",
      "metadata": {
        "id": "FfuSIFTqjN4-"
      },
      "source": [
        "import os\n",
        "import requests\n",
        "import pandas as pd\n",
        "import numpy as np\n",
        "import matplotlib.pyplot as plt\n",
        "import seaborn as sns\n",
        "from scipy import stats\n",
        "import folium\n",
        "from folium import plugins\n",
        "import json\n",
        "import statsmodels.api as sm\n",
        "from statsmodels.formula.api import ols\n",
        "from statsmodels.stats.multicomp import MultiComparison\n",
        "from sklearn.model_selection import train_test_split"
      ],
      "execution_count": 249,
      "outputs": []
    },
    {
      "cell_type": "markdown",
      "metadata": {
        "id": "ZLxe5O-6LqWl"
      },
      "source": [
        "## **Carregando os dados**"
      ]
    },
    {
      "cell_type": "code",
      "metadata": {
        "id": "xctwN3f5jzvo",
        "outputId": "aa8622c3-ffb2-4b9b-f998-1e06b08265c5",
        "colab": {
          "base_uri": "https://localhost:8080/"
        }
      },
      "source": [
        "#Coletando a fonte dos dados\n",
        "font = \"https://github.com/alura-cursos/imersao-dados-2-2020/blob/master/MICRODADOS_ENEM_2019_SAMPLE_43278.csv?raw=true\" \n",
        "\n",
        "#Utilizando o pandas para ler o arquivo csv\n",
        "dados_enem2019 = pd.read_csv(font)\n",
        "\n",
        "#Visualizando as 5 primeiras linhas dos dados carregados\n",
        "dados_enem2019.head()"
      ],
      "execution_count": 250,
      "outputs": [
        {
          "output_type": "execute_result",
          "data": {
            "text/html": [
              "<div>\n",
              "<style scoped>\n",
              "    .dataframe tbody tr th:only-of-type {\n",
              "        vertical-align: middle;\n",
              "    }\n",
              "\n",
              "    .dataframe tbody tr th {\n",
              "        vertical-align: top;\n",
              "    }\n",
              "\n",
              "    .dataframe thead th {\n",
              "        text-align: right;\n",
              "    }\n",
              "</style>\n",
              "<table border=\"1\" class=\"dataframe\">\n",
              "  <thead>\n",
              "    <tr style=\"text-align: right;\">\n",
              "      <th></th>\n",
              "      <th>NU_INSCRICAO</th>\n",
              "      <th>NU_ANO</th>\n",
              "      <th>CO_MUNICIPIO_RESIDENCIA</th>\n",
              "      <th>NO_MUNICIPIO_RESIDENCIA</th>\n",
              "      <th>CO_UF_RESIDENCIA</th>\n",
              "      <th>SG_UF_RESIDENCIA</th>\n",
              "      <th>NU_IDADE</th>\n",
              "      <th>TP_SEXO</th>\n",
              "      <th>TP_ESTADO_CIVIL</th>\n",
              "      <th>TP_COR_RACA</th>\n",
              "      <th>TP_NACIONALIDADE</th>\n",
              "      <th>CO_MUNICIPIO_NASCIMENTO</th>\n",
              "      <th>NO_MUNICIPIO_NASCIMENTO</th>\n",
              "      <th>CO_UF_NASCIMENTO</th>\n",
              "      <th>SG_UF_NASCIMENTO</th>\n",
              "      <th>TP_ST_CONCLUSAO</th>\n",
              "      <th>TP_ANO_CONCLUIU</th>\n",
              "      <th>TP_ESCOLA</th>\n",
              "      <th>TP_ENSINO</th>\n",
              "      <th>IN_TREINEIRO</th>\n",
              "      <th>CO_ESCOLA</th>\n",
              "      <th>CO_MUNICIPIO_ESC</th>\n",
              "      <th>NO_MUNICIPIO_ESC</th>\n",
              "      <th>CO_UF_ESC</th>\n",
              "      <th>SG_UF_ESC</th>\n",
              "      <th>TP_DEPENDENCIA_ADM_ESC</th>\n",
              "      <th>TP_LOCALIZACAO_ESC</th>\n",
              "      <th>TP_SIT_FUNC_ESC</th>\n",
              "      <th>IN_BAIXA_VISAO</th>\n",
              "      <th>IN_CEGUEIRA</th>\n",
              "      <th>IN_SURDEZ</th>\n",
              "      <th>IN_DEFICIENCIA_AUDITIVA</th>\n",
              "      <th>IN_SURDO_CEGUEIRA</th>\n",
              "      <th>IN_DEFICIENCIA_FISICA</th>\n",
              "      <th>IN_DEFICIENCIA_MENTAL</th>\n",
              "      <th>IN_DEFICIT_ATENCAO</th>\n",
              "      <th>IN_DISLEXIA</th>\n",
              "      <th>IN_DISCALCULIA</th>\n",
              "      <th>IN_AUTISMO</th>\n",
              "      <th>IN_VISAO_MONOCULAR</th>\n",
              "      <th>...</th>\n",
              "      <th>TX_RESPOSTAS_CH</th>\n",
              "      <th>TX_RESPOSTAS_LC</th>\n",
              "      <th>TX_RESPOSTAS_MT</th>\n",
              "      <th>TP_LINGUA</th>\n",
              "      <th>TX_GABARITO_CN</th>\n",
              "      <th>TX_GABARITO_CH</th>\n",
              "      <th>TX_GABARITO_LC</th>\n",
              "      <th>TX_GABARITO_MT</th>\n",
              "      <th>TP_STATUS_REDACAO</th>\n",
              "      <th>NU_NOTA_COMP1</th>\n",
              "      <th>NU_NOTA_COMP2</th>\n",
              "      <th>NU_NOTA_COMP3</th>\n",
              "      <th>NU_NOTA_COMP4</th>\n",
              "      <th>NU_NOTA_COMP5</th>\n",
              "      <th>NU_NOTA_REDACAO</th>\n",
              "      <th>Q001</th>\n",
              "      <th>Q002</th>\n",
              "      <th>Q003</th>\n",
              "      <th>Q004</th>\n",
              "      <th>Q005</th>\n",
              "      <th>Q006</th>\n",
              "      <th>Q007</th>\n",
              "      <th>Q008</th>\n",
              "      <th>Q009</th>\n",
              "      <th>Q010</th>\n",
              "      <th>Q011</th>\n",
              "      <th>Q012</th>\n",
              "      <th>Q013</th>\n",
              "      <th>Q014</th>\n",
              "      <th>Q015</th>\n",
              "      <th>Q016</th>\n",
              "      <th>Q017</th>\n",
              "      <th>Q018</th>\n",
              "      <th>Q019</th>\n",
              "      <th>Q020</th>\n",
              "      <th>Q021</th>\n",
              "      <th>Q022</th>\n",
              "      <th>Q023</th>\n",
              "      <th>Q024</th>\n",
              "      <th>Q025</th>\n",
              "    </tr>\n",
              "  </thead>\n",
              "  <tbody>\n",
              "    <tr>\n",
              "      <th>0</th>\n",
              "      <td>190001004661</td>\n",
              "      <td>2019</td>\n",
              "      <td>1506138</td>\n",
              "      <td>Redenção</td>\n",
              "      <td>15</td>\n",
              "      <td>PA</td>\n",
              "      <td>17</td>\n",
              "      <td>M</td>\n",
              "      <td>1</td>\n",
              "      <td>3</td>\n",
              "      <td>1</td>\n",
              "      <td>1506138.0</td>\n",
              "      <td>Redenção</td>\n",
              "      <td>15.0</td>\n",
              "      <td>PA</td>\n",
              "      <td>3</td>\n",
              "      <td>0</td>\n",
              "      <td>1</td>\n",
              "      <td>NaN</td>\n",
              "      <td>1</td>\n",
              "      <td>NaN</td>\n",
              "      <td>NaN</td>\n",
              "      <td>NaN</td>\n",
              "      <td>NaN</td>\n",
              "      <td>NaN</td>\n",
              "      <td>NaN</td>\n",
              "      <td>NaN</td>\n",
              "      <td>NaN</td>\n",
              "      <td>0</td>\n",
              "      <td>0</td>\n",
              "      <td>0</td>\n",
              "      <td>0</td>\n",
              "      <td>0</td>\n",
              "      <td>0</td>\n",
              "      <td>0</td>\n",
              "      <td>0</td>\n",
              "      <td>0</td>\n",
              "      <td>0</td>\n",
              "      <td>0</td>\n",
              "      <td>0</td>\n",
              "      <td>...</td>\n",
              "      <td>ACAEAAACABEBABAADCEEEDE*CBDCCCADADCCCBEBBBBDB</td>\n",
              "      <td>99999CCCABBCAADDBCEBCCADBEEBDECBAABDEACACAEABB...</td>\n",
              "      <td>DEEDCAECDDEEECBCBECABEBAECBBCDAECAEBBBBBDCCDB</td>\n",
              "      <td>1</td>\n",
              "      <td>DEADBAAAEBEECEBCBCBCBDADAEABCEDDDDADCBEECACBC</td>\n",
              "      <td>ACACEEBCCBABADBBBACDBBACCCCADCEBADCBEEDBBEADB</td>\n",
              "      <td>EBBADCABDABACBCEBDEEAAADDBECDECDDBADBCDAAECBCC...</td>\n",
              "      <td>AADDDBEEEBEDDBEBACABCDBABECECACAECDCBDCCEDCDA</td>\n",
              "      <td>1.0</td>\n",
              "      <td>60.0</td>\n",
              "      <td>100.0</td>\n",
              "      <td>80.0</td>\n",
              "      <td>80.0</td>\n",
              "      <td>100.0</td>\n",
              "      <td>420.0</td>\n",
              "      <td>B</td>\n",
              "      <td>B</td>\n",
              "      <td>A</td>\n",
              "      <td>A</td>\n",
              "      <td>4</td>\n",
              "      <td>B</td>\n",
              "      <td>A</td>\n",
              "      <td>C</td>\n",
              "      <td>B</td>\n",
              "      <td>A</td>\n",
              "      <td>C</td>\n",
              "      <td>B</td>\n",
              "      <td>A</td>\n",
              "      <td>A</td>\n",
              "      <td>A</td>\n",
              "      <td>A</td>\n",
              "      <td>A</td>\n",
              "      <td>A</td>\n",
              "      <td>A</td>\n",
              "      <td>B</td>\n",
              "      <td>A</td>\n",
              "      <td>C</td>\n",
              "      <td>A</td>\n",
              "      <td>B</td>\n",
              "      <td>B</td>\n",
              "    </tr>\n",
              "    <tr>\n",
              "      <th>1</th>\n",
              "      <td>190001004674</td>\n",
              "      <td>2019</td>\n",
              "      <td>1504208</td>\n",
              "      <td>Marabá</td>\n",
              "      <td>15</td>\n",
              "      <td>PA</td>\n",
              "      <td>23</td>\n",
              "      <td>M</td>\n",
              "      <td>1</td>\n",
              "      <td>3</td>\n",
              "      <td>1</td>\n",
              "      <td>1504208.0</td>\n",
              "      <td>Marabá</td>\n",
              "      <td>15.0</td>\n",
              "      <td>PA</td>\n",
              "      <td>1</td>\n",
              "      <td>3</td>\n",
              "      <td>1</td>\n",
              "      <td>1.0</td>\n",
              "      <td>0</td>\n",
              "      <td>NaN</td>\n",
              "      <td>NaN</td>\n",
              "      <td>NaN</td>\n",
              "      <td>NaN</td>\n",
              "      <td>NaN</td>\n",
              "      <td>NaN</td>\n",
              "      <td>NaN</td>\n",
              "      <td>NaN</td>\n",
              "      <td>0</td>\n",
              "      <td>0</td>\n",
              "      <td>0</td>\n",
              "      <td>0</td>\n",
              "      <td>0</td>\n",
              "      <td>0</td>\n",
              "      <td>0</td>\n",
              "      <td>0</td>\n",
              "      <td>0</td>\n",
              "      <td>0</td>\n",
              "      <td>0</td>\n",
              "      <td>0</td>\n",
              "      <td>...</td>\n",
              "      <td>ABBCEADCEBAAACACEDCDCDACCCACDCBCABCAACBDBDEDE</td>\n",
              "      <td>99999ABCEBCEDDECEEEBBCCEECCABDABEEBCDEAEBBEAEA...</td>\n",
              "      <td>NaN</td>\n",
              "      <td>1</td>\n",
              "      <td>NaN</td>\n",
              "      <td>CBABADBBCEEEBCBADCBEEDBBEADBBACDBBACCCCADACAC</td>\n",
              "      <td>BBEDABDACACBABAECBBCCADCEBDBBCDDEEAAADDBECDECA...</td>\n",
              "      <td>NaN</td>\n",
              "      <td>1.0</td>\n",
              "      <td>80.0</td>\n",
              "      <td>100.0</td>\n",
              "      <td>80.0</td>\n",
              "      <td>80.0</td>\n",
              "      <td>60.0</td>\n",
              "      <td>400.0</td>\n",
              "      <td>C</td>\n",
              "      <td>C</td>\n",
              "      <td>A</td>\n",
              "      <td>A</td>\n",
              "      <td>4</td>\n",
              "      <td>B</td>\n",
              "      <td>A</td>\n",
              "      <td>B</td>\n",
              "      <td>C</td>\n",
              "      <td>A</td>\n",
              "      <td>A</td>\n",
              "      <td>B</td>\n",
              "      <td>B</td>\n",
              "      <td>B</td>\n",
              "      <td>A</td>\n",
              "      <td>A</td>\n",
              "      <td>A</td>\n",
              "      <td>A</td>\n",
              "      <td>B</td>\n",
              "      <td>A</td>\n",
              "      <td>A</td>\n",
              "      <td>B</td>\n",
              "      <td>A</td>\n",
              "      <td>A</td>\n",
              "      <td>B</td>\n",
              "    </tr>\n",
              "    <tr>\n",
              "      <th>2</th>\n",
              "      <td>190001004722</td>\n",
              "      <td>2019</td>\n",
              "      <td>1501402</td>\n",
              "      <td>Belém</td>\n",
              "      <td>15</td>\n",
              "      <td>PA</td>\n",
              "      <td>35</td>\n",
              "      <td>F</td>\n",
              "      <td>2</td>\n",
              "      <td>1</td>\n",
              "      <td>1</td>\n",
              "      <td>1501402.0</td>\n",
              "      <td>Belém</td>\n",
              "      <td>15.0</td>\n",
              "      <td>PA</td>\n",
              "      <td>1</td>\n",
              "      <td>12</td>\n",
              "      <td>1</td>\n",
              "      <td>1.0</td>\n",
              "      <td>0</td>\n",
              "      <td>NaN</td>\n",
              "      <td>NaN</td>\n",
              "      <td>NaN</td>\n",
              "      <td>NaN</td>\n",
              "      <td>NaN</td>\n",
              "      <td>NaN</td>\n",
              "      <td>NaN</td>\n",
              "      <td>NaN</td>\n",
              "      <td>0</td>\n",
              "      <td>0</td>\n",
              "      <td>0</td>\n",
              "      <td>0</td>\n",
              "      <td>0</td>\n",
              "      <td>0</td>\n",
              "      <td>0</td>\n",
              "      <td>0</td>\n",
              "      <td>0</td>\n",
              "      <td>0</td>\n",
              "      <td>0</td>\n",
              "      <td>0</td>\n",
              "      <td>...</td>\n",
              "      <td>CDCAACCAAADEACBBEBAAEECDABDEBAEAABEDCABABAABC</td>\n",
              "      <td>99999ECBCECEBBABECCCECECCEECCDECEEEDADDDDECEDD...</td>\n",
              "      <td>DDBEADEBBCADCEEACABECBCEBADECADCEDAACBDABABCE</td>\n",
              "      <td>1</td>\n",
              "      <td>AAECACDEADCBCDDDBCBDADAEABCEBABEEBCBEECEBDADC</td>\n",
              "      <td>CBABADBBCEEEBCBADCBEEDBBEADBBACDBBACCCCADACAC</td>\n",
              "      <td>BBEDABDACACBABAECBBCCADCEBDBBCDDEEAAADDBECDECA...</td>\n",
              "      <td>EEEADBEBACABCDBABECECACDCBDCCEDCDABEDECDDDBAA</td>\n",
              "      <td>1.0</td>\n",
              "      <td>100.0</td>\n",
              "      <td>120.0</td>\n",
              "      <td>120.0</td>\n",
              "      <td>100.0</td>\n",
              "      <td>120.0</td>\n",
              "      <td>560.0</td>\n",
              "      <td>C</td>\n",
              "      <td>A</td>\n",
              "      <td>B</td>\n",
              "      <td>B</td>\n",
              "      <td>5</td>\n",
              "      <td>C</td>\n",
              "      <td>A</td>\n",
              "      <td>B</td>\n",
              "      <td>C</td>\n",
              "      <td>A</td>\n",
              "      <td>A</td>\n",
              "      <td>B</td>\n",
              "      <td>A</td>\n",
              "      <td>B</td>\n",
              "      <td>A</td>\n",
              "      <td>A</td>\n",
              "      <td>A</td>\n",
              "      <td>A</td>\n",
              "      <td>B</td>\n",
              "      <td>A</td>\n",
              "      <td>B</td>\n",
              "      <td>B</td>\n",
              "      <td>A</td>\n",
              "      <td>A</td>\n",
              "      <td>B</td>\n",
              "    </tr>\n",
              "    <tr>\n",
              "      <th>3</th>\n",
              "      <td>190001004735</td>\n",
              "      <td>2019</td>\n",
              "      <td>1507300</td>\n",
              "      <td>São Félix do Xingu</td>\n",
              "      <td>15</td>\n",
              "      <td>PA</td>\n",
              "      <td>23</td>\n",
              "      <td>F</td>\n",
              "      <td>1</td>\n",
              "      <td>3</td>\n",
              "      <td>1</td>\n",
              "      <td>1505437.0</td>\n",
              "      <td>Ourilândia do Norte</td>\n",
              "      <td>15.0</td>\n",
              "      <td>PA</td>\n",
              "      <td>1</td>\n",
              "      <td>7</td>\n",
              "      <td>1</td>\n",
              "      <td>NaN</td>\n",
              "      <td>0</td>\n",
              "      <td>NaN</td>\n",
              "      <td>NaN</td>\n",
              "      <td>NaN</td>\n",
              "      <td>NaN</td>\n",
              "      <td>NaN</td>\n",
              "      <td>NaN</td>\n",
              "      <td>NaN</td>\n",
              "      <td>NaN</td>\n",
              "      <td>0</td>\n",
              "      <td>0</td>\n",
              "      <td>0</td>\n",
              "      <td>0</td>\n",
              "      <td>0</td>\n",
              "      <td>0</td>\n",
              "      <td>0</td>\n",
              "      <td>0</td>\n",
              "      <td>0</td>\n",
              "      <td>0</td>\n",
              "      <td>0</td>\n",
              "      <td>0</td>\n",
              "      <td>...</td>\n",
              "      <td>EECCCEDBADBEAAAAEBAECEAAAAEEEBACCAC*CEAEDAECE</td>\n",
              "      <td>99999BABCDABBCBDDAAECADBDDADDCBCEEDCAEBCEAEABD...</td>\n",
              "      <td>CBDEBBCBDEBCABCDBDEDADCCBEDBCAECEBEBDEBAEECBC</td>\n",
              "      <td>1</td>\n",
              "      <td>BEEAAEBEEBADEADDADAEABCEDDDBCBCBCCACBCDADCCEB</td>\n",
              "      <td>EEBCEEDBADBBCBABCCADCEBACDBBACCACACBEADBBADCB</td>\n",
              "      <td>ADBBEDCABAABBCBCDAAECDDDBAAAECADECDCEBDEEAECBD...</td>\n",
              "      <td>BEDEEEAADBEBACABCDBABECECACADCBDCCEDCDABECDDD</td>\n",
              "      <td>1.0</td>\n",
              "      <td>100.0</td>\n",
              "      <td>120.0</td>\n",
              "      <td>120.0</td>\n",
              "      <td>120.0</td>\n",
              "      <td>40.0</td>\n",
              "      <td>500.0</td>\n",
              "      <td>E</td>\n",
              "      <td>C</td>\n",
              "      <td>A</td>\n",
              "      <td>A</td>\n",
              "      <td>1</td>\n",
              "      <td>B</td>\n",
              "      <td>A</td>\n",
              "      <td>B</td>\n",
              "      <td>C</td>\n",
              "      <td>A</td>\n",
              "      <td>A</td>\n",
              "      <td>B</td>\n",
              "      <td>A</td>\n",
              "      <td>A</td>\n",
              "      <td>A</td>\n",
              "      <td>A</td>\n",
              "      <td>A</td>\n",
              "      <td>A</td>\n",
              "      <td>B</td>\n",
              "      <td>A</td>\n",
              "      <td>A</td>\n",
              "      <td>B</td>\n",
              "      <td>A</td>\n",
              "      <td>A</td>\n",
              "      <td>B</td>\n",
              "    </tr>\n",
              "    <tr>\n",
              "      <th>4</th>\n",
              "      <td>190001004776</td>\n",
              "      <td>2019</td>\n",
              "      <td>1500800</td>\n",
              "      <td>Ananindeua</td>\n",
              "      <td>15</td>\n",
              "      <td>PA</td>\n",
              "      <td>16</td>\n",
              "      <td>F</td>\n",
              "      <td>1</td>\n",
              "      <td>3</td>\n",
              "      <td>1</td>\n",
              "      <td>1500800.0</td>\n",
              "      <td>Ananindeua</td>\n",
              "      <td>15.0</td>\n",
              "      <td>PA</td>\n",
              "      <td>3</td>\n",
              "      <td>0</td>\n",
              "      <td>1</td>\n",
              "      <td>NaN</td>\n",
              "      <td>1</td>\n",
              "      <td>NaN</td>\n",
              "      <td>NaN</td>\n",
              "      <td>NaN</td>\n",
              "      <td>NaN</td>\n",
              "      <td>NaN</td>\n",
              "      <td>NaN</td>\n",
              "      <td>NaN</td>\n",
              "      <td>NaN</td>\n",
              "      <td>0</td>\n",
              "      <td>0</td>\n",
              "      <td>0</td>\n",
              "      <td>0</td>\n",
              "      <td>0</td>\n",
              "      <td>0</td>\n",
              "      <td>0</td>\n",
              "      <td>0</td>\n",
              "      <td>0</td>\n",
              "      <td>0</td>\n",
              "      <td>0</td>\n",
              "      <td>0</td>\n",
              "      <td>...</td>\n",
              "      <td>CCBCBEACABACABBBBACCBCEBDCBABCADADCBCADBAADEA</td>\n",
              "      <td>EBCAB99999BBCECBCACBEACBDAABDBCBBDACEBBACDCAEC...</td>\n",
              "      <td>AECCBBCBBCBDEDECACBAABEDABBEDDADCEADDBEBDBBEB</td>\n",
              "      <td>0</td>\n",
              "      <td>DEADBAAAEBEECEBCBCBCBDADAEABCEDDDDADCBEECACBC</td>\n",
              "      <td>ACACEEBCCBABADBBBACDBBACCCCADCEBADCBEEDBBEADB</td>\n",
              "      <td>EBBADCABDABACBCEBDEEAAADDBECDECDDBADBCDAAECBCC...</td>\n",
              "      <td>AADDDBEEEBEDDBEBACABCDBABECECACAECDCBDCCEDCDA</td>\n",
              "      <td>1.0</td>\n",
              "      <td>160.0</td>\n",
              "      <td>140.0</td>\n",
              "      <td>160.0</td>\n",
              "      <td>160.0</td>\n",
              "      <td>160.0</td>\n",
              "      <td>780.0</td>\n",
              "      <td>E</td>\n",
              "      <td>E</td>\n",
              "      <td>B</td>\n",
              "      <td>D</td>\n",
              "      <td>3</td>\n",
              "      <td>E</td>\n",
              "      <td>A</td>\n",
              "      <td>B</td>\n",
              "      <td>C</td>\n",
              "      <td>B</td>\n",
              "      <td>A</td>\n",
              "      <td>B</td>\n",
              "      <td>A</td>\n",
              "      <td>A</td>\n",
              "      <td>A</td>\n",
              "      <td>A</td>\n",
              "      <td>A</td>\n",
              "      <td>A</td>\n",
              "      <td>B</td>\n",
              "      <td>A</td>\n",
              "      <td>A</td>\n",
              "      <td>D</td>\n",
              "      <td>A</td>\n",
              "      <td>A</td>\n",
              "      <td>B</td>\n",
              "    </tr>\n",
              "  </tbody>\n",
              "</table>\n",
              "<p>5 rows × 136 columns</p>\n",
              "</div>"
            ],
            "text/plain": [
              "   NU_INSCRICAO  NU_ANO  CO_MUNICIPIO_RESIDENCIA  ... Q023  Q024 Q025\n",
              "0  190001004661    2019                  1506138  ...    A     B    B\n",
              "1  190001004674    2019                  1504208  ...    A     A    B\n",
              "2  190001004722    2019                  1501402  ...    A     A    B\n",
              "3  190001004735    2019                  1507300  ...    A     A    B\n",
              "4  190001004776    2019                  1500800  ...    A     A    B\n",
              "\n",
              "[5 rows x 136 columns]"
            ]
          },
          "metadata": {
            "tags": []
          },
          "execution_count": 250
        }
      ]
    },
    {
      "cell_type": "code",
      "metadata": {
        "id": "4gu3OScxN1jm",
        "outputId": "5998f70c-91e7-485b-d67d-2f9bc1a33c6b",
        "colab": {
          "base_uri": "https://localhost:8080/"
        }
      },
      "source": [
        "dados_enem2019.shape #Visualizando o tamanho dos dados"
      ],
      "execution_count": 251,
      "outputs": [
        {
          "output_type": "execute_result",
          "data": {
            "text/plain": [
              "(127380, 136)"
            ]
          },
          "metadata": {
            "tags": []
          },
          "execution_count": 251
        }
      ]
    },
    {
      "cell_type": "markdown",
      "metadata": {
        "id": "jgXcPy1yN0ww"
      },
      "source": [
        "*Primordialmente, os dados foram carregados corretamente, contendo 136 variáveis para serem analisadas, cada uma com um fim e uma possível correlação com outra.*"
      ]
    },
    {
      "cell_type": "markdown",
      "metadata": {
        "id": "EYZ73sebYf8_"
      },
      "source": [
        "# **Análise Geral**\n",
        "\n",
        "\n",
        "---\n",
        "\n",
        "\n",
        "![](https://i.ibb.co/37V0PQs/Apresenta-o-sem-t-tulo-3.jpg)"
      ]
    },
    {
      "cell_type": "markdown",
      "metadata": {
        "id": "eoMBQ_CDYkCG"
      },
      "source": [
        "Para esta ocasião, estarei observando o dataset como um todo. Irei verificar a distribuição das idades, o que significa os valores NaN."
      ]
    },
    {
      "cell_type": "markdown",
      "metadata": {
        "id": "H_DzTiiWY9zc"
      },
      "source": [
        "## **Distribuição das idades**"
      ]
    },
    {
      "cell_type": "markdown",
      "metadata": {
        "id": "wLMiIV-1ZCv4"
      },
      "source": [
        "A idade do candidado pode ser explorada pela variável NU_IDADE, portanto, criarei gráficos e dataframes baseados nela."
      ]
    },
    {
      "cell_type": "code",
      "metadata": {
        "id": "PU2j--hrY9Mo",
        "outputId": "27a130eb-cb3f-4ea1-df02-7624d9e42cfb",
        "colab": {
          "base_uri": "https://localhost:8080/",
          "height": 406
        }
      },
      "source": [
        "idades_enem_2019 = dados_enem2019['NU_IDADE'] #Coletando a série\n",
        "pd.DataFrame(idades_enem_2019.value_counts(normalize = True)) #Verificando a proporção, do maior para o menor"
      ],
      "execution_count": 252,
      "outputs": [
        {
          "output_type": "execute_result",
          "data": {
            "text/html": [
              "<div>\n",
              "<style scoped>\n",
              "    .dataframe tbody tr th:only-of-type {\n",
              "        vertical-align: middle;\n",
              "    }\n",
              "\n",
              "    .dataframe tbody tr th {\n",
              "        vertical-align: top;\n",
              "    }\n",
              "\n",
              "    .dataframe thead th {\n",
              "        text-align: right;\n",
              "    }\n",
              "</style>\n",
              "<table border=\"1\" class=\"dataframe\">\n",
              "  <thead>\n",
              "    <tr style=\"text-align: right;\">\n",
              "      <th></th>\n",
              "      <th>NU_IDADE</th>\n",
              "    </tr>\n",
              "  </thead>\n",
              "  <tbody>\n",
              "    <tr>\n",
              "      <th>18</th>\n",
              "      <td>0.168409</td>\n",
              "    </tr>\n",
              "    <tr>\n",
              "      <th>17</th>\n",
              "      <td>0.166871</td>\n",
              "    </tr>\n",
              "    <tr>\n",
              "      <th>19</th>\n",
              "      <td>0.113189</td>\n",
              "    </tr>\n",
              "    <tr>\n",
              "      <th>20</th>\n",
              "      <td>0.081748</td>\n",
              "    </tr>\n",
              "    <tr>\n",
              "      <th>16</th>\n",
              "      <td>0.061470</td>\n",
              "    </tr>\n",
              "    <tr>\n",
              "      <th>...</th>\n",
              "      <td>...</td>\n",
              "    </tr>\n",
              "    <tr>\n",
              "      <th>75</th>\n",
              "      <td>0.000016</td>\n",
              "    </tr>\n",
              "    <tr>\n",
              "      <th>73</th>\n",
              "      <td>0.000016</td>\n",
              "    </tr>\n",
              "    <tr>\n",
              "      <th>82</th>\n",
              "      <td>0.000008</td>\n",
              "    </tr>\n",
              "    <tr>\n",
              "      <th>77</th>\n",
              "      <td>0.000008</td>\n",
              "    </tr>\n",
              "    <tr>\n",
              "      <th>76</th>\n",
              "      <td>0.000008</td>\n",
              "    </tr>\n",
              "  </tbody>\n",
              "</table>\n",
              "<p>65 rows × 1 columns</p>\n",
              "</div>"
            ],
            "text/plain": [
              "    NU_IDADE\n",
              "18  0.168409\n",
              "17  0.166871\n",
              "19  0.113189\n",
              "20  0.081748\n",
              "16  0.061470\n",
              "..       ...\n",
              "75  0.000016\n",
              "73  0.000016\n",
              "82  0.000008\n",
              "77  0.000008\n",
              "76  0.000008\n",
              "\n",
              "[65 rows x 1 columns]"
            ]
          },
          "metadata": {
            "tags": []
          },
          "execution_count": 252
        }
      ]
    },
    {
      "cell_type": "markdown",
      "metadata": {
        "id": "k5Xd3yHSZztF"
      },
      "source": [
        "A idade com maior frequência nos dados da amostra foi de candidatos com 18 anos."
      ]
    },
    {
      "cell_type": "code",
      "metadata": {
        "id": "cxfpo1R9bJGy",
        "outputId": "8af23a1e-bdcb-4c3e-bcc3-311fde571e41",
        "colab": {
          "base_uri": "https://localhost:8080/",
          "height": 524
        }
      },
      "source": [
        "plt.figure(figsize=(10, 8))\n",
        "sns.set_theme(style=\"whitegrid\")\n",
        "enem_media_idades = plt.axvline(x = idades_enem_2019.mean(), c = \"#05BA7F\", linewidth = 4, linestyle = '--')\n",
        "enem_mediana_idades = plt.axvline(x = idades_enem_2019.median(), c = \"#A558C4\", linewidth = 4, linestyle = ':')\n",
        "enem_moda_idades = plt.axvline(x = idades_enem_2019.mode()[0], c = \"#FF5733\", linewidth = 4, linestyle = '-.')\n",
        "plt.legend([enem_media_idades, enem_mediana_idades, enem_moda_idades], ['Média', 'Mediana', 'Moda'])\n",
        "sns.histplot(idades_enem_2019, bins = 35).set_title('Distribuição das Idades ENEM-2019', fontsize = 16);"
      ],
      "execution_count": 253,
      "outputs": [
        {
          "output_type": "display_data",
          "data": {
            "image/png": "[encoded data removed]",
            "text/plain": [
              "<Figure size 720x576 with 1 Axes>"
            ]
          },
          "metadata": {
            "tags": []
          }
        }
      ]
    },
    {
      "cell_type": "markdown",
      "metadata": {
        "id": "sCCumHrzcLk3"
      },
      "source": [
        "A partir do grafico acima, é visível que a concentração de dados está por volta dos candidatos entre 17 e 25 anos. Ressalto que o mesmo gráfico se assemelha a uma Distribuição de Poisson."
      ]
    },
    {
      "cell_type": "code",
      "metadata": {
        "id": "RkPISE9FdCB5",
        "outputId": "2b907a27-4943-4a5d-8b53-a347398bb83c",
        "colab": {
          "base_uri": "https://localhost:8080/",
          "height": 287
        }
      },
      "source": [
        "pd.DataFrame(idades_enem_2019.describe()) #Análise descritiva"
      ],
      "execution_count": 254,
      "outputs": [
        {
          "output_type": "execute_result",
          "data": {
            "text/html": [
              "<div>\n",
              "<style scoped>\n",
              "    .dataframe tbody tr th:only-of-type {\n",
              "        vertical-align: middle;\n",
              "    }\n",
              "\n",
              "    .dataframe tbody tr th {\n",
              "        vertical-align: top;\n",
              "    }\n",
              "\n",
              "    .dataframe thead th {\n",
              "        text-align: right;\n",
              "    }\n",
              "</style>\n",
              "<table border=\"1\" class=\"dataframe\">\n",
              "  <thead>\n",
              "    <tr style=\"text-align: right;\">\n",
              "      <th></th>\n",
              "      <th>NU_IDADE</th>\n",
              "    </tr>\n",
              "  </thead>\n",
              "  <tbody>\n",
              "    <tr>\n",
              "      <th>count</th>\n",
              "      <td>127380.000000</td>\n",
              "    </tr>\n",
              "    <tr>\n",
              "      <th>mean</th>\n",
              "      <td>22.094355</td>\n",
              "    </tr>\n",
              "    <tr>\n",
              "      <th>std</th>\n",
              "      <td>7.498707</td>\n",
              "    </tr>\n",
              "    <tr>\n",
              "      <th>min</th>\n",
              "      <td>13.000000</td>\n",
              "    </tr>\n",
              "    <tr>\n",
              "      <th>25%</th>\n",
              "      <td>18.000000</td>\n",
              "    </tr>\n",
              "    <tr>\n",
              "      <th>50%</th>\n",
              "      <td>19.000000</td>\n",
              "    </tr>\n",
              "    <tr>\n",
              "      <th>75%</th>\n",
              "      <td>24.000000</td>\n",
              "    </tr>\n",
              "    <tr>\n",
              "      <th>max</th>\n",
              "      <td>82.000000</td>\n",
              "    </tr>\n",
              "  </tbody>\n",
              "</table>\n",
              "</div>"
            ],
            "text/plain": [
              "            NU_IDADE\n",
              "count  127380.000000\n",
              "mean       22.094355\n",
              "std         7.498707\n",
              "min        13.000000\n",
              "25%        18.000000\n",
              "50%        19.000000\n",
              "75%        24.000000\n",
              "max        82.000000"
            ]
          },
          "metadata": {
            "tags": []
          },
          "execution_count": 254
        }
      ]
    },
    {
      "cell_type": "markdown",
      "metadata": {
        "id": "FEzPXGRSdPgQ"
      },
      "source": [
        "A média de idade, na amostra, é de aproximadamente 22 anos. Entretanto, a mediana é de 19 anos. É possível visualizar que, apesar da idade máxima ser 82 anos, o terceiro quartil está em 24 anos de idade, sendo assim, ao menos 75% dos candidados tinham 24 anos ou menos.\n",
        "Conclui-se, também, que as idades **NÃO** estão normalmente distribuídas."
      ]
    },
    {
      "cell_type": "markdown",
      "metadata": {
        "id": "y8ffeoc7d9lN"
      },
      "source": [
        "### **Encontrando a média de idade por município**"
      ]
    },
    {
      "cell_type": "code",
      "metadata": {
        "id": "4fVu76vgd9AB",
        "outputId": "e432752e-3e64-4557-9b82-6f791ec9e23d",
        "colab": {
          "base_uri": "https://localhost:8080/",
          "height": 0
        }
      },
      "source": [
        "media_idade_municipio = pd.DataFrame(dados_enem2019.groupby(['NO_MUNICIPIO_RESIDENCIA']).mean()['NU_IDADE'])\n",
        "media_idade_municipio.loc[media_idade_municipio['NU_IDADE'] == media_idade_municipio['NU_IDADE'].max()] #O Município com a média mais alta"
      ],
      "execution_count": 255,
      "outputs": [
        {
          "output_type": "execute_result",
          "data": {
            "text/html": [
              "<div>\n",
              "<style scoped>\n",
              "    .dataframe tbody tr th:only-of-type {\n",
              "        vertical-align: middle;\n",
              "    }\n",
              "\n",
              "    .dataframe tbody tr th {\n",
              "        vertical-align: top;\n",
              "    }\n",
              "\n",
              "    .dataframe thead th {\n",
              "        text-align: right;\n",
              "    }\n",
              "</style>\n",
              "<table border=\"1\" class=\"dataframe\">\n",
              "  <thead>\n",
              "    <tr style=\"text-align: right;\">\n",
              "      <th></th>\n",
              "      <th>NU_IDADE</th>\n",
              "    </tr>\n",
              "    <tr>\n",
              "      <th>NO_MUNICIPIO_RESIDENCIA</th>\n",
              "      <th></th>\n",
              "    </tr>\n",
              "  </thead>\n",
              "  <tbody>\n",
              "    <tr>\n",
              "      <th>Lagoa dos Patos</th>\n",
              "      <td>50.0</td>\n",
              "    </tr>\n",
              "  </tbody>\n",
              "</table>\n",
              "</div>"
            ],
            "text/plain": [
              "                         NU_IDADE\n",
              "NO_MUNICIPIO_RESIDENCIA          \n",
              "Lagoa dos Patos              50.0"
            ]
          },
          "metadata": {
            "tags": []
          },
          "execution_count": 255
        }
      ]
    },
    {
      "cell_type": "code",
      "metadata": {
        "id": "dF_ZEC08fsYQ",
        "outputId": "cee48879-1e30-4df8-e15a-c62a25cfd2f1",
        "colab": {
          "base_uri": "https://localhost:8080/",
          "height": 0
        }
      },
      "source": [
        "media_idade_municipio.loc[media_idade_municipio['NU_IDADE'] == media_idade_municipio['NU_IDADE'].min()] #O Município com a média mais baixa"
      ],
      "execution_count": 256,
      "outputs": [
        {
          "output_type": "execute_result",
          "data": {
            "text/html": [
              "<div>\n",
              "<style scoped>\n",
              "    .dataframe tbody tr th:only-of-type {\n",
              "        vertical-align: middle;\n",
              "    }\n",
              "\n",
              "    .dataframe tbody tr th {\n",
              "        vertical-align: top;\n",
              "    }\n",
              "\n",
              "    .dataframe thead th {\n",
              "        text-align: right;\n",
              "    }\n",
              "</style>\n",
              "<table border=\"1\" class=\"dataframe\">\n",
              "  <thead>\n",
              "    <tr style=\"text-align: right;\">\n",
              "      <th></th>\n",
              "      <th>NU_IDADE</th>\n",
              "    </tr>\n",
              "    <tr>\n",
              "      <th>NO_MUNICIPIO_RESIDENCIA</th>\n",
              "      <th></th>\n",
              "    </tr>\n",
              "  </thead>\n",
              "  <tbody>\n",
              "    <tr>\n",
              "      <th>Grupiara</th>\n",
              "      <td>14.0</td>\n",
              "    </tr>\n",
              "  </tbody>\n",
              "</table>\n",
              "</div>"
            ],
            "text/plain": [
              "                         NU_IDADE\n",
              "NO_MUNICIPIO_RESIDENCIA          \n",
              "Grupiara                     14.0"
            ]
          },
          "metadata": {
            "tags": []
          },
          "execution_count": 256
        }
      ]
    },
    {
      "cell_type": "code",
      "metadata": {
        "id": "6CW1UcZ3dPDa",
        "outputId": "bfc9eb5d-88e8-47f2-a1f4-e4be6f994631",
        "colab": {
          "base_uri": "https://localhost:8080/",
          "height": 0
        }
      },
      "source": [
        "municipio_idade = media_idade_municipio.index\n",
        "media_idade_municipio['Cidade'] = municipio_idade\n",
        "media_idade_municipio.head()"
      ],
      "execution_count": 257,
      "outputs": [
        {
          "output_type": "execute_result",
          "data": {
            "text/html": [
              "<div>\n",
              "<style scoped>\n",
              "    .dataframe tbody tr th:only-of-type {\n",
              "        vertical-align: middle;\n",
              "    }\n",
              "\n",
              "    .dataframe tbody tr th {\n",
              "        vertical-align: top;\n",
              "    }\n",
              "\n",
              "    .dataframe thead th {\n",
              "        text-align: right;\n",
              "    }\n",
              "</style>\n",
              "<table border=\"1\" class=\"dataframe\">\n",
              "  <thead>\n",
              "    <tr style=\"text-align: right;\">\n",
              "      <th></th>\n",
              "      <th>NU_IDADE</th>\n",
              "      <th>Cidade</th>\n",
              "    </tr>\n",
              "    <tr>\n",
              "      <th>NO_MUNICIPIO_RESIDENCIA</th>\n",
              "      <th></th>\n",
              "      <th></th>\n",
              "    </tr>\n",
              "  </thead>\n",
              "  <tbody>\n",
              "    <tr>\n",
              "      <th>Abadia de Goiás</th>\n",
              "      <td>22.928571</td>\n",
              "      <td>Abadia de Goiás</td>\n",
              "    </tr>\n",
              "    <tr>\n",
              "      <th>Abadia dos Dourados</th>\n",
              "      <td>20.875000</td>\n",
              "      <td>Abadia dos Dourados</td>\n",
              "    </tr>\n",
              "    <tr>\n",
              "      <th>Abadiânia</th>\n",
              "      <td>19.181818</td>\n",
              "      <td>Abadiânia</td>\n",
              "    </tr>\n",
              "    <tr>\n",
              "      <th>Abaetetuba</th>\n",
              "      <td>23.587879</td>\n",
              "      <td>Abaetetuba</td>\n",
              "    </tr>\n",
              "    <tr>\n",
              "      <th>Abaeté</th>\n",
              "      <td>21.769231</td>\n",
              "      <td>Abaeté</td>\n",
              "    </tr>\n",
              "  </tbody>\n",
              "</table>\n",
              "</div>"
            ],
            "text/plain": [
              "                          NU_IDADE               Cidade\n",
              "NO_MUNICIPIO_RESIDENCIA                                \n",
              "Abadia de Goiás          22.928571      Abadia de Goiás\n",
              "Abadia dos Dourados      20.875000  Abadia dos Dourados\n",
              "Abadiânia                19.181818            Abadiânia\n",
              "Abaetetuba               23.587879           Abaetetuba\n",
              "Abaeté                   21.769231               Abaeté"
            ]
          },
          "metadata": {
            "tags": []
          },
          "execution_count": 257
        }
      ]
    },
    {
      "cell_type": "markdown",
      "metadata": {
        "id": "tBSPBfBegapl"
      },
      "source": [
        "**Importarei um dataset que analisa a longitude e latidude de cada município a fim de gerar um gráfico cartográfico**"
      ]
    },
    {
      "cell_type": "code",
      "metadata": {
        "id": "aP1QLcN5giR4",
        "outputId": "6234efff-6535-4d41-c5c1-76de061d1eb0",
        "colab": {
          "base_uri": "https://localhost:8080/",
          "height": 0
        }
      },
      "source": [
        "site = 'https://github.com/kelvins/Municipios-Brasileiros/blob/main/csv/municipios.csv?raw=true'\n",
        "\n",
        "coordenadas = pd.read_csv(site)\n",
        "\n",
        "concatenado_idade = pd.merge(media_idade_municipio, coordenadas, how = 'left', left_on=['Cidade'], right_on = ['nome'])\n",
        "\n",
        "concatenado_idade.plot.scatter(y='latitude', x = 'longitude', \n",
        "                         c = concatenado_idade['NU_IDADE'],\n",
        "                         cmap = 'PiYG',\n",
        "                         figsize = (12,10)).set_title('Média de Idade ENEM 2019 por Município',  fontsize = 16);"
      ],
      "execution_count": 258,
      "outputs": [
        {
          "output_type": "display_data",
          "data": {
            "image/png": "[encoded data removed]",
            "text/plain": [
              "<Figure size 864x720 with 2 Axes>"
            ]
          },
          "metadata": {
            "tags": []
          }
        }
      ]
    },
    {
      "cell_type": "markdown",
      "metadata": {
        "id": "2Oz3PlENiMlF"
      },
      "source": [
        "No gráfico acima, visualiza-se que a região mais escura (de acordo com a escala) tende à região Sul/Sudeste. Em contrapartida, o nordeste se apresenta levemente com uma cor mais clara. Isso ressalta que, as regiões mais ao Sul do país apresentam idades mais novas em candidatos no ENEM 2019.\n",
        "\n",
        "Levanto a hipótese de uma possível política de incentivo maior às crianças e aos secundaristas."
      ]
    },
    {
      "cell_type": "markdown",
      "metadata": {
        "id": "RDlVLt1MjegJ"
      },
      "source": [
        "**Qual estado predomina com candidatos mais novos?**"
      ]
    },
    {
      "cell_type": "code",
      "metadata": {
        "id": "FeRPaNbTja4f",
        "outputId": "3ac07644-8b0f-4bcb-a939-ce8228224db8",
        "colab": {
          "base_uri": "https://localhost:8080/",
          "height": 0
        }
      },
      "source": [
        "novos_idade_enem2019 = dados_enem2019.query('NU_IDADE <= 17')\n",
        "\n",
        "prop_novos_idade_enem2019 = pd.DataFrame(novos_idade_enem2019['SG_UF_RESIDENCIA'].value_counts(normalize = True)*100)\n",
        "\n",
        "#Plotando o gráfico com a escala da proporção \n",
        "plt.figure(figsize=(10, 8))\n",
        "sns.set_theme(style=\"whitegrid\")\n",
        "ax = sns.barplot(x=prop_novos_idade_enem2019.index, y = prop_novos_idade_enem2019['SG_UF_RESIDENCIA'], data=prop_novos_idade_enem2019).set_title('Proporção de candidatos com Idade menor que 17 por Estado',  fontsize = 16)"
      ],
      "execution_count": 259,
      "outputs": [
        {
          "output_type": "display_data",
          "data": {
            "image/png": "[encoded data removed]",
            "text/plain": [
              "<Figure size 720x576 with 1 Axes>"
            ]
          },
          "metadata": {
            "tags": []
          }
        }
      ]
    },
    {
      "cell_type": "markdown",
      "metadata": {
        "id": "t9idkT9Nkpos"
      },
      "source": [
        "O Estado com candidatos mais jovens foi o de São Paulo. Em sequência, segue o estado de Minas Gerais. Esse atributo pode reforçar o mapa anterior proposto, demonstrando o escurecimento na região Sudeste e Sul."
      ]
    },
    {
      "cell_type": "markdown",
      "metadata": {
        "id": "itDM4svQZ9HM"
      },
      "source": [
        "### **Qual a idade mais alta que participou no enem do 2019?**"
      ]
    },
    {
      "cell_type": "markdown",
      "metadata": {
        "id": "dEu9oy7TaJ5L"
      },
      "source": [
        "Esta pergunta pode ser respondida pela seguinte análise:"
      ]
    },
    {
      "cell_type": "code",
      "metadata": {
        "id": "e4SU2Yx4Z8WE",
        "outputId": "772191e9-48bb-42f3-9e70-6d05c7532143",
        "colab": {
          "base_uri": "https://localhost:8080/",
          "height": 0
        }
      },
      "source": [
        "dados_enem2019.loc[dados_enem2019['NU_IDADE'] == dados_enem2019['NU_IDADE'].max()]"
      ],
      "execution_count": 260,
      "outputs": [
        {
          "output_type": "execute_result",
          "data": {
            "text/html": [
              "<div>\n",
              "<style scoped>\n",
              "    .dataframe tbody tr th:only-of-type {\n",
              "        vertical-align: middle;\n",
              "    }\n",
              "\n",
              "    .dataframe tbody tr th {\n",
              "        vertical-align: top;\n",
              "    }\n",
              "\n",
              "    .dataframe thead th {\n",
              "        text-align: right;\n",
              "    }\n",
              "</style>\n",
              "<table border=\"1\" class=\"dataframe\">\n",
              "  <thead>\n",
              "    <tr style=\"text-align: right;\">\n",
              "      <th></th>\n",
              "      <th>NU_INSCRICAO</th>\n",
              "      <th>NU_ANO</th>\n",
              "      <th>CO_MUNICIPIO_RESIDENCIA</th>\n",
              "      <th>NO_MUNICIPIO_RESIDENCIA</th>\n",
              "      <th>CO_UF_RESIDENCIA</th>\n",
              "      <th>SG_UF_RESIDENCIA</th>\n",
              "      <th>NU_IDADE</th>\n",
              "      <th>TP_SEXO</th>\n",
              "      <th>TP_ESTADO_CIVIL</th>\n",
              "      <th>TP_COR_RACA</th>\n",
              "      <th>TP_NACIONALIDADE</th>\n",
              "      <th>CO_MUNICIPIO_NASCIMENTO</th>\n",
              "      <th>NO_MUNICIPIO_NASCIMENTO</th>\n",
              "      <th>CO_UF_NASCIMENTO</th>\n",
              "      <th>SG_UF_NASCIMENTO</th>\n",
              "      <th>TP_ST_CONCLUSAO</th>\n",
              "      <th>TP_ANO_CONCLUIU</th>\n",
              "      <th>TP_ESCOLA</th>\n",
              "      <th>TP_ENSINO</th>\n",
              "      <th>IN_TREINEIRO</th>\n",
              "      <th>CO_ESCOLA</th>\n",
              "      <th>CO_MUNICIPIO_ESC</th>\n",
              "      <th>NO_MUNICIPIO_ESC</th>\n",
              "      <th>CO_UF_ESC</th>\n",
              "      <th>SG_UF_ESC</th>\n",
              "      <th>TP_DEPENDENCIA_ADM_ESC</th>\n",
              "      <th>TP_LOCALIZACAO_ESC</th>\n",
              "      <th>TP_SIT_FUNC_ESC</th>\n",
              "      <th>IN_BAIXA_VISAO</th>\n",
              "      <th>IN_CEGUEIRA</th>\n",
              "      <th>IN_SURDEZ</th>\n",
              "      <th>IN_DEFICIENCIA_AUDITIVA</th>\n",
              "      <th>IN_SURDO_CEGUEIRA</th>\n",
              "      <th>IN_DEFICIENCIA_FISICA</th>\n",
              "      <th>IN_DEFICIENCIA_MENTAL</th>\n",
              "      <th>IN_DEFICIT_ATENCAO</th>\n",
              "      <th>IN_DISLEXIA</th>\n",
              "      <th>IN_DISCALCULIA</th>\n",
              "      <th>IN_AUTISMO</th>\n",
              "      <th>IN_VISAO_MONOCULAR</th>\n",
              "      <th>...</th>\n",
              "      <th>TX_RESPOSTAS_CH</th>\n",
              "      <th>TX_RESPOSTAS_LC</th>\n",
              "      <th>TX_RESPOSTAS_MT</th>\n",
              "      <th>TP_LINGUA</th>\n",
              "      <th>TX_GABARITO_CN</th>\n",
              "      <th>TX_GABARITO_CH</th>\n",
              "      <th>TX_GABARITO_LC</th>\n",
              "      <th>TX_GABARITO_MT</th>\n",
              "      <th>TP_STATUS_REDACAO</th>\n",
              "      <th>NU_NOTA_COMP1</th>\n",
              "      <th>NU_NOTA_COMP2</th>\n",
              "      <th>NU_NOTA_COMP3</th>\n",
              "      <th>NU_NOTA_COMP4</th>\n",
              "      <th>NU_NOTA_COMP5</th>\n",
              "      <th>NU_NOTA_REDACAO</th>\n",
              "      <th>Q001</th>\n",
              "      <th>Q002</th>\n",
              "      <th>Q003</th>\n",
              "      <th>Q004</th>\n",
              "      <th>Q005</th>\n",
              "      <th>Q006</th>\n",
              "      <th>Q007</th>\n",
              "      <th>Q008</th>\n",
              "      <th>Q009</th>\n",
              "      <th>Q010</th>\n",
              "      <th>Q011</th>\n",
              "      <th>Q012</th>\n",
              "      <th>Q013</th>\n",
              "      <th>Q014</th>\n",
              "      <th>Q015</th>\n",
              "      <th>Q016</th>\n",
              "      <th>Q017</th>\n",
              "      <th>Q018</th>\n",
              "      <th>Q019</th>\n",
              "      <th>Q020</th>\n",
              "      <th>Q021</th>\n",
              "      <th>Q022</th>\n",
              "      <th>Q023</th>\n",
              "      <th>Q024</th>\n",
              "      <th>Q025</th>\n",
              "    </tr>\n",
              "  </thead>\n",
              "  <tbody>\n",
              "    <tr>\n",
              "      <th>85002</th>\n",
              "      <td>190004396266</td>\n",
              "      <td>2019</td>\n",
              "      <td>3303302</td>\n",
              "      <td>Niterói</td>\n",
              "      <td>33</td>\n",
              "      <td>RJ</td>\n",
              "      <td>82</td>\n",
              "      <td>F</td>\n",
              "      <td>4</td>\n",
              "      <td>1</td>\n",
              "      <td>1</td>\n",
              "      <td>3303302.0</td>\n",
              "      <td>Niterói</td>\n",
              "      <td>33.0</td>\n",
              "      <td>RJ</td>\n",
              "      <td>1</td>\n",
              "      <td>13</td>\n",
              "      <td>1</td>\n",
              "      <td>NaN</td>\n",
              "      <td>0</td>\n",
              "      <td>NaN</td>\n",
              "      <td>NaN</td>\n",
              "      <td>NaN</td>\n",
              "      <td>NaN</td>\n",
              "      <td>NaN</td>\n",
              "      <td>NaN</td>\n",
              "      <td>NaN</td>\n",
              "      <td>NaN</td>\n",
              "      <td>0</td>\n",
              "      <td>0</td>\n",
              "      <td>0</td>\n",
              "      <td>0</td>\n",
              "      <td>0</td>\n",
              "      <td>0</td>\n",
              "      <td>0</td>\n",
              "      <td>0</td>\n",
              "      <td>0</td>\n",
              "      <td>0</td>\n",
              "      <td>0</td>\n",
              "      <td>0</td>\n",
              "      <td>...</td>\n",
              "      <td>NaN</td>\n",
              "      <td>NaN</td>\n",
              "      <td>NaN</td>\n",
              "      <td>0</td>\n",
              "      <td>NaN</td>\n",
              "      <td>NaN</td>\n",
              "      <td>NaN</td>\n",
              "      <td>NaN</td>\n",
              "      <td>NaN</td>\n",
              "      <td>NaN</td>\n",
              "      <td>NaN</td>\n",
              "      <td>NaN</td>\n",
              "      <td>NaN</td>\n",
              "      <td>NaN</td>\n",
              "      <td>NaN</td>\n",
              "      <td>F</td>\n",
              "      <td>B</td>\n",
              "      <td>E</td>\n",
              "      <td>C</td>\n",
              "      <td>2</td>\n",
              "      <td>P</td>\n",
              "      <td>B</td>\n",
              "      <td>C</td>\n",
              "      <td>D</td>\n",
              "      <td>A</td>\n",
              "      <td>A</td>\n",
              "      <td>B</td>\n",
              "      <td>B</td>\n",
              "      <td>B</td>\n",
              "      <td>A</td>\n",
              "      <td>B</td>\n",
              "      <td>A</td>\n",
              "      <td>A</td>\n",
              "      <td>D</td>\n",
              "      <td>B</td>\n",
              "      <td>B</td>\n",
              "      <td>D</td>\n",
              "      <td>B</td>\n",
              "      <td>C</td>\n",
              "      <td>B</td>\n",
              "    </tr>\n",
              "  </tbody>\n",
              "</table>\n",
              "<p>1 rows × 136 columns</p>\n",
              "</div>"
            ],
            "text/plain": [
              "       NU_INSCRICAO  NU_ANO  CO_MUNICIPIO_RESIDENCIA  ... Q023  Q024 Q025\n",
              "85002  190004396266    2019                  3303302  ...    B     C    B\n",
              "\n",
              "[1 rows x 136 columns]"
            ]
          },
          "metadata": {
            "tags": []
          },
          "execution_count": 260
        }
      ]
    },
    {
      "cell_type": "markdown",
      "metadata": {
        "id": "9OwbCcPwaowv"
      },
      "source": [
        "*O candidato mais idoso da amostra tinha 82 anos e residia em Niterói.*"
      ]
    },
    {
      "cell_type": "markdown",
      "metadata": {
        "id": "McZXZLSRa0rE"
      },
      "source": [
        "### **Qual a idade mais baixa que participou no enem do 2019?**"
      ]
    },
    {
      "cell_type": "code",
      "metadata": {
        "id": "_seovTq3YjLt",
        "outputId": "cebe4b16-c365-469b-cbd2-9fde0a54a91e",
        "colab": {
          "base_uri": "https://localhost:8080/",
          "height": 0
        }
      },
      "source": [
        "dados_enem2019.loc[dados_enem2019['NU_IDADE'] == dados_enem2019['NU_IDADE'].min()]"
      ],
      "execution_count": 261,
      "outputs": [
        {
          "output_type": "execute_result",
          "data": {
            "text/html": [
              "<div>\n",
              "<style scoped>\n",
              "    .dataframe tbody tr th:only-of-type {\n",
              "        vertical-align: middle;\n",
              "    }\n",
              "\n",
              "    .dataframe tbody tr th {\n",
              "        vertical-align: top;\n",
              "    }\n",
              "\n",
              "    .dataframe thead th {\n",
              "        text-align: right;\n",
              "    }\n",
              "</style>\n",
              "<table border=\"1\" class=\"dataframe\">\n",
              "  <thead>\n",
              "    <tr style=\"text-align: right;\">\n",
              "      <th></th>\n",
              "      <th>NU_INSCRICAO</th>\n",
              "      <th>NU_ANO</th>\n",
              "      <th>CO_MUNICIPIO_RESIDENCIA</th>\n",
              "      <th>NO_MUNICIPIO_RESIDENCIA</th>\n",
              "      <th>CO_UF_RESIDENCIA</th>\n",
              "      <th>SG_UF_RESIDENCIA</th>\n",
              "      <th>NU_IDADE</th>\n",
              "      <th>TP_SEXO</th>\n",
              "      <th>TP_ESTADO_CIVIL</th>\n",
              "      <th>TP_COR_RACA</th>\n",
              "      <th>TP_NACIONALIDADE</th>\n",
              "      <th>CO_MUNICIPIO_NASCIMENTO</th>\n",
              "      <th>NO_MUNICIPIO_NASCIMENTO</th>\n",
              "      <th>CO_UF_NASCIMENTO</th>\n",
              "      <th>SG_UF_NASCIMENTO</th>\n",
              "      <th>TP_ST_CONCLUSAO</th>\n",
              "      <th>TP_ANO_CONCLUIU</th>\n",
              "      <th>TP_ESCOLA</th>\n",
              "      <th>TP_ENSINO</th>\n",
              "      <th>IN_TREINEIRO</th>\n",
              "      <th>CO_ESCOLA</th>\n",
              "      <th>CO_MUNICIPIO_ESC</th>\n",
              "      <th>NO_MUNICIPIO_ESC</th>\n",
              "      <th>CO_UF_ESC</th>\n",
              "      <th>SG_UF_ESC</th>\n",
              "      <th>TP_DEPENDENCIA_ADM_ESC</th>\n",
              "      <th>TP_LOCALIZACAO_ESC</th>\n",
              "      <th>TP_SIT_FUNC_ESC</th>\n",
              "      <th>IN_BAIXA_VISAO</th>\n",
              "      <th>IN_CEGUEIRA</th>\n",
              "      <th>IN_SURDEZ</th>\n",
              "      <th>IN_DEFICIENCIA_AUDITIVA</th>\n",
              "      <th>IN_SURDO_CEGUEIRA</th>\n",
              "      <th>IN_DEFICIENCIA_FISICA</th>\n",
              "      <th>IN_DEFICIENCIA_MENTAL</th>\n",
              "      <th>IN_DEFICIT_ATENCAO</th>\n",
              "      <th>IN_DISLEXIA</th>\n",
              "      <th>IN_DISCALCULIA</th>\n",
              "      <th>IN_AUTISMO</th>\n",
              "      <th>IN_VISAO_MONOCULAR</th>\n",
              "      <th>...</th>\n",
              "      <th>TX_RESPOSTAS_CH</th>\n",
              "      <th>TX_RESPOSTAS_LC</th>\n",
              "      <th>TX_RESPOSTAS_MT</th>\n",
              "      <th>TP_LINGUA</th>\n",
              "      <th>TX_GABARITO_CN</th>\n",
              "      <th>TX_GABARITO_CH</th>\n",
              "      <th>TX_GABARITO_LC</th>\n",
              "      <th>TX_GABARITO_MT</th>\n",
              "      <th>TP_STATUS_REDACAO</th>\n",
              "      <th>NU_NOTA_COMP1</th>\n",
              "      <th>NU_NOTA_COMP2</th>\n",
              "      <th>NU_NOTA_COMP3</th>\n",
              "      <th>NU_NOTA_COMP4</th>\n",
              "      <th>NU_NOTA_COMP5</th>\n",
              "      <th>NU_NOTA_REDACAO</th>\n",
              "      <th>Q001</th>\n",
              "      <th>Q002</th>\n",
              "      <th>Q003</th>\n",
              "      <th>Q004</th>\n",
              "      <th>Q005</th>\n",
              "      <th>Q006</th>\n",
              "      <th>Q007</th>\n",
              "      <th>Q008</th>\n",
              "      <th>Q009</th>\n",
              "      <th>Q010</th>\n",
              "      <th>Q011</th>\n",
              "      <th>Q012</th>\n",
              "      <th>Q013</th>\n",
              "      <th>Q014</th>\n",
              "      <th>Q015</th>\n",
              "      <th>Q016</th>\n",
              "      <th>Q017</th>\n",
              "      <th>Q018</th>\n",
              "      <th>Q019</th>\n",
              "      <th>Q020</th>\n",
              "      <th>Q021</th>\n",
              "      <th>Q022</th>\n",
              "      <th>Q023</th>\n",
              "      <th>Q024</th>\n",
              "      <th>Q025</th>\n",
              "    </tr>\n",
              "  </thead>\n",
              "  <tbody>\n",
              "    <tr>\n",
              "      <th>57359</th>\n",
              "      <td>190003297248</td>\n",
              "      <td>2019</td>\n",
              "      <td>3504107</td>\n",
              "      <td>Atibaia</td>\n",
              "      <td>35</td>\n",
              "      <td>SP</td>\n",
              "      <td>13</td>\n",
              "      <td>F</td>\n",
              "      <td>1</td>\n",
              "      <td>1</td>\n",
              "      <td>1</td>\n",
              "      <td>3556701.0</td>\n",
              "      <td>Vinhedo</td>\n",
              "      <td>35.0</td>\n",
              "      <td>SP</td>\n",
              "      <td>4</td>\n",
              "      <td>0</td>\n",
              "      <td>1</td>\n",
              "      <td>NaN</td>\n",
              "      <td>0</td>\n",
              "      <td>NaN</td>\n",
              "      <td>NaN</td>\n",
              "      <td>NaN</td>\n",
              "      <td>NaN</td>\n",
              "      <td>NaN</td>\n",
              "      <td>NaN</td>\n",
              "      <td>NaN</td>\n",
              "      <td>NaN</td>\n",
              "      <td>0</td>\n",
              "      <td>0</td>\n",
              "      <td>0</td>\n",
              "      <td>0</td>\n",
              "      <td>0</td>\n",
              "      <td>0</td>\n",
              "      <td>0</td>\n",
              "      <td>0</td>\n",
              "      <td>0</td>\n",
              "      <td>0</td>\n",
              "      <td>0</td>\n",
              "      <td>0</td>\n",
              "      <td>...</td>\n",
              "      <td>CAEBCEBECAABCDBEEAEDDBCBACBCECAABDCACEABAEADC</td>\n",
              "      <td>BAAEC99999BCCDDEDACBAADECADBEADBADDBECADEBCBDA...</td>\n",
              "      <td>AABDCEACDDBEDABDDACBDECABACDDBAECDBECBBDEBCDA</td>\n",
              "      <td>0</td>\n",
              "      <td>DEADBAAAEBEECEBCBCBCBDADAEABCEDDDDADCBEECACBC</td>\n",
              "      <td>ACACEEBCCBABADBBBACDBBACCCCADCEBADCBEEDBBEADB</td>\n",
              "      <td>EBBADCABDABACBCEBDEEAAADDBECDECDDBADBCDAAECBCC...</td>\n",
              "      <td>AADDDBEEEBEDDBEBACABCDBABECECACAECDCBDCCEDCDA</td>\n",
              "      <td>1.0</td>\n",
              "      <td>160.0</td>\n",
              "      <td>200.0</td>\n",
              "      <td>200.0</td>\n",
              "      <td>200.0</td>\n",
              "      <td>160.0</td>\n",
              "      <td>920.0</td>\n",
              "      <td>E</td>\n",
              "      <td>G</td>\n",
              "      <td>C</td>\n",
              "      <td>D</td>\n",
              "      <td>3</td>\n",
              "      <td>F</td>\n",
              "      <td>A</td>\n",
              "      <td>C</td>\n",
              "      <td>C</td>\n",
              "      <td>B</td>\n",
              "      <td>A</td>\n",
              "      <td>B</td>\n",
              "      <td>B</td>\n",
              "      <td>B</td>\n",
              "      <td>A</td>\n",
              "      <td>B</td>\n",
              "      <td>A</td>\n",
              "      <td>A</td>\n",
              "      <td>B</td>\n",
              "      <td>A</td>\n",
              "      <td>A</td>\n",
              "      <td>D</td>\n",
              "      <td>B</td>\n",
              "      <td>B</td>\n",
              "      <td>B</td>\n",
              "    </tr>\n",
              "    <tr>\n",
              "      <th>95630</th>\n",
              "      <td>190004825557</td>\n",
              "      <td>2019</td>\n",
              "      <td>5107602</td>\n",
              "      <td>Rondonópolis</td>\n",
              "      <td>51</td>\n",
              "      <td>MT</td>\n",
              "      <td>13</td>\n",
              "      <td>M</td>\n",
              "      <td>1</td>\n",
              "      <td>1</td>\n",
              "      <td>1</td>\n",
              "      <td>5107602.0</td>\n",
              "      <td>Rondonópolis</td>\n",
              "      <td>51.0</td>\n",
              "      <td>MT</td>\n",
              "      <td>4</td>\n",
              "      <td>0</td>\n",
              "      <td>1</td>\n",
              "      <td>NaN</td>\n",
              "      <td>0</td>\n",
              "      <td>NaN</td>\n",
              "      <td>NaN</td>\n",
              "      <td>NaN</td>\n",
              "      <td>NaN</td>\n",
              "      <td>NaN</td>\n",
              "      <td>NaN</td>\n",
              "      <td>NaN</td>\n",
              "      <td>NaN</td>\n",
              "      <td>0</td>\n",
              "      <td>0</td>\n",
              "      <td>0</td>\n",
              "      <td>0</td>\n",
              "      <td>0</td>\n",
              "      <td>0</td>\n",
              "      <td>0</td>\n",
              "      <td>0</td>\n",
              "      <td>0</td>\n",
              "      <td>0</td>\n",
              "      <td>0</td>\n",
              "      <td>0</td>\n",
              "      <td>...</td>\n",
              "      <td>NaN</td>\n",
              "      <td>NaN</td>\n",
              "      <td>NaN</td>\n",
              "      <td>0</td>\n",
              "      <td>NaN</td>\n",
              "      <td>NaN</td>\n",
              "      <td>NaN</td>\n",
              "      <td>NaN</td>\n",
              "      <td>NaN</td>\n",
              "      <td>NaN</td>\n",
              "      <td>NaN</td>\n",
              "      <td>NaN</td>\n",
              "      <td>NaN</td>\n",
              "      <td>NaN</td>\n",
              "      <td>NaN</td>\n",
              "      <td>E</td>\n",
              "      <td>E</td>\n",
              "      <td>C</td>\n",
              "      <td>D</td>\n",
              "      <td>3</td>\n",
              "      <td>F</td>\n",
              "      <td>A</td>\n",
              "      <td>B</td>\n",
              "      <td>C</td>\n",
              "      <td>B</td>\n",
              "      <td>A</td>\n",
              "      <td>B</td>\n",
              "      <td>A</td>\n",
              "      <td>A</td>\n",
              "      <td>A</td>\n",
              "      <td>A</td>\n",
              "      <td>A</td>\n",
              "      <td>A</td>\n",
              "      <td>B</td>\n",
              "      <td>B</td>\n",
              "      <td>A</td>\n",
              "      <td>B</td>\n",
              "      <td>A</td>\n",
              "      <td>A</td>\n",
              "      <td>B</td>\n",
              "    </tr>\n",
              "    <tr>\n",
              "      <th>98197</th>\n",
              "      <td>190004926952</td>\n",
              "      <td>2019</td>\n",
              "      <td>1600303</td>\n",
              "      <td>Macapá</td>\n",
              "      <td>16</td>\n",
              "      <td>AP</td>\n",
              "      <td>13</td>\n",
              "      <td>M</td>\n",
              "      <td>1</td>\n",
              "      <td>3</td>\n",
              "      <td>1</td>\n",
              "      <td>1600303.0</td>\n",
              "      <td>Macapá</td>\n",
              "      <td>16.0</td>\n",
              "      <td>AP</td>\n",
              "      <td>4</td>\n",
              "      <td>0</td>\n",
              "      <td>1</td>\n",
              "      <td>NaN</td>\n",
              "      <td>0</td>\n",
              "      <td>NaN</td>\n",
              "      <td>NaN</td>\n",
              "      <td>NaN</td>\n",
              "      <td>NaN</td>\n",
              "      <td>NaN</td>\n",
              "      <td>NaN</td>\n",
              "      <td>NaN</td>\n",
              "      <td>NaN</td>\n",
              "      <td>0</td>\n",
              "      <td>0</td>\n",
              "      <td>0</td>\n",
              "      <td>0</td>\n",
              "      <td>0</td>\n",
              "      <td>0</td>\n",
              "      <td>0</td>\n",
              "      <td>0</td>\n",
              "      <td>0</td>\n",
              "      <td>0</td>\n",
              "      <td>0</td>\n",
              "      <td>0</td>\n",
              "      <td>...</td>\n",
              "      <td>NaN</td>\n",
              "      <td>NaN</td>\n",
              "      <td>NaN</td>\n",
              "      <td>1</td>\n",
              "      <td>NaN</td>\n",
              "      <td>NaN</td>\n",
              "      <td>NaN</td>\n",
              "      <td>NaN</td>\n",
              "      <td>NaN</td>\n",
              "      <td>NaN</td>\n",
              "      <td>NaN</td>\n",
              "      <td>NaN</td>\n",
              "      <td>NaN</td>\n",
              "      <td>NaN</td>\n",
              "      <td>NaN</td>\n",
              "      <td>G</td>\n",
              "      <td>E</td>\n",
              "      <td>D</td>\n",
              "      <td>B</td>\n",
              "      <td>4</td>\n",
              "      <td>K</td>\n",
              "      <td>B</td>\n",
              "      <td>C</td>\n",
              "      <td>D</td>\n",
              "      <td>B</td>\n",
              "      <td>A</td>\n",
              "      <td>B</td>\n",
              "      <td>B</td>\n",
              "      <td>B</td>\n",
              "      <td>B</td>\n",
              "      <td>B</td>\n",
              "      <td>A</td>\n",
              "      <td>A</td>\n",
              "      <td>C</td>\n",
              "      <td>B</td>\n",
              "      <td>A</td>\n",
              "      <td>E</td>\n",
              "      <td>A</td>\n",
              "      <td>B</td>\n",
              "      <td>B</td>\n",
              "    </tr>\n",
              "    <tr>\n",
              "      <th>116501</th>\n",
              "      <td>190005659236</td>\n",
              "      <td>2019</td>\n",
              "      <td>2917508</td>\n",
              "      <td>Jacobina</td>\n",
              "      <td>29</td>\n",
              "      <td>BA</td>\n",
              "      <td>13</td>\n",
              "      <td>M</td>\n",
              "      <td>1</td>\n",
              "      <td>3</td>\n",
              "      <td>1</td>\n",
              "      <td>2304400.0</td>\n",
              "      <td>Fortaleza</td>\n",
              "      <td>23.0</td>\n",
              "      <td>CE</td>\n",
              "      <td>4</td>\n",
              "      <td>0</td>\n",
              "      <td>1</td>\n",
              "      <td>NaN</td>\n",
              "      <td>0</td>\n",
              "      <td>NaN</td>\n",
              "      <td>NaN</td>\n",
              "      <td>NaN</td>\n",
              "      <td>NaN</td>\n",
              "      <td>NaN</td>\n",
              "      <td>NaN</td>\n",
              "      <td>NaN</td>\n",
              "      <td>NaN</td>\n",
              "      <td>0</td>\n",
              "      <td>0</td>\n",
              "      <td>0</td>\n",
              "      <td>0</td>\n",
              "      <td>0</td>\n",
              "      <td>0</td>\n",
              "      <td>0</td>\n",
              "      <td>0</td>\n",
              "      <td>0</td>\n",
              "      <td>0</td>\n",
              "      <td>0</td>\n",
              "      <td>0</td>\n",
              "      <td>...</td>\n",
              "      <td>ADCCCCDCEAAABCEEEDAD*CCCDEBADCDBBBCBEBDBDBECC</td>\n",
              "      <td>EBBAD99999BDCBCCBCEBBCADEDDEDECDECDECECACDCECC...</td>\n",
              "      <td>ECEADDBBABCCCDBDCAAECABDCBDBCECCECABCABBBCBAA</td>\n",
              "      <td>0</td>\n",
              "      <td>AAECACDEADCBCDDDBCBDADAEABCEBABEEBCBEECEBDADC</td>\n",
              "      <td>ACACEEBCCBABADBBBACDBBACCCCADCEBADCBEEDBBEADB</td>\n",
              "      <td>EBBADCABDABACBCEBDEEAAADDBECDECDDBADBCDAAECBCC...</td>\n",
              "      <td>EEEADBEBACABCDBABECECACDCBDCCEDCDABEDECDDDBAA</td>\n",
              "      <td>1.0</td>\n",
              "      <td>100.0</td>\n",
              "      <td>120.0</td>\n",
              "      <td>100.0</td>\n",
              "      <td>80.0</td>\n",
              "      <td>100.0</td>\n",
              "      <td>500.0</td>\n",
              "      <td>D</td>\n",
              "      <td>F</td>\n",
              "      <td>D</td>\n",
              "      <td>B</td>\n",
              "      <td>4</td>\n",
              "      <td>D</td>\n",
              "      <td>A</td>\n",
              "      <td>E</td>\n",
              "      <td>E</td>\n",
              "      <td>C</td>\n",
              "      <td>A</td>\n",
              "      <td>B</td>\n",
              "      <td>A</td>\n",
              "      <td>B</td>\n",
              "      <td>A</td>\n",
              "      <td>B</td>\n",
              "      <td>A</td>\n",
              "      <td>A</td>\n",
              "      <td>D</td>\n",
              "      <td>A</td>\n",
              "      <td>B</td>\n",
              "      <td>C</td>\n",
              "      <td>B</td>\n",
              "      <td>C</td>\n",
              "      <td>B</td>\n",
              "    </tr>\n",
              "  </tbody>\n",
              "</table>\n",
              "<p>4 rows × 136 columns</p>\n",
              "</div>"
            ],
            "text/plain": [
              "        NU_INSCRICAO  NU_ANO  CO_MUNICIPIO_RESIDENCIA  ... Q023  Q024 Q025\n",
              "57359   190003297248    2019                  3504107  ...    B     B    B\n",
              "95630   190004825557    2019                  5107602  ...    A     A    B\n",
              "98197   190004926952    2019                  1600303  ...    A     B    B\n",
              "116501  190005659236    2019                  2917508  ...    B     C    B\n",
              "\n",
              "[4 rows x 136 columns]"
            ]
          },
          "metadata": {
            "tags": []
          },
          "execution_count": 261
        }
      ]
    },
    {
      "cell_type": "markdown",
      "metadata": {
        "id": "SvNjbSXba8Br"
      },
      "source": [
        "Os candidados mais novos da amostra continham 13 anos de idade e residiam em três estados diferentes: São Paulo, Mato Grosso, Amapá e Bahia."
      ]
    },
    {
      "cell_type": "markdown",
      "metadata": {
        "id": "GX4Z8k0Ctdta"
      },
      "source": [
        "## **O que significam os valores NaN nas notas do candidato no dataset?**"
      ]
    },
    {
      "cell_type": "markdown",
      "metadata": {
        "id": "YfLCUJQmPJfk"
      },
      "source": [
        "De fato, todo e qualquer dataset está submetivo à conter valores faltantes. Será que o dataset da amostra obtém dados faltantes?"
      ]
    },
    {
      "cell_type": "code",
      "metadata": {
        "id": "cf7o_j4LPUCE",
        "outputId": "0c321338-c704-48f5-f023-b0deb24ea92a",
        "colab": {
          "base_uri": "https://localhost:8080/",
          "height": 0
        }
      },
      "source": [
        "provas = ['NU_NOTA_CN', 'NU_NOTA_CH', 'NU_NOTA_MT', 'NU_NOTA_LC']\n",
        "dados_enem2019[provas].isna().head()"
      ],
      "execution_count": 262,
      "outputs": [
        {
          "output_type": "execute_result",
          "data": {
            "text/html": [
              "<div>\n",
              "<style scoped>\n",
              "    .dataframe tbody tr th:only-of-type {\n",
              "        vertical-align: middle;\n",
              "    }\n",
              "\n",
              "    .dataframe tbody tr th {\n",
              "        vertical-align: top;\n",
              "    }\n",
              "\n",
              "    .dataframe thead th {\n",
              "        text-align: right;\n",
              "    }\n",
              "</style>\n",
              "<table border=\"1\" class=\"dataframe\">\n",
              "  <thead>\n",
              "    <tr style=\"text-align: right;\">\n",
              "      <th></th>\n",
              "      <th>NU_NOTA_CN</th>\n",
              "      <th>NU_NOTA_CH</th>\n",
              "      <th>NU_NOTA_MT</th>\n",
              "      <th>NU_NOTA_LC</th>\n",
              "    </tr>\n",
              "  </thead>\n",
              "  <tbody>\n",
              "    <tr>\n",
              "      <th>0</th>\n",
              "      <td>False</td>\n",
              "      <td>False</td>\n",
              "      <td>False</td>\n",
              "      <td>False</td>\n",
              "    </tr>\n",
              "    <tr>\n",
              "      <th>1</th>\n",
              "      <td>True</td>\n",
              "      <td>False</td>\n",
              "      <td>True</td>\n",
              "      <td>False</td>\n",
              "    </tr>\n",
              "    <tr>\n",
              "      <th>2</th>\n",
              "      <td>False</td>\n",
              "      <td>False</td>\n",
              "      <td>False</td>\n",
              "      <td>False</td>\n",
              "    </tr>\n",
              "    <tr>\n",
              "      <th>3</th>\n",
              "      <td>False</td>\n",
              "      <td>False</td>\n",
              "      <td>False</td>\n",
              "      <td>False</td>\n",
              "    </tr>\n",
              "    <tr>\n",
              "      <th>4</th>\n",
              "      <td>False</td>\n",
              "      <td>False</td>\n",
              "      <td>False</td>\n",
              "      <td>False</td>\n",
              "    </tr>\n",
              "  </tbody>\n",
              "</table>\n",
              "</div>"
            ],
            "text/plain": [
              "   NU_NOTA_CN  NU_NOTA_CH  NU_NOTA_MT  NU_NOTA_LC\n",
              "0       False       False       False       False\n",
              "1        True       False        True       False\n",
              "2       False       False       False       False\n",
              "3       False       False       False       False\n",
              "4       False       False       False       False"
            ]
          },
          "metadata": {
            "tags": []
          },
          "execution_count": 262
        }
      ]
    },
    {
      "cell_type": "markdown",
      "metadata": {
        "id": "Enj_XJWqQcMF"
      },
      "source": [
        "É possível visualizar que, há valores faltantes apenas pela aparição do True no dataset acima. Por que eles aparecem?"
      ]
    },
    {
      "cell_type": "code",
      "metadata": {
        "id": "5_Q8ZHQSQmyq",
        "outputId": "c3c0c267-7a0e-40d9-d2ab-92370a358121",
        "colab": {
          "base_uri": "https://localhost:8080/",
          "height": 0
        }
      },
      "source": [
        "dados_faltantes_notas = dados_enem2019[['NU_NOTA_CN', 'NU_NOTA_CH', 'NU_NOTA_MT', 'NU_NOTA_LC', 'TP_PRESENCA_CN', 'TP_PRESENCA_CH', 'TP_PRESENCA_MT', 'TP_PRESENCA_LC']]\n",
        "dados_faltantes_notas.head()"
      ],
      "execution_count": 263,
      "outputs": [
        {
          "output_type": "execute_result",
          "data": {
            "text/html": [
              "<div>\n",
              "<style scoped>\n",
              "    .dataframe tbody tr th:only-of-type {\n",
              "        vertical-align: middle;\n",
              "    }\n",
              "\n",
              "    .dataframe tbody tr th {\n",
              "        vertical-align: top;\n",
              "    }\n",
              "\n",
              "    .dataframe thead th {\n",
              "        text-align: right;\n",
              "    }\n",
              "</style>\n",
              "<table border=\"1\" class=\"dataframe\">\n",
              "  <thead>\n",
              "    <tr style=\"text-align: right;\">\n",
              "      <th></th>\n",
              "      <th>NU_NOTA_CN</th>\n",
              "      <th>NU_NOTA_CH</th>\n",
              "      <th>NU_NOTA_MT</th>\n",
              "      <th>NU_NOTA_LC</th>\n",
              "      <th>TP_PRESENCA_CN</th>\n",
              "      <th>TP_PRESENCA_CH</th>\n",
              "      <th>TP_PRESENCA_MT</th>\n",
              "      <th>TP_PRESENCA_LC</th>\n",
              "    </tr>\n",
              "  </thead>\n",
              "  <tbody>\n",
              "    <tr>\n",
              "      <th>0</th>\n",
              "      <td>435.6</td>\n",
              "      <td>512.3</td>\n",
              "      <td>432.4</td>\n",
              "      <td>488.6</td>\n",
              "      <td>1</td>\n",
              "      <td>1</td>\n",
              "      <td>1</td>\n",
              "      <td>1</td>\n",
              "    </tr>\n",
              "    <tr>\n",
              "      <th>1</th>\n",
              "      <td>NaN</td>\n",
              "      <td>409.3</td>\n",
              "      <td>NaN</td>\n",
              "      <td>375.3</td>\n",
              "      <td>0</td>\n",
              "      <td>1</td>\n",
              "      <td>0</td>\n",
              "      <td>1</td>\n",
              "    </tr>\n",
              "    <tr>\n",
              "      <th>2</th>\n",
              "      <td>423.2</td>\n",
              "      <td>499.1</td>\n",
              "      <td>427.2</td>\n",
              "      <td>441.0</td>\n",
              "      <td>1</td>\n",
              "      <td>1</td>\n",
              "      <td>1</td>\n",
              "      <td>1</td>\n",
              "    </tr>\n",
              "    <tr>\n",
              "      <th>3</th>\n",
              "      <td>426.2</td>\n",
              "      <td>578.1</td>\n",
              "      <td>499.9</td>\n",
              "      <td>551.5</td>\n",
              "      <td>1</td>\n",
              "      <td>1</td>\n",
              "      <td>1</td>\n",
              "      <td>1</td>\n",
              "    </tr>\n",
              "    <tr>\n",
              "      <th>4</th>\n",
              "      <td>516.5</td>\n",
              "      <td>571.3</td>\n",
              "      <td>424.5</td>\n",
              "      <td>511.2</td>\n",
              "      <td>1</td>\n",
              "      <td>1</td>\n",
              "      <td>1</td>\n",
              "      <td>1</td>\n",
              "    </tr>\n",
              "  </tbody>\n",
              "</table>\n",
              "</div>"
            ],
            "text/plain": [
              "   NU_NOTA_CN  NU_NOTA_CH  ...  TP_PRESENCA_MT  TP_PRESENCA_LC\n",
              "0       435.6       512.3  ...               1               1\n",
              "1         NaN       409.3  ...               0               1\n",
              "2       423.2       499.1  ...               1               1\n",
              "3       426.2       578.1  ...               1               1\n",
              "4       516.5       571.3  ...               1               1\n",
              "\n",
              "[5 rows x 8 columns]"
            ]
          },
          "metadata": {
            "tags": []
          },
          "execution_count": 263
        }
      ]
    },
    {
      "cell_type": "markdown",
      "metadata": {
        "id": "6N1A4R6Abq1z"
      },
      "source": [
        "A partir da tabela acima,  com o índice igual a 1, é possível relacionar com as faltas dos candidatos nos dias das provas que correspondem aos valores NaN."
      ]
    },
    {
      "cell_type": "markdown",
      "metadata": {
        "id": "zqDBkQTXlOkx"
      },
      "source": [
        "# **A desigualdade de sexos no ENEM 2019**\n",
        "\n",
        "\n",
        "---\n",
        "![](https://i.ibb.co/zQWzGny/Apresenta-o-sem-t-tulo-22.jpg)\n"
      ]
    },
    {
      "cell_type": "markdown",
      "metadata": {
        "id": "B3RtxBkqlk7Y"
      },
      "source": [
        "O sexo declarado pelo candidado pode ser explorado pela variável TP_SEXO, portanto, criarei gráficos e dataframes baseados nela."
      ]
    },
    {
      "cell_type": "code",
      "metadata": {
        "id": "FTncDiF1lerR"
      },
      "source": [
        "sexos_enem_2019 = dados_enem2019['TP_SEXO'] #Coletando a série\n",
        "sexos_enem_2019 = pd.DataFrame(sexos_enem_2019.value_counts(normalize = True)) #Verificando a proporção, do maior para o menor\n",
        "sexos_enem_2019"
      ],
      "execution_count": null,
      "outputs": []
    },
    {
      "cell_type": "markdown",
      "metadata": {
        "id": "IdUU9ru6l09D"
      },
      "source": [
        "É nítido que, aproximadamente 60% dos candidatos da amostra do ENEM 2019 são do sexo Feminino."
      ]
    },
    {
      "cell_type": "code",
      "metadata": {
        "id": "wKklO_GRmR4R"
      },
      "source": [
        "plt.style.use('seaborn')\n",
        "sexos_enem_2019.plot.pie(y='TP_SEXO', figsize=(5, 5)).set_title('Distribuição dos Sexos ENEM-2019',  fontsize = 16);"
      ],
      "execution_count": null,
      "outputs": []
    },
    {
      "cell_type": "code",
      "metadata": {
        "id": "-gqLic5opayh"
      },
      "source": [
        "dist_sexo_por_municipio = pd.crosstab(dados_enem2019.NO_MUNICIPIO_RESIDENCIA, dados_enem2019.TP_SEXO)\n",
        "\n",
        "dist_sexo_por_municipio['Feminino maior'] = dist_sexo_por_municipio['F'] > dist_sexo_por_municipio['M']\n",
        "\n",
        "municipio_sexo = dist_sexo_por_municipio.index\n",
        "dist_sexo_por_municipio['Cidade'] = municipio_sexo\n",
        "dist_sexo_por_municipio.head()"
      ],
      "execution_count": null,
      "outputs": []
    },
    {
      "cell_type": "code",
      "metadata": {
        "id": "aFOu5RiFuA1S"
      },
      "source": [
        "concatenado_sexo = pd.merge(dist_sexo_por_municipio, coordenadas, how = 'left', left_on=['Cidade'], right_on = ['nome'])\n",
        "\n",
        "concatenado_sexo.plot.scatter(y='latitude', x = 'longitude', \n",
        "                         c = concatenado_sexo['Feminino maior'],\n",
        "                         cmap = 'coolwarm',                         \n",
        "                         figsize = (12,10)).set_title('Municípios distribuídos pela maioria do sexo em candidatos ENEM2019',  fontsize = 16);\n",
        "\n",
        "plt.text(0, 0, 'Vermelho = Feminino / Azul = Masculino', va = 'center',\n",
        "        size=30, alpha=.5);"
      ],
      "execution_count": null,
      "outputs": []
    },
    {
      "cell_type": "markdown",
      "metadata": {
        "id": "tg6l2szBx2qf"
      },
      "source": [
        "Percebe-se que, a grande maioria dos municípios possui maior participação de pessoas com sexo feminino do que sexo masculino"
      ]
    },
    {
      "cell_type": "markdown",
      "metadata": {
        "id": "u3RBoxnFG8M-"
      },
      "source": [
        "## **Então, as mulheres tiram as maiores notas? Veremos se ainda há desigualdade**"
      ]
    },
    {
      "cell_type": "markdown",
      "metadata": {
        "id": "qHpo5iHnynDO"
      },
      "source": [
        "**Quem tirou acima de 600 em todas as provas, é de qual sexo?**"
      ]
    },
    {
      "cell_type": "markdown",
      "metadata": {
        "id": "Bnzw_6m-ys7l"
      },
      "source": [
        "Essa pergunta pode ser respondida pela filtração dos candidados com notas maiores que 600 e, consequentemente, realizando a frequência de cada sexo."
      ]
    },
    {
      "cell_type": "code",
      "metadata": {
        "id": "mOHtpm-uy4wy"
      },
      "source": [
        "alunos_acima = dados_enem2019.query('NU_NOTA_CN > 600 & NU_NOTA_CH > 600 & NU_NOTA_MT > 600 & NU_NOTA_LC > 600')\n",
        "\n",
        "alunos_acima.head()"
      ],
      "execution_count": null,
      "outputs": []
    },
    {
      "cell_type": "code",
      "metadata": {
        "id": "3JBB5Qpc1VNw"
      },
      "source": [
        "sexo = alunos_acima['TP_SEXO']\n",
        "sexo = pd.DataFrame(sexo.value_counts())\n",
        "\n",
        "plt.style.use('seaborn')\n",
        "sexo.plot.pie(y = 'TP_SEXO', figsize=(5, 5)).set_title('Distribuição dos Sexos de canditados com notas acima de 600 ENEM-2019',  fontsize = 16);"
      ],
      "execution_count": null,
      "outputs": []
    },
    {
      "cell_type": "code",
      "metadata": {
        "id": "ntnVKmt026h1"
      },
      "source": [
        "sexo = alunos_acima['TP_SEXO']\n",
        "sexo.value_counts(normalize = True)"
      ],
      "execution_count": null,
      "outputs": []
    },
    {
      "cell_type": "markdown",
      "metadata": {
        "id": "P9F_S7QI2q2o"
      },
      "source": [
        "Apesar da maior quantidade de candidatos do sexo feminino, percebe-se que há um leve equilíbrio de sexo entre os candidatos com notas maiores que 600, com um ganho do sexo masculino em 51,3%."
      ]
    },
    {
      "cell_type": "markdown",
      "metadata": {
        "id": "K1ycAEN03wz6"
      },
      "source": [
        "**Quem tirou acima de 600 em todas as provas, é de onde?**"
      ]
    },
    {
      "cell_type": "code",
      "metadata": {
        "id": "vbTQnNZg3_eX"
      },
      "source": [
        "estado_aacima = pd.DataFrame(alunos_acima['SG_UF_RESIDENCIA'].value_counts())\n",
        "estado_aacima.head()"
      ],
      "execution_count": null,
      "outputs": []
    },
    {
      "cell_type": "code",
      "metadata": {
        "id": "2aASwowC3wfh"
      },
      "source": [
        "#Plotando o gráfico com a escala da proporção \n",
        "plt.figure(figsize=(10, 8))\n",
        "sns.set_theme(style=\"whitegrid\")\n",
        "ax = sns.barplot(x=estado_aacima.index, y = estado_aacima['SG_UF_RESIDENCIA'], data=estado_aacima).set_title('Distribuição de candidatos com Idade menor que 17 por Estado',  fontsize = 16)"
      ],
      "execution_count": null,
      "outputs": []
    },
    {
      "cell_type": "markdown",
      "metadata": {
        "id": "ckO992f64dZc"
      },
      "source": [
        "No gráfico acima, é possível visualizar que, os alunos que tiraram notas maiores que 600 em todas as provas residem, em sua maioria, no estado de São Paulo e posteriormente o estado de Minas Gerais (Os dois estados mais populosos do Brasil segundo o IBGE)"
      ]
    },
    {
      "cell_type": "markdown",
      "metadata": {
        "id": "b4fyv2vcHUWs"
      },
      "source": [
        "## **Distribuição das notas por sexo**"
      ]
    },
    {
      "cell_type": "markdown",
      "metadata": {
        "id": "EPzLJNKpHYOU"
      },
      "source": [
        "Utilizarei boxplot. Deixo um breve resumo sobre o que ele é:\n",
        "\n",
        "![](https://res.cloudinary.com/practicaldev/image/fetch/s--RLvfX5qg--/c_limit%2Cf_auto%2Cfl_progressive%2Cq_auto%2Cw_880/https://miro.medium.com/max/1024/0%2ATmxBdUzCLOmZu6zB.png)\n",
        "\n",
        "*Fonte: https://dev.to/giselyalves13/visualizacao-de-dados-com-seaborn-2892*"
      ]
    },
    {
      "cell_type": "code",
      "metadata": {
        "id": "EqzmqJ_ONnIB"
      },
      "source": [
        "sexo_ordenado = ['F', 'M']"
      ],
      "execution_count": null,
      "outputs": []
    },
    {
      "cell_type": "code",
      "metadata": {
        "id": "1NRSjIr3NPr9"
      },
      "source": [
        "plt.figure(figsize=(10, 8))\n",
        "\n",
        "sns.boxplot(x=\"NU_NOTA_MT\", y = \"TP_SEXO\", data = dados_enem2019, order = sexo_ordenado)\n",
        "plt.title(\"Boxplot das notas de matemática por sexo\",  fontsize = 16);"
      ],
      "execution_count": null,
      "outputs": []
    },
    {
      "cell_type": "code",
      "metadata": {
        "id": "K_S6drHiNPsA"
      },
      "source": [
        "plt.figure(figsize=(10, 8))\n",
        "\n",
        "sns.boxplot(x=\"NU_NOTA_LC\", y = \"TP_SEXO\", data = dados_enem2019, order = sexo_ordenado)\n",
        "plt.title(\"Boxplot das notas de linguagens e códigos por sexo\",  fontsize = 16);"
      ],
      "execution_count": null,
      "outputs": []
    },
    {
      "cell_type": "code",
      "metadata": {
        "id": "fuziKOmONPsD"
      },
      "source": [
        "plt.figure(figsize=(10, 8))\n",
        "\n",
        "sns.boxplot(x=\"NU_NOTA_CN\", y = \"TP_SEXO\", data = dados_enem2019, order = sexo_ordenado)\n",
        "plt.title(\"Boxplot das notas de ciências da natureza por sexo\",  fontsize = 16);"
      ],
      "execution_count": null,
      "outputs": []
    },
    {
      "cell_type": "code",
      "metadata": {
        "id": "uUqdJjodNPsF"
      },
      "source": [
        "plt.figure(figsize=(10, 8))\n",
        "\n",
        "sns.boxplot(x=\"NU_NOTA_CH\", y = \"TP_SEXO\", data = dados_enem2019, order = sexo_ordenado)\n",
        "plt.title(\"Boxplot das notas de ciências humanas por sexo\",  fontsize = 16);"
      ],
      "execution_count": null,
      "outputs": []
    },
    {
      "cell_type": "markdown",
      "metadata": {
        "id": "N1NJ_pSfNPsI"
      },
      "source": [
        "Há um leve deslocamento das notas de quem é do sexo masculino para a direita. Essa diferença é significativa? "
      ]
    },
    {
      "cell_type": "markdown",
      "metadata": {
        "id": "lGrpxtmhOUWn"
      },
      "source": [
        "## **Há diferença significativa nas notas das áreas para cada sexo? Testes estatísticos: ANOVA**"
      ]
    },
    {
      "cell_type": "markdown",
      "metadata": {
        "id": "uW9MQc6xOUWp"
      },
      "source": [
        "**Análise de variância** é a técnica estatística que permite avaliar afirmações sobre as médias de populações. A análise visa, fundamentalmente, verificar se existe uma diferença significativa entre as médias e se os fatores exercem influência em alguma variável dependente. \n",
        "\n",
        "*Fonte: https://pt.wikipedia.org/wiki/An%C3%A1lise_de_vari%C3%A2ncia*"
      ]
    },
    {
      "cell_type": "markdown",
      "metadata": {
        "id": "4cg69JVROUWq"
      },
      "source": [
        "Para essa ocasião, estarei criando um modelo de ANOVA para realizar o teste se há diferença significativa entre os sexos. Para identificar, basta que o PR(>F) seja menor que 0,05 (nível de confiança para 95%) para contestar que há. (Hipótese Nula: Não há diferença significativa entre os grupos)."
      ]
    },
    {
      "cell_type": "code",
      "metadata": {
        "id": "oKCHgS6rOUWr"
      },
      "source": [
        "teste_sexos = dados_enem2019.dropna(subset=['NU_NOTA_MT', 'NU_NOTA_CN', 'NU_NOTA_LC', 'NU_NOTA_CH']) #eliminando os valores NaN para tornar o modelo visível e saudável.\n",
        "teste_sexos.shape"
      ],
      "execution_count": null,
      "outputs": []
    },
    {
      "cell_type": "markdown",
      "metadata": {
        "id": "YzCyiBqmOUWz"
      },
      "source": [
        "### **Matemática**"
      ]
    },
    {
      "cell_type": "code",
      "metadata": {
        "id": "vleyXOC8OUWz"
      },
      "source": [
        "modelo1 = ols('NU_NOTA_MT ~ TP_SEXO', data = teste_sexos).fit()\n",
        "resultados1 = sm.stats.anova_lm(modelo1)\n",
        "resultados1"
      ],
      "execution_count": null,
      "outputs": []
    },
    {
      "cell_type": "markdown",
      "metadata": {
        "id": "gTiDSV7XOUW2"
      },
      "source": [
        "**Rejeitar a hipótese nula.** O resultado demonstra que sim, há diferença significativa entre os grupos nas notas de matemática. (afirmando o argumento da seção acima)"
      ]
    },
    {
      "cell_type": "markdown",
      "metadata": {
        "id": "DgwRExo5OUXB"
      },
      "source": [
        "### **Ciências da Natureza**"
      ]
    },
    {
      "cell_type": "code",
      "metadata": {
        "id": "Bz18zLm6OUXB"
      },
      "source": [
        "modelo2 = ols('NU_NOTA_CN ~ TP_SEXO', data = teste_sexos).fit()\n",
        "resultados2 = sm.stats.anova_lm(modelo2)\n",
        "resultados2"
      ],
      "execution_count": null,
      "outputs": []
    },
    {
      "cell_type": "markdown",
      "metadata": {
        "id": "1VHPjJJGOUXE"
      },
      "source": [
        "**Rejeitar a hipótese nula.** O resultado demonstra que sim, há diferença significativa entre os grupos nas notas de ciências da natureza. (afirmando o argumento da seção acima)"
      ]
    },
    {
      "cell_type": "markdown",
      "metadata": {
        "id": "_m8A7eUZOUXK"
      },
      "source": [
        "### **Linguagens e Códigos**"
      ]
    },
    {
      "cell_type": "code",
      "metadata": {
        "id": "a6CZmtKfOUXL"
      },
      "source": [
        "modelo3 = ols('NU_NOTA_LC ~ TP_SEXO', data = teste_sexos).fit()\n",
        "resultados3 = sm.stats.anova_lm(modelo3)\n",
        "resultados3"
      ],
      "execution_count": null,
      "outputs": []
    },
    {
      "cell_type": "markdown",
      "metadata": {
        "id": "7RhLp-UeOUXP"
      },
      "source": [
        "**Rejeitar a hipótese nula.** O resultado demonstra que sim, há diferença significativa entre os grupos nas notas de linguagens e códigos. (afirmando o argumento da seção acima)"
      ]
    },
    {
      "cell_type": "markdown",
      "metadata": {
        "id": "lpl-npxNOUXY"
      },
      "source": [
        "### **Ciências Humanas**"
      ]
    },
    {
      "cell_type": "code",
      "metadata": {
        "id": "2S62SbBfOUXY"
      },
      "source": [
        "modelo4 = ols('NU_NOTA_CH ~ TP_SEXO', data = teste_sexos).fit()\n",
        "resultados4 = sm.stats.anova_lm(modelo4)\n",
        "resultados4"
      ],
      "execution_count": null,
      "outputs": []
    },
    {
      "cell_type": "markdown",
      "metadata": {
        "id": "UGX1yGIkOUXc"
      },
      "source": [
        "**Rejeitar a hipótese nula.** O resultado demonstra que sim, há diferença significativa entre os grupos nas notas de ciências humanas. (afirmando o argumento da seção acima)"
      ]
    },
    {
      "cell_type": "markdown",
      "metadata": {
        "id": "97V_O802Rgty"
      },
      "source": [
        "## **Como o Feminismo pode ajudar as mulheres na prova do ENEM**"
      ]
    },
    {
      "cell_type": "markdown",
      "metadata": {
        "id": "UfEV0ALhQiiu"
      },
      "source": [
        "Irei ressaltar o levantamento de movimentos sociais e linguísticos, como o **Feminismo**. No Brasil, após a Ditadura Militar, no início do Século 21, os movimentos sociais de inclusão ganharam cada vez mais força, principalmente no desenvolver da globalização e a criação de políticas inclusivas pelo próprio Governo Federal. Garantir acessibilidade para grupos distintos, em que **HÁ SIM DESIGUALDADE**, pode refletir até no desempenho educacional. A luta deve ser escutada para que esses resultados não sejam discrepantes como são."
      ]
    },
    {
      "cell_type": "markdown",
      "metadata": {
        "id": "VOXFMC_J5KdX"
      },
      "source": [
        "# **A desigualdade de cor das Raças no ENEM2019**\n",
        "---\n",
        "![](https://i.ibb.co/8d1PK4X/Apresenta-o-sem-t-tulo-4.jpg)"
      ]
    },
    {
      "cell_type": "markdown",
      "metadata": {
        "id": "Q8bVl9to5Tf8"
      },
      "source": [
        "A cor da raça declarada pelo candidado pode ser explorada pela variável TP_COR_RACA, portanto, criarei gráficos e dataframes baseados nela."
      ]
    },
    {
      "cell_type": "markdown",
      "metadata": {
        "id": "w-B12K8e5oXW"
      },
      "source": [
        "**Criando um dicionário para variável**"
      ]
    },
    {
      "cell_type": "code",
      "metadata": {
        "id": "prBo7VeR5QPz"
      },
      "source": [
        "cor_raca = {\n",
        "    0: 'Não declarado',\n",
        "    1: 'Branca', \n",
        "    2: 'Preta', \n",
        "    3: 'Parda', \n",
        "    4: 'Amarela', \n",
        "    5: 'Indígena'}"
      ],
      "execution_count": null,
      "outputs": []
    },
    {
      "cell_type": "markdown",
      "metadata": {
        "id": "HDYEbab473iH"
      },
      "source": [
        "**Separando as colunas para análise**"
      ]
    },
    {
      "cell_type": "code",
      "metadata": {
        "id": "B7vV1ziJ7IxV"
      },
      "source": [
        "racas_enem2019 = dados_enem2019[['NU_NOTA_CN', 'NU_NOTA_CH', 'NU_NOTA_MT', 'NU_NOTA_LC', 'TP_COR_RACA', 'SG_UF_RESIDENCIA', 'TP_SEXO']]\n",
        "racas_enem2019.head()"
      ],
      "execution_count": null,
      "outputs": []
    },
    {
      "cell_type": "markdown",
      "metadata": {
        "id": "_pcpCrfrC9VN"
      },
      "source": [
        "**Gerando uma coluna com as respostas**"
      ]
    },
    {
      "cell_type": "code",
      "metadata": {
        "id": "MWrbYFHM73Bt"
      },
      "source": [
        "racas_enem2019['TP_COR_RACA_RESPOSTA'] = [cor_raca[i] for i in racas_enem2019.TP_COR_RACA]\n",
        "racas_enem2019"
      ],
      "execution_count": null,
      "outputs": []
    },
    {
      "cell_type": "markdown",
      "metadata": {
        "id": "GoUbix8bBQYh"
      },
      "source": [
        "**Ordenando as cores das raças em uma lista**"
      ]
    },
    {
      "cell_type": "code",
      "metadata": {
        "id": "X5V1UOjnBPVu"
      },
      "source": [
        "racas_ordenadas = racas_enem2019['TP_COR_RACA_RESPOSTA'].unique()\n",
        "racas_ordenadas.sort()"
      ],
      "execution_count": null,
      "outputs": []
    },
    {
      "cell_type": "markdown",
      "metadata": {
        "id": "8JC99Z_jDAud"
      },
      "source": [
        "### **Plotando um gráfico com a Distribuição da Cor de Raça no ENEM2019**"
      ]
    },
    {
      "cell_type": "code",
      "metadata": {
        "id": "vJwv6VO1DM9l"
      },
      "source": [
        "racas_enem_atual = pd.DataFrame(racas_enem2019['TP_COR_RACA_RESPOSTA'].value_counts())\n",
        "\n",
        "#Plotando o gráfico com a escala da proporção \n",
        "plt.figure(figsize=(10, 8))\n",
        "sns.set_theme(style=\"whitegrid\")\n",
        "ax = sns.barplot(x=racas_enem_atual.index, y = racas_enem_atual['TP_COR_RACA_RESPOSTA'], data=racas_enem_atual, order = racas_ordenadas).set_title('Distribuição candidatos ENEM 2019 por Raça',  fontsize = 16)"
      ],
      "execution_count": null,
      "outputs": []
    },
    {
      "cell_type": "markdown",
      "metadata": {
        "id": "IYoMaVtCD_Fu"
      },
      "source": [
        "É visível que, a maioria dos candidatos são Pardos e, posteriormente, se encontra os candidatos Brancos. \n",
        "\n",
        "*De acordo com dados da Pesquisa Nacional por Amostra de Domicílios (PNAD) 2019, 42,7% dos brasileiros se declararam como brancos, 46,8% como pardos, 9,4% como pretos e 1,1% como amarelos ou indígenas.* (https://educa.ibge.gov.br/jovens/conheca-o-brasil/populacao/18319-cor-ou-raca.html#:~:text=De%20acordo%20com%20dados%20da,1%25%20como%20amarelos%20ou%20ind%C3%ADgenas.)\n",
        "\n",
        "**De acordo com essa referência, é possível relacionar com a própria maioria da população brasileira os dados obtidos.**"
      ]
    },
    {
      "cell_type": "markdown",
      "metadata": {
        "id": "a2P_DFxkLxoF"
      },
      "source": [
        "### **Quem tira as maiores notas, são de que cor de raça? Há desigualdade?**"
      ]
    },
    {
      "cell_type": "code",
      "metadata": {
        "id": "YCHr4GsXMg8h"
      },
      "source": [
        "notas_maiores_racas = racas_enem2019.query('NU_NOTA_CN > 600 & NU_NOTA_CH > 600 & NU_NOTA_MT > 600 & NU_NOTA_LC > 600')\n",
        "notas_maiores_racas_atual = pd.DataFrame(notas_maiores_racas['TP_COR_RACA_RESPOSTA'].value_counts(normalize = True))\n",
        "notas_maiores_racas_atual"
      ],
      "execution_count": null,
      "outputs": []
    },
    {
      "cell_type": "markdown",
      "metadata": {
        "id": "YlDMuUNnNPs6"
      },
      "source": [
        "### **Apesar da maioria dos candidatos serem pardos, a maioria das notas (maior que 600) são compostas pela cor Branca com 63,7%**"
      ]
    },
    {
      "cell_type": "code",
      "metadata": {
        "id": "QdsiXSpFMCGG"
      },
      "source": [
        "plt.figure(figsize=(10, 8))\n",
        "sns.set_theme(style=\"whitegrid\")\n",
        "ax = sns.barplot(x=notas_maiores_racas_atual.index, y = notas_maiores_racas_atual['TP_COR_RACA_RESPOSTA'], data=notas_maiores_racas_atual,  order = racas_ordenadas).set_title('Distribuição das notas maiores que 600 por raça ENEM 2019',  fontsize = 16)"
      ],
      "execution_count": null,
      "outputs": []
    },
    {
      "cell_type": "markdown",
      "metadata": {
        "id": "jFw6fFrTO46G"
      },
      "source": [
        "Observe no gráfico acima que, apesar da maioria da população dos candidatos serem pardos, mais da metade das notas maiores são compostas pela cor Branca. Esse fato pode ser de acordo com o índice de que, a taxa de analfabetismo de Pretos e Pardos acima de 15 anos é mais que duas vezes maios da que dos Brancos, de acordo com o IBGE (Disponível em: https://cidades.ibge.gov.br/brasil/pesquisa/10091/82292. Acesso em: 23 out. 2020.)\n",
        "\n",
        "Vale ressaltar que, praticamente **0%** dos indígenas tiram notas maiores que 600 em todas as provas "
      ]
    },
    {
      "cell_type": "markdown",
      "metadata": {
        "id": "COLZ0oUrAAQh"
      },
      "source": [
        "### **Distribuiçao das notas em cada área por raça ENEM2019**"
      ]
    },
    {
      "cell_type": "code",
      "metadata": {
        "id": "g8zapDyNAF6Z"
      },
      "source": [
        "plt.figure(figsize=(10, 8))\n",
        "\n",
        "sns.boxplot(x=\"NU_NOTA_MT\", y = \"TP_COR_RACA_RESPOSTA\", data = racas_enem2019, order = racas_ordenadas)\n",
        "plt.title(\"Boxplot das notas de matemática por cor da raça\", fontsize = 16);"
      ],
      "execution_count": null,
      "outputs": []
    },
    {
      "cell_type": "code",
      "metadata": {
        "id": "pQtOhX4hBXXM"
      },
      "source": [
        "plt.figure(figsize=(10, 8))\n",
        "\n",
        "sns.boxplot(x=\"NU_NOTA_LC\", y = \"TP_COR_RACA_RESPOSTA\", data = racas_enem2019, order = racas_ordenadas)\n",
        "plt.title(\"Boxplot das notas de linguagens e códigos por cor da raça\",  fontsize = 16);"
      ],
      "execution_count": null,
      "outputs": []
    },
    {
      "cell_type": "code",
      "metadata": {
        "id": "B8hsQVsLBa2e"
      },
      "source": [
        "plt.figure(figsize=(10, 8))\n",
        "\n",
        "sns.boxplot(x=\"NU_NOTA_CN\", y = \"TP_COR_RACA_RESPOSTA\", data = racas_enem2019, order = racas_ordenadas)\n",
        "plt.title(\"Boxplot das notas de ciências da natureza por cor da raça\", fontsize = 16);"
      ],
      "execution_count": null,
      "outputs": []
    },
    {
      "cell_type": "code",
      "metadata": {
        "id": "Hlxz5P5lBb48"
      },
      "source": [
        "plt.figure(figsize=(10, 8))\n",
        "\n",
        "sns.boxplot(x=\"NU_NOTA_CH\", y = \"TP_COR_RACA_RESPOSTA\", data = racas_enem2019, order = racas_ordenadas)\n",
        "plt.title(\"Boxplot das notas de ciências humanas por cor da raça\", fontsize = 16);"
      ],
      "execution_count": null,
      "outputs": []
    },
    {
      "cell_type": "markdown",
      "metadata": {
        "id": "Er5cWRqOCM7z"
      },
      "source": [
        "As notas de brancos são consideravelmente maiores em relação às outras cores de raças. O efeito pode ser visto pelas medianas mais deslocadas a direita nos boxplots. Mais alguns gráficos que demonstram a desigualdade social na sociedade brasileira e a falta de democratização no acesso à uma educação de qualidade."
      ]
    },
    {
      "cell_type": "markdown",
      "metadata": {
        "id": "2mHz3ATtFXyD"
      },
      "source": [
        "## **Há diferença significativa nas notas das áreas para cada cor? Testes estatísticos: ANOVA, TUKEY**"
      ]
    },
    {
      "cell_type": "markdown",
      "metadata": {
        "id": "hB0ptpjMFmaQ"
      },
      "source": [
        "**Análise de variância** é a técnica estatística que permite avaliar afirmações sobre as médias de populações. A análise visa, fundamentalmente, verificar se existe uma diferença significativa entre as médias e se os fatores exercem influência em alguma variável dependente. \n",
        "\n",
        "*Fonte: https://pt.wikipedia.org/wiki/An%C3%A1lise_de_vari%C3%A2ncia*"
      ]
    },
    {
      "cell_type": "markdown",
      "metadata": {
        "id": "aY5gWTHRF1Uk"
      },
      "source": [
        "Para essa ocasião, estarei criando um modelo de ANOVA para realizar o teste se há diferença significativa entre as raças. Para identificar, basta que o PR(>F) seja menor que 0,05 (nível de confiança para 95%) para contestar que há. (Hipótese Nula: Não há diferença significativa entre os grupos)."
      ]
    },
    {
      "cell_type": "code",
      "metadata": {
        "id": "p9vdkR6zDnbl"
      },
      "source": [
        "teste_racas = racas_enem2019.dropna(subset=['NU_NOTA_MT', 'NU_NOTA_CN', 'NU_NOTA_LC', 'NU_NOTA_CH']) #eliminando os valores NaN para tornar o modelo visível e saudável."
      ],
      "execution_count": null,
      "outputs": []
    },
    {
      "cell_type": "markdown",
      "metadata": {
        "id": "3RzTuBMJGTVL"
      },
      "source": [
        "### **Matemática**"
      ]
    },
    {
      "cell_type": "code",
      "metadata": {
        "id": "GIr4YsEhCpn0"
      },
      "source": [
        "modelo1 = ols('NU_NOTA_MT ~ TP_COR_RACA_RESPOSTA', data = teste_racas).fit()\n",
        "resultados1 = sm.stats.anova_lm(modelo1)\n",
        "resultados1"
      ],
      "execution_count": null,
      "outputs": []
    },
    {
      "cell_type": "markdown",
      "metadata": {
        "id": "-YoT89hiGakZ"
      },
      "source": [
        "**Rejeitar a hipótese nula.** O resultado demonstra que sim, há diferença significativa entre os grupos nas notas de matemática. (afirmando o argumento da seção acima)"
      ]
    },
    {
      "cell_type": "code",
      "metadata": {
        "id": "f2BbEdMVDBrz"
      },
      "source": [
        "mc = MultiComparison(teste_racas['NU_NOTA_MT'], teste_racas['TP_COR_RACA_RESPOSTA'])\n",
        "resultado_teste1 = mc.tukeyhsd()\n",
        "resultado_teste1.summary()"
      ],
      "execution_count": null,
      "outputs": []
    },
    {
      "cell_type": "markdown",
      "metadata": {
        "id": "MT8DbU11Hqfh"
      },
      "source": [
        "É possível visualizar que, em todos os casos de comparação entre grupos, todos rejeitam a hipótese nula (última coluna) onde há sim diferença significativa entre os grupos."
      ]
    },
    {
      "cell_type": "code",
      "metadata": {
        "id": "l90MWO5qH2ZY"
      },
      "source": [
        "resultado_teste1.plot_simultaneous()"
      ],
      "execution_count": null,
      "outputs": []
    },
    {
      "cell_type": "markdown",
      "metadata": {
        "id": "nEmqRONeIGDS"
      },
      "source": [
        "Todos os grupos ocupam posições distintas, demonstrando a limitação de desempenho para cada raça (Em matemática)."
      ]
    },
    {
      "cell_type": "markdown",
      "metadata": {
        "id": "Kz0vE-xdIq3N"
      },
      "source": [
        "### **Ciências da Natureza**"
      ]
    },
    {
      "cell_type": "code",
      "metadata": {
        "id": "8QRkrl_tIq3Q"
      },
      "source": [
        "modelo2 = ols('NU_NOTA_CN ~ TP_COR_RACA_RESPOSTA', data = teste_racas).fit()\n",
        "resultados2 = sm.stats.anova_lm(modelo2)\n",
        "resultados2"
      ],
      "execution_count": null,
      "outputs": []
    },
    {
      "cell_type": "markdown",
      "metadata": {
        "id": "U5LDn1ksIq3c"
      },
      "source": [
        "**Rejeitar a hipótese nula.** O resultado demonstra que sim, há diferença significativa entre os grupos nas notas de ciências da natureza. (afirmando o argumento da seção acima)"
      ]
    },
    {
      "cell_type": "code",
      "metadata": {
        "id": "xkoAWwzeIq3d"
      },
      "source": [
        "mc = MultiComparison(teste_racas['NU_NOTA_CN'], teste_racas['TP_COR_RACA_RESPOSTA'])\n",
        "resultado_teste2 = mc.tukeyhsd()\n",
        "resultado_teste2.summary()"
      ],
      "execution_count": null,
      "outputs": []
    },
    {
      "cell_type": "markdown",
      "metadata": {
        "id": "JQqPIJbPIq3k"
      },
      "source": [
        "É possível visualizar que, em todos os casos de comparação entre grupos, todos rejeitam a hipótese nula (última coluna) onde há sim diferença significativa entre os grupos."
      ]
    },
    {
      "cell_type": "code",
      "metadata": {
        "id": "NNToJmwMIq3n"
      },
      "source": [
        "resultado_teste2.plot_simultaneous()"
      ],
      "execution_count": null,
      "outputs": []
    },
    {
      "cell_type": "markdown",
      "metadata": {
        "id": "NbTaxRw3Iq3u"
      },
      "source": [
        "Todos os grupos ocupam posições distintas, demonstrando a limitação de desempenho para cada raça (Em ciências da natureza)."
      ]
    },
    {
      "cell_type": "markdown",
      "metadata": {
        "id": "0lebn9VwJPRM"
      },
      "source": [
        "### **Linguagens e Códigos**"
      ]
    },
    {
      "cell_type": "code",
      "metadata": {
        "id": "zjlwaG-7JPRP"
      },
      "source": [
        "modelo3 = ols('NU_NOTA_LC ~ TP_COR_RACA_RESPOSTA', data = teste_racas).fit()\n",
        "resultados3 = sm.stats.anova_lm(modelo3)\n",
        "resultados3"
      ],
      "execution_count": null,
      "outputs": []
    },
    {
      "cell_type": "markdown",
      "metadata": {
        "id": "DnQanKtTJPRU"
      },
      "source": [
        "**Rejeitar a hipótese nula.** O resultado demonstra que sim, há diferença significativa entre os grupos nas notas de linguagens e códigos. (afirmando o argumento da seção acima)"
      ]
    },
    {
      "cell_type": "code",
      "metadata": {
        "id": "j6kRKFISJPRV"
      },
      "source": [
        "mc = MultiComparison(teste_racas['NU_NOTA_LC'], teste_racas['TP_COR_RACA_RESPOSTA'])\n",
        "resultado_teste3 = mc.tukeyhsd()\n",
        "resultado_teste3.summary()"
      ],
      "execution_count": null,
      "outputs": []
    },
    {
      "cell_type": "markdown",
      "metadata": {
        "id": "kAmbjFD5JPRZ"
      },
      "source": [
        "Partimos agora de uma situação diferente. De fato, a maioria das cores se apresentam em uma diferença significativa, entretanto, as duas últimas da tabela não apresentaram diferença significativa. Entre pretos e pardos, não há diferença significativa. Por quê?\n",
        "\n",
        "A minha hipótese é de que, apesar de possivelmente houver alguma diferença, o próprio IBGE em sua pesquisa de desigualdade social no Brasil considera Pretos e Pardos na mesma categoria. Essa situação pode sugerir um desempenho parecido entre as duas. (Disponível em: https://cidades.ibge.gov.br/brasil/pesquisa/10091/82292)"
      ]
    },
    {
      "cell_type": "code",
      "metadata": {
        "id": "rHGAkLj2JPRZ"
      },
      "source": [
        "resultado_teste3.plot_simultaneous()"
      ],
      "execution_count": null,
      "outputs": []
    },
    {
      "cell_type": "markdown",
      "metadata": {
        "id": "oxNr4pOeJPRd"
      },
      "source": [
        "De fato, é possível observar que há uma aproximação das cores Preta e Parda nos gráficos. Já as outras, há uma disparidade exorbitante."
      ]
    },
    {
      "cell_type": "markdown",
      "metadata": {
        "id": "_TQfwQ6CK9TN"
      },
      "source": [
        "### **Ciências Humanas**"
      ]
    },
    {
      "cell_type": "code",
      "metadata": {
        "id": "3jLdqHw6K9TP"
      },
      "source": [
        "modelo4 = ols('NU_NOTA_CH ~ TP_COR_RACA_RESPOSTA', data = teste_racas).fit()\n",
        "resultados4 = sm.stats.anova_lm(modelo4)\n",
        "resultados4"
      ],
      "execution_count": null,
      "outputs": []
    },
    {
      "cell_type": "markdown",
      "metadata": {
        "id": "LoZhJh7tK9Tb"
      },
      "source": [
        "**Rejeitar a hipótese nula.** O resultado demonstra que sim, há diferença significativa entre os grupos nas notas de ciências humanas. (afirmando o argumento da seção acima)"
      ]
    },
    {
      "cell_type": "code",
      "metadata": {
        "id": "YseMm0hHK9Tc"
      },
      "source": [
        "mc = MultiComparison(teste_racas['NU_NOTA_CH'], teste_racas['TP_COR_RACA_RESPOSTA'])\n",
        "resultado_teste4 = mc.tukeyhsd()\n",
        "resultado_teste4.summary()"
      ],
      "execution_count": null,
      "outputs": []
    },
    {
      "cell_type": "markdown",
      "metadata": {
        "id": "yeijLHpjK9Tf"
      },
      "source": [
        "Observe a mesma situação de linguagens e códigos, onde há uma disparidade entre as outras raças, mas entre pardos e pretos não. De fato, é um efeito importante"
      ]
    },
    {
      "cell_type": "code",
      "metadata": {
        "id": "ZCGx9nRdK9Ti"
      },
      "source": [
        "resultado_teste3.plot_simultaneous()"
      ],
      "execution_count": null,
      "outputs": []
    },
    {
      "cell_type": "markdown",
      "metadata": {
        "id": "mdM5Cy5XK9To"
      },
      "source": [
        "É possível observar que há uma aproximação das cores Preta e Parda nos gráficos. Já as outras, há uma disparidade exorbitante."
      ]
    },
    {
      "cell_type": "markdown",
      "metadata": {
        "id": "JyGOHrnceB23"
      },
      "source": [
        "# **Média de notas para cada área no Brasil (Mapas)**\n",
        "\n",
        "\n",
        "---\n",
        "\n",
        "![](https://i.ibb.co/wL9xDhj/Apresenta-o-sem-t-tulo-5.jpg)"
      ]
    },
    {
      "cell_type": "markdown",
      "metadata": {
        "id": "Furn66KM0TZT"
      },
      "source": [
        "Nesta seção irei realizar gráficos de mapas para analisar as médias para cada área da prova do ENEM 2019 em cada município disponível na amostra. Para isso utilizarei o dataframe já importado como nome de: coordenadas."
      ]
    },
    {
      "cell_type": "code",
      "metadata": {
        "id": "3mDSspnf0fta"
      },
      "source": [
        "coordenadas.head()"
      ],
      "execution_count": null,
      "outputs": []
    },
    {
      "cell_type": "markdown",
      "metadata": {
        "id": "zgIJvj0x1ndU"
      },
      "source": [
        "Utilizarei esse dataset para concatenar os valores das coordenadas a fim de elucidar um mapa de acordo com a média das notas em cada área para cada município, conforme as seções a seguir."
      ]
    },
    {
      "cell_type": "code",
      "metadata": {
        "id": "PatNmRbUvGP_"
      },
      "source": [
        "dados_municipios_gerais_medias = dados_enem2019.copy()\n",
        "nota_media_geral_municipio = dados_municipios_gerais_medias.groupby(['NO_MUNICIPIO_RESIDENCIA']).mean()[['NU_NOTA_CN', 'NU_NOTA_CH', 'NU_NOTA_MT', 'NU_NOTA_LC', 'NU_NOTA_REDACAO']]\n",
        "nota_media_geral_municipio['Municipio'] = nota_media_geral_municipio.index\n",
        "nota_media_geral_municipio.head()"
      ],
      "execution_count": null,
      "outputs": []
    },
    {
      "cell_type": "markdown",
      "metadata": {
        "id": "JoiI55rG1iYw"
      },
      "source": [
        "## **Matemática**"
      ]
    },
    {
      "cell_type": "code",
      "metadata": {
        "id": "Ipagv0GR2jON"
      },
      "source": [
        "concatenado_matematica = pd.merge(nota_media_geral_municipio, coordenadas, how = 'left', left_on=['Municipio'], right_on = ['nome'])\n",
        "\n",
        "concatenado_matematica.plot.scatter(y='latitude', x = 'longitude', \n",
        "                         c = concatenado_matematica['NU_NOTA_MT'],\n",
        "                         cmap = 'RdYlGn',\n",
        "                         figsize = (12,10)).set_title('Média da nota em Matemática ENEM 2019 por Município',  fontsize = 16);"
      ],
      "execution_count": null,
      "outputs": []
    },
    {
      "cell_type": "markdown",
      "metadata": {
        "id": "g0fowaP52x6S"
      },
      "source": [
        "Pelo gráfico acima, é possível visualizar um clareamento na tonalidade das cores ao tender no Sul/Sudeste. O efeito contrátio acontece ao se direcionar para o Norte/Nordeste. Esse gráfico pode demonstrar a ainda presente desigualdade social presente no Brasil, como também um alto deficit na educação dita a disparidade de notas. É visível, também, que o Brasil de um modo geral NÃO desempenhou bem na área de Matemática."
      ]
    },
    {
      "cell_type": "markdown",
      "metadata": {
        "id": "RK-ows-c3O42"
      },
      "source": [
        "## **Ciências da Natureza**"
      ]
    },
    {
      "cell_type": "code",
      "metadata": {
        "id": "m8eNhJLf3U6x"
      },
      "source": [
        "concatenado_cn = pd.merge(nota_media_geral_municipio, coordenadas, how = 'left', left_on=['Municipio'], right_on = ['nome'])\n",
        "\n",
        "concatenado_cn.plot.scatter(y='latitude', x = 'longitude', \n",
        "                         c = concatenado_cn['NU_NOTA_CN'],\n",
        "                         cmap = 'RdYlGn',\n",
        "                         figsize = (12,10)).set_title('Média em notas de Ciências da Natureza ENEM 2019 por Município',  fontsize = 16);"
      ],
      "execution_count": null,
      "outputs": []
    },
    {
      "cell_type": "markdown",
      "metadata": {
        "id": "fPAp6OL_30R4"
      },
      "source": [
        "Novamente, o mesmo efeito ocorre com a área de Ciências da Natureza, onde há uma forte sobreposição do Sudeste e do Sul sob as outras regiões. Mais um ponto de desigualdade social. Com isso, é fato e claro onde há uma necessidade de investimento nessas áreas. \n",
        "\n",
        "**Ciências da Natureza agrega Física, Química e Biologia. Uma proposta, levantando a minha hipótese, seria levantar investimentos em laboratórios em escolas, com também propor experiências de campo para os dicentes a fim de estimular um contato maior com essa área.**"
      ]
    },
    {
      "cell_type": "markdown",
      "metadata": {
        "id": "DEBJ0T5r5Jdx"
      },
      "source": [
        "## **Ciências Humanas**"
      ]
    },
    {
      "cell_type": "code",
      "metadata": {
        "id": "0hZPQfYj5MIn"
      },
      "source": [
        "concatenado_ch = pd.merge(nota_media_geral_municipio, coordenadas, how = 'left', left_on=['Municipio'], right_on = ['nome'])\n",
        "\n",
        "concatenado_ch.plot.scatter(y='latitude', x = 'longitude', \n",
        "                         c = concatenado_ch['NU_NOTA_CH'],\n",
        "                         cmap = 'RdYlGn',\n",
        "                         figsize = (12,10)).set_title('Média em notas de Ciências Humanas ENEM 2019 por Município',  fontsize = 16);"
      ],
      "execution_count": null,
      "outputs": []
    },
    {
      "cell_type": "markdown",
      "metadata": {
        "id": "-mnw2O1e6HGg"
      },
      "source": [
        "Apesar dos gráficos anteriores demonstrar uma maior disparidade entre as notas das áreas, em Ciências Humanas os alunos em geral desempenharam melhor. Entretanto, é possível visualizar, ainda, um pequeno nuance na tonalidade das notas em comparação Sul/Sudeste - Norte/Nordeste."
      ]
    },
    {
      "cell_type": "markdown",
      "metadata": {
        "id": "_sB4cofa6f1T"
      },
      "source": [
        "## **Linguagens e Códigos**"
      ]
    },
    {
      "cell_type": "markdown",
      "metadata": {
        "id": "SwlrfLte6lr5"
      },
      "source": [
        "Como já visto anteriormente, estou eliminando os valores NaN pois estou considerando-os como a não presença no dia da prova."
      ]
    },
    {
      "cell_type": "code",
      "metadata": {
        "id": "xG2zfJwL6i1Q"
      },
      "source": [
        "concatenado_lc = pd.merge(nota_media_geral_municipio, coordenadas, how = 'left', left_on=['Municipio'], right_on = ['nome'])\n",
        "\n",
        "concatenado_lc.plot.scatter(y='latitude', x = 'longitude', \n",
        "                         c = concatenado_lc['NU_NOTA_LC'],\n",
        "                         cmap = 'RdYlGn',\n",
        "                         figsize = (12,10)).set_title('Média em notas de Linguagens e CódigosENEM 2019 por Município',  fontsize = 16);"
      ],
      "execution_count": null,
      "outputs": []
    },
    {
      "cell_type": "markdown",
      "metadata": {
        "id": "n2eiQTNK7BQG"
      },
      "source": [
        "A dose se repete. Novamente o Brasil de um modo geral se apresenta em um desempenho razoável, entretanto, com predominância da região ao Sul (verde mais forte."
      ]
    },
    {
      "cell_type": "markdown",
      "metadata": {
        "id": "qOKwhhJh7Ntg"
      },
      "source": [
        "## **Redação**"
      ]
    },
    {
      "cell_type": "markdown",
      "metadata": {
        "id": "6uIFuhSz7Xk4"
      },
      "source": [
        "Como já visto anteriormente, estou eliminando os valores NaN pois estou considerando-os como a não presença no dia da prova."
      ]
    },
    {
      "cell_type": "code",
      "metadata": {
        "id": "CQNfcDHl7VPp"
      },
      "source": [
        "concatenado_red = pd.merge(nota_media_geral_municipio, coordenadas, how = 'left', left_on=['Municipio'], right_on = ['nome'])\n",
        "\n",
        "concatenado_red.plot.scatter(y='latitude', x = 'longitude', \n",
        "                         c = concatenado_red['NU_NOTA_REDACAO'],\n",
        "                         cmap = 'RdYlGn',\n",
        "                         figsize = (12,10)).set_title('Média em notas de Redação ENEM 2019 por Município',  fontsize = 16);"
      ],
      "execution_count": null,
      "outputs": []
    },
    {
      "cell_type": "markdown",
      "metadata": {
        "id": "jvunrocU7i02"
      },
      "source": [
        "Um pouco diferente dos gráficos anteriores, a região Sudeste foi a que mais se destacou nos gráficos. Novamente, a prevalencia das notas menores se dá no Norte e Nordeste."
      ]
    },
    {
      "cell_type": "markdown",
      "metadata": {
        "id": "A4VLts1QeHL4"
      },
      "source": [
        "# **O comportamento das notas no Estado de São Paulo de acordo com o IDH**\n",
        "\n",
        "\n",
        "---\n",
        "\n",
        "![](https://i.ibb.co/1MJxDVn/Apresenta-o-sem-t-tulo-6.jpg)"
      ]
    },
    {
      "cell_type": "markdown",
      "metadata": {
        "id": "5p3BNVPl78qU"
      },
      "source": [
        "A fim de analisar o estado em que resido, importarei os dados referente ao próprio estado para cada município a fim de coletar algumas informações. Os dados foram obtidos do próprio site do IBGE.\n",
        "\n",
        "*Referência: https://www.ibge.gov.br/cidades-e-estados/sp/sao-paulo.html*"
      ]
    },
    {
      "cell_type": "markdown",
      "metadata": {
        "id": "UWjbMyYi8edS"
      },
      "source": [
        "**Importando os dados**"
      ]
    },
    {
      "cell_type": "code",
      "metadata": {
        "id": "sHdjyuoT7Bm6"
      },
      "source": [
        "dados_sp = pd.read_csv('https://raw.githubusercontent.com/mathllorente/idh/main/DADOS_SP_MUNICIPIOS.csv', sep = ';', encoding=\"ISO-8859-1\")\n",
        "sp_dados = dados_enem2019.loc[dados_enem2019['SG_UF_RESIDENCIA'] == 'SP'][['NU_NOTA_CN', 'NU_NOTA_CH', 'NU_NOTA_MT', 'NU_NOTA_LC', 'TP_COR_RACA', 'SG_UF_RESIDENCIA', 'TP_SEXO', 'NO_MUNICIPIO_RESIDENCIA']].dropna(subset=['NU_NOTA_MT', 'NU_NOTA_CN', 'NU_NOTA_LC', 'NU_NOTA_CH'])\n",
        "\n",
        "dados_sp.head()"
      ],
      "execution_count": null,
      "outputs": []
    },
    {
      "cell_type": "markdown",
      "metadata": {
        "id": "mB4WEHO8zLPE"
      },
      "source": [
        "**Gerando a média por município (SP)**"
      ]
    },
    {
      "cell_type": "code",
      "metadata": {
        "id": "wwucRAXyraGM"
      },
      "source": [
        "nota_media_sp = sp_dados.groupby(['NO_MUNICIPIO_RESIDENCIA']).mean()[['NU_NOTA_CN', 'NU_NOTA_CH', 'NU_NOTA_MT', 'NU_NOTA_LC']]\n",
        "nota_media_sp['Municipio'] = nota_media_sp.index\n",
        "nota_media_sp.head()"
      ],
      "execution_count": null,
      "outputs": []
    },
    {
      "cell_type": "markdown",
      "metadata": {
        "id": "CKO3iYROzQvd"
      },
      "source": [
        "**Plotando os gráficos de dispersão**"
      ]
    },
    {
      "cell_type": "code",
      "metadata": {
        "id": "KNLidg-OwXsz"
      },
      "source": [
        "concatenado_sp = pd.merge(nota_media_sp, dados_sp, how = 'left', left_on=['Municipio'], right_on = ['Município'])\n",
        "idh_medias_sp = concatenado_sp[['Municipio', 'NU_NOTA_CN', 'NU_NOTA_CH', 'NU_NOTA_MT', 'NU_NOTA_LC', 'IDHM_2010']]\n",
        "\n",
        "plt.figure(figsize=(15,8))\n",
        "plt.subplot(2,2,1)\n",
        "plt.title('Relação entre IDH do município e a média em Ciências da Natureza')\n",
        "plt.scatter(data = idh_medias_sp, y = 'NU_NOTA_CN', x = 'IDHM_2010');\n",
        "plt.subplot(2,2,2)\n",
        "plt.title('Relação entre IDH do município e a média em Ciências Humanas')\n",
        "plt.scatter(data = idh_medias_sp, y = 'NU_NOTA_CH', x = 'IDHM_2010');\n",
        "plt.subplot(2,2,3)\n",
        "plt.title('Relação entre IDH do município e a média em Matemática')\n",
        "plt.scatter(data = idh_medias_sp, y = 'NU_NOTA_MT', x = 'IDHM_2010');\n",
        "plt.subplot(2,2,4)\n",
        "plt.title('Relação entre IDH do município e a média em Linguagens e Códigos')\n",
        "plt.scatter(data = idh_medias_sp, y = 'NU_NOTA_LC', x = 'IDHM_2010');"
      ],
      "execution_count": null,
      "outputs": []
    },
    {
      "cell_type": "markdown",
      "metadata": {
        "id": "QpQC9dwGzH4M"
      },
      "source": [
        "Visualmente os dados se dispersam muito em relação ao IDH do município."
      ]
    },
    {
      "cell_type": "code",
      "metadata": {
        "id": "d_Xakj9mzq9r"
      },
      "source": [
        "correlacao_sp = idh_medias_sp[['NU_NOTA_CN', 'NU_NOTA_CH', 'NU_NOTA_MT', 'NU_NOTA_LC', 'IDHM_2010']].corr()\n",
        "sns.heatmap(correlacao_sp, cmap=\"Blues\", center=0, annot=True);"
      ],
      "execution_count": null,
      "outputs": []
    },
    {
      "cell_type": "markdown",
      "metadata": {
        "id": "XAs5arzI1eoZ"
      },
      "source": [
        "Os valores acima são interpretados pela seguinte proposta:\n",
        "\n",
        "*Fonte: http://leg.ufpr.br/~silvia/CE003/node74.html*"
      ]
    },
    {
      "cell_type": "markdown",
      "metadata": {
        "id": "O1vDqg5Q1Lmu"
      },
      "source": [
        "![](https://i.ibb.co/BGjBvwz/Apresenta-o-sem-t-tulo-21.jpg)"
      ]
    },
    {
      "cell_type": "markdown",
      "metadata": {
        "id": "0YQQU0161slW"
      },
      "source": [
        "De fato, há uma fraca relação entre o IDH e as provas. As que mais se destacaram pela relação foi a de Ciências da Natureza e de Ciências Humanas.  Apesar de haver uma correlação fraca (não se é esperada uma correlação forte, dito que é apenas um evento de muitos) o IDH tem sim sua influência nas notas do ENEM.\n",
        "\n",
        "Esse fator é visível a partir dos gráficos, onde há uma mínima inclinação positiva da esquerda para direita, em que quanto maior o IDH maior serão as notas. "
      ]
    },
    {
      "cell_type": "markdown",
      "metadata": {
        "id": "Jq29OmKfUAlH"
      },
      "source": [
        "#**Como que a escolaridade dos pais influencia nas notas?**\n",
        "\n",
        "\n",
        "---\n",
        "\n",
        "![](https://i.ibb.co/52gWrSd/Apresenta-o-sem-t-tulo-9.jpg)"
      ]
    },
    {
      "cell_type": "markdown",
      "metadata": {
        "id": "ekm59o9JUcg_"
      },
      "source": [
        "Nesta ocasião, estarei analisando a relação entre a escolaridade dos pais dos candidados e seu desempenho nas provas.  Para isso, utilizarei as variáveis **Q001** e **Q002**"
      ]
    },
    {
      "cell_type": "markdown",
      "metadata": {
        "id": "SGuGKNCUVNll"
      },
      "source": [
        "**Q001** Até que série seu pai, ou o homem responsável por você, estudou?\n",
        "\n",
        "**Q002** Até que série sua mãe, ou a mulher responsável por você, estudou?"
      ]
    },
    {
      "cell_type": "markdown",
      "metadata": {
        "id": "qdtlW8z8Y6ti"
      },
      "source": [
        "**Criando um dicionário com as respostas para as questões e criando uma coluna para elucidar a resposta**"
      ]
    },
    {
      "cell_type": "code",
      "metadata": {
        "id": "WMYen7w-UqM9"
      },
      "source": [
        "respostas_escolaridade_pais = {\n",
        "    'A': 'Nunca estudou.',\n",
        "    'B': 'Não completou a 4ª série/5º ano do Ensino Fundamental.',\n",
        "    'C': 'Completou a 4ª série/5º ano, mas não completou a 8ª série/9º ano do Ensino Fundamental.',\n",
        "    'D': 'Completou a 8ª série/9º ano do Ensino Fundamental, mas não completou o Ensino Médio.',\n",
        "    'E': 'Completou o Ensino Médio, mas não completou a Faculdade.',\n",
        "    'F': 'Completou a Faculdade, mas não completou a Pós-graduação.',\n",
        "    'G': 'Completou a Pós-graduação.',\n",
        "    'H': 'Não sei.'\n",
        "}"
      ],
      "execution_count": null,
      "outputs": []
    },
    {
      "cell_type": "code",
      "metadata": {
        "id": "6R6CQbP1ZVY2"
      },
      "source": [
        "influencia_pais = dados_enem2019[['NU_NOTA_CN', 'NU_NOTA_CH', 'NU_NOTA_MT', 'NU_NOTA_LC', 'Q001', 'Q002', 'SG_UF_RESIDENCIA', 'NO_MUNICIPIO_RESIDENCIA']]\n",
        "influencia_pais['Q001_RESPOSTA_PAI'] = [respostas_escolaridade_pais[respostas] for respostas in influencia_pais.Q001]\n",
        "influencia_pais['Q002_RESPOSTA_MAE'] = [respostas_escolaridade_pais[respostas] for respostas in influencia_pais.Q002]\n",
        "influencia_pais"
      ],
      "execution_count": null,
      "outputs": []
    },
    {
      "cell_type": "markdown",
      "metadata": {
        "id": "zkzTjM-reBme"
      },
      "source": [
        "**Analisando a distribuição das respostas referente ao Pai**"
      ]
    },
    {
      "cell_type": "code",
      "metadata": {
        "id": "_J6s9L3xeI0M"
      },
      "source": [
        "pai = pd.DataFrame(influencia_pais.Q001_RESPOSTA_PAI.value_counts())\n",
        "pai"
      ],
      "execution_count": null,
      "outputs": []
    },
    {
      "cell_type": "code",
      "metadata": {
        "id": "frbrl5XYogun"
      },
      "source": [
        "pai.plot.barh().set_title('Escolaridade dos Pais dos candidatos ENEM 2019', fontsize = 16);"
      ],
      "execution_count": null,
      "outputs": []
    },
    {
      "cell_type": "markdown",
      "metadata": {
        "id": "5Afmacz5eaGa"
      },
      "source": [
        "**Analisando a distribuição das respostas referente à Mãe**"
      ]
    },
    {
      "cell_type": "code",
      "metadata": {
        "id": "TxA2Hr6JeWBG"
      },
      "source": [
        "mae = pd.DataFrame(influencia_pais.Q002_RESPOSTA_MAE.value_counts())\n",
        "mae"
      ],
      "execution_count": null,
      "outputs": []
    },
    {
      "cell_type": "code",
      "metadata": {
        "id": "OR_Asex4pdym"
      },
      "source": [
        "mae.plot.barh().set_title('Escolaridade das Mães dos candidatos ENEM 2019',  fontsize = 16);"
      ],
      "execution_count": null,
      "outputs": []
    },
    {
      "cell_type": "markdown",
      "metadata": {
        "id": "I5Okg4SZkjkZ"
      },
      "source": [
        "É possível visualizar, nas tabelas acima, que a questão respondida por \"Não Sei.\" no caso do pai é de 11002 e no caso da mãe é de 3666. **Levanto a hipótese de uma possível evasão dos pais nas famílias, sendo mais presente a mãe.**"
      ]
    },
    {
      "cell_type": "code",
      "metadata": {
        "id": "IZVWZWYrn1kP"
      },
      "source": [
        "pai['Q001_RESPOSTA_PAI'].loc[pai.index == 'Completou a Pós-graduação.'][0]/mae.sum()*100 #Proporção para pais com pós-graduação"
      ],
      "execution_count": null,
      "outputs": []
    },
    {
      "cell_type": "code",
      "metadata": {
        "id": "3DDQiWwxnHeJ"
      },
      "source": [
        "mae['Q002_RESPOSTA_MAE'].loc[mae.index == 'Completou a Pós-graduação.'][0]/mae.sum()*100 #Proporção para mães com pós-graduação"
      ],
      "execution_count": null,
      "outputs": []
    },
    {
      "cell_type": "markdown",
      "metadata": {
        "id": "GOdSeTP6fDIP"
      },
      "source": [
        "##**Como uma política histórica influencia na nota do seu filho**"
      ]
    },
    {
      "cell_type": "markdown",
      "metadata": {
        "id": "A3LK4hq_2_nM"
      },
      "source": [
        "**Como é a distribuição de escolaridade a nível de Pós-graduação do pai e da mãe pelo país?**"
      ]
    },
    {
      "cell_type": "code",
      "metadata": {
        "id": "TOldDXhH3I3c"
      },
      "source": [
        "pai_com_pos = influencia_pais.loc[influencia_pais['Q001_RESPOSTA_PAI'] == 'Completou a Pós-graduação.']\n",
        "estado_pai_com_pos = pai_com_pos['SG_UF_RESIDENCIA'].value_counts()\n",
        "municipios_pai = estado_pai_com_pos.index\n",
        "estado_pai_com_pos = pd.DataFrame(estado_pai_com_pos)\n",
        "estado_pai_com_pos['Estado'] = municipios_pai\n",
        "estado_pai_com_pos.head()"
      ],
      "execution_count": null,
      "outputs": []
    },
    {
      "cell_type": "code",
      "metadata": {
        "id": "VtzvcsOF54tl"
      },
      "source": [
        "estado_pai_com_pos.plot.barh(figsize=(10, 8)).set_title('Distribuição dos pais dos candidatos ENEM2019 que tem Pós-graduação por Estado',  fontsize = 16);"
      ],
      "execution_count": null,
      "outputs": []
    },
    {
      "cell_type": "code",
      "metadata": {
        "id": "k8CybdCuIXRW"
      },
      "source": [
        "mae_com_pos = influencia_pais.loc[influencia_pais['Q002_RESPOSTA_MAE'] == 'Completou a Pós-graduação.']\n",
        "estado_mae_com_pos = mae_com_pos['SG_UF_RESIDENCIA'].value_counts()\n",
        "municipios_mae = estado_mae_com_pos.index\n",
        "estado_mae_com_pos = pd.DataFrame(estado_mae_com_pos)\n",
        "estado_mae_com_pos['Estado'] = municipios_mae\n",
        "estado_mae_com_pos.head()"
      ],
      "execution_count": null,
      "outputs": []
    },
    {
      "cell_type": "code",
      "metadata": {
        "id": "BwrJa5zOJZsC"
      },
      "source": [
        "estado_mae_com_pos.plot.barh(figsize=(10, 8)).set_title('Distribuição das mães dos candidatos ENEM2019 que tem Pós-graduação por Estado',  fontsize = 16);"
      ],
      "execution_count": null,
      "outputs": []
    },
    {
      "cell_type": "markdown",
      "metadata": {
        "id": "BWMP43OqHf6H"
      },
      "source": [
        "Majoritariamente o Estado de São Paulo ocupa a primeira posição, em segundo o estado de Minas Gerais. Portanto, os Estados do sudeste apresentam uma representatividade maior no páis conquanto aos pais com uma escolaridade mais desenvolvida.\n",
        "Esse fator pode ser histórico. É possível relacionar, tanto pela população maior, quanto pela política **Café com Leite** executada na República Velha, onde os Estados de Minas Gerais e São Paulo foram predominantes no período ante 1930. Diante disso, com a riqueza, é possível relacionar um possível cunho histórico, tanto de desenvolvimento econômico, quanto de incentivo educacional e social."
      ]
    },
    {
      "cell_type": "markdown",
      "metadata": {
        "id": "5R6uLZkvlIcQ"
      },
      "source": [
        "**Como é o comportamento da escolaridade nas notas maiores?**"
      ]
    },
    {
      "cell_type": "code",
      "metadata": {
        "id": "IKOGxrHElMks"
      },
      "source": [
        "notas_maiores_pai = influencia_pais.query('NU_NOTA_CN > 600 & NU_NOTA_CH > 600 & NU_NOTA_MT > 600 & NU_NOTA_LC > 600')\n",
        "notas_maiores_pai_atual = pd.DataFrame(notas_maiores_pai['Q001_RESPOSTA_PAI'].value_counts(normalize = True))\n",
        "notas_maiores_pai_atual"
      ],
      "execution_count": null,
      "outputs": []
    },
    {
      "cell_type": "code",
      "metadata": {
        "id": "3dnDMfv5rN3J"
      },
      "source": [
        "notas_maiores_pai_atual.plot.barh().set_title('Escolaridade dos Pais dos candidatos com notas maiores que 600 ENEM 2019',  fontsize = 16);"
      ],
      "execution_count": null,
      "outputs": []
    },
    {
      "cell_type": "code",
      "metadata": {
        "id": "QLfwdpQhmC4y"
      },
      "source": [
        "notas_maiores_mae = influencia_pais.query('NU_NOTA_CN > 600 & NU_NOTA_CH > 600 & NU_NOTA_MT > 600 & NU_NOTA_LC > 600')\n",
        "notas_maiores_mae_atual = pd.DataFrame(notas_maiores_mae['Q002_RESPOSTA_MAE'].value_counts(normalize = True))\n",
        "notas_maiores_mae_atual"
      ],
      "execution_count": null,
      "outputs": []
    },
    {
      "cell_type": "code",
      "metadata": {
        "id": "knd5sp1lq-4F"
      },
      "source": [
        "notas_maiores_mae_atual.plot.barh().set_title('Escolaridade das Mães dos candidatos com notas maiores que 600 ENEM 2019',  fontsize = 16);"
      ],
      "execution_count": null,
      "outputs": []
    },
    {
      "cell_type": "markdown",
      "metadata": {
        "id": "VJXWaH6-D5VU"
      },
      "source": [
        "É nítido que, quanto mais desenvolvida a escolaridade dos pais, melhor é o desempenho de seus filhos."
      ]
    },
    {
      "cell_type": "markdown",
      "metadata": {
        "id": "o9wGWbwvmCUG"
      },
      "source": [
        "**HIPÓTESE:**Além da maior presença da mãe nas famílias, a escolaridade da mãe quanto mais desenvolvida (tende à pós-gradruação) é, maior é a chance do filho tirar notas maiores que 600. Em contrapartida, a escolaridade do pai se encontra em proporções mais suaves quanto ao desenvolvimento. \n",
        "Portanto, a influência maior é com respeito à escolaridade da própria mãe."
      ]
    },
    {
      "cell_type": "markdown",
      "metadata": {
        "id": "lI5_xjZNoBbf"
      },
      "source": [
        "**É importante ressaltar que,** apesar da influência mais significativa ser pela pós-graduação, apenas 7,9% das mães possuem pós-graduação completa."
      ]
    },
    {
      "cell_type": "markdown",
      "metadata": {
        "id": "kkWFQE1ur1ya"
      },
      "source": [
        "**Como é a distribuição das notas com candidatos que tem mãe com pós completa?**"
      ]
    },
    {
      "cell_type": "code",
      "metadata": {
        "id": "fqfY-98Tr8ib"
      },
      "source": [
        "mae_com_pos.head()"
      ],
      "execution_count": null,
      "outputs": []
    },
    {
      "cell_type": "code",
      "metadata": {
        "id": "hdr38NHAwU5h"
      },
      "source": [
        "plt.figure(figsize=(10, 8))\n",
        "sns.set_theme(style=\"whitegrid\")\n",
        "sns.histplot(data = mae_com_pos).set_title('Distribuição das notas dos candidatos que tem mãe com pós completa ENEM2019',  fontsize = 16);"
      ],
      "execution_count": null,
      "outputs": []
    },
    {
      "cell_type": "code",
      "metadata": {
        "id": "9W7aov-xt5er"
      },
      "source": [
        "plt.figure(figsize=(10, 8))\n",
        "mae_com_pos.boxplot().set_title('Distribuição das notas dos candidatos que tem mãe com pós completa ENEM2019',  fontsize = 16);"
      ],
      "execution_count": null,
      "outputs": []
    },
    {
      "cell_type": "code",
      "metadata": {
        "id": "FuxOTM4iRtUI"
      },
      "source": [
        "mae_com_pos.describe()"
      ],
      "execution_count": null,
      "outputs": []
    },
    {
      "cell_type": "markdown",
      "metadata": {
        "id": "CFxQnZ1-RUm3"
      },
      "source": [
        "**Comparando com a distribuição das mães que não possuem pós**"
      ]
    },
    {
      "cell_type": "code",
      "metadata": {
        "id": "sGT-XB77R2rn"
      },
      "source": [
        "mae_sem_pos = influencia_pais.loc[influencia_pais['Q002_RESPOSTA_MAE'] != 'Completou a Pós-graduação.']\n",
        "plt.figure(figsize=(10, 8))\n",
        "sns.set_theme(style=\"whitegrid\")\n",
        "sns.histplot(data = mae_sem_pos).set_title('Distribuição das notas dos candidatos que tem mãe sem pós completa ou inferior ENEM2019',  fontsize = 16);"
      ],
      "execution_count": null,
      "outputs": []
    },
    {
      "cell_type": "code",
      "metadata": {
        "id": "bybLEVZ5RJlN"
      },
      "source": [
        "plt.figure(figsize=(10, 8))\n",
        "mae_sem_pos.boxplot().set_title('Distribuição das notas dos candidatos que tem mãe sem pós completa ou inferior ENEM2019',  fontsize = 16);"
      ],
      "execution_count": null,
      "outputs": []
    },
    {
      "cell_type": "code",
      "metadata": {
        "id": "hwHNVtH9SSy1"
      },
      "source": [
        "mae_sem_pos.describe()"
      ],
      "execution_count": null,
      "outputs": []
    },
    {
      "cell_type": "markdown",
      "metadata": {
        "id": "1JFDgd0-Tar7"
      },
      "source": [
        "Dado o exposto das tabelas e dos gráficos, é visível que, as médias dos alunos com mãe com pós completa são maiores daqueles que não tem. É importante ressaltar que, as notas deles também são mais próximas de uma distribuição normal, comparando os histogramas (analisando a simetria dos gráficos para cada área). Um ponto importante a se ressaltar é que, na área de **Ciências da Natureza** nenhum aluno com mãe com pós tirou zero, diferente daqueles que não tem que houve nota zero (além se assemelhar com uma distribuição de poisson)."
      ]
    },
    {
      "cell_type": "markdown",
      "metadata": {
        "id": "sabYJXNHGYw_"
      },
      "source": [
        "## **Visualização Geral das notas por Escolaridade da mãe**"
      ]
    },
    {
      "cell_type": "code",
      "metadata": {
        "id": "eb2YHzSdGeKS"
      },
      "source": [
        "plt.figure(figsize=(20, 10))\n",
        "sns.boxplot(x= \"NU_NOTA_MT\", y =\"Q002_RESPOSTA_MAE\", data = influencia_pais)\n",
        "plt.title(\"Boxplot das notas de matemática pelo escolaridade da mãe\",  fontsize = 16);"
      ],
      "execution_count": null,
      "outputs": []
    },
    {
      "cell_type": "code",
      "metadata": {
        "id": "dYcQo66KIYSU"
      },
      "source": [
        "plt.figure(figsize=(20, 10))\n",
        "sns.boxplot(x= \"NU_NOTA_LC\", y =\"Q002_RESPOSTA_MAE\", data = influencia_pais)\n",
        "plt.title(\"Boxplot das notas de linguagens e códigos pelo escolaridade da mãe\",  fontsize = 16);"
      ],
      "execution_count": null,
      "outputs": []
    },
    {
      "cell_type": "code",
      "metadata": {
        "id": "_fyyMbIvIZ3D"
      },
      "source": [
        "plt.figure(figsize=(20, 10))\n",
        "sns.boxplot(x= \"NU_NOTA_CH\", y =\"Q002_RESPOSTA_MAE\", data = influencia_pais)\n",
        "plt.title(\"Boxplot das notas de ciências humanas pelo escolaridade da mãe\",  fontsize = 16);"
      ],
      "execution_count": null,
      "outputs": []
    },
    {
      "cell_type": "code",
      "metadata": {
        "id": "9zHm42RqIbsq"
      },
      "source": [
        "plt.figure(figsize=(20, 10))\n",
        "sns.boxplot(x= \"NU_NOTA_CN\", y =\"Q002_RESPOSTA_MAE\", data = influencia_pais)\n",
        "plt.title(\"Boxplot das notas de ciências da natureza pelo escolaridade da mãe\",  fontsize = 16);"
      ],
      "execution_count": null,
      "outputs": []
    },
    {
      "cell_type": "markdown",
      "metadata": {
        "id": "PJDDxT50bAQi"
      },
      "source": [
        "Com os gráficos acima, é possível constatar o efeito da escolaridade das mães no desempenho de seus filhos. A distribuição das notas dos filhos de quem tem pós-completa é mais deslocada para direita (nota maior) do que as de quem Nunca Estudou (contém as menores notas)."
      ]
    },
    {
      "cell_type": "markdown",
      "metadata": {
        "id": "aw2CcUF0Tivd"
      },
      "source": [
        "## **Há diferença significativa nas notas das áreas para a escolaridade da mãe? Testes estatísticos: ANOVA, TUKEY**"
      ]
    },
    {
      "cell_type": "markdown",
      "metadata": {
        "id": "z8FXcaRbUBzN"
      },
      "source": [
        "**Análise de variância** é a técnica estatística que permite avaliar afirmações sobre as médias de populações. A análise visa, fundamentalmente, verificar se existe uma diferença significativa entre as médias e se os fatores exercem influência em alguma variável dependente. \n",
        "\n",
        "*Fonte: https://pt.wikipedia.org/wiki/An%C3%A1lise_de_vari%C3%A2ncia*"
      ]
    },
    {
      "cell_type": "markdown",
      "metadata": {
        "id": "MYQEmaE7UBzO"
      },
      "source": [
        "Para essa ocasião, estarei criando um modelo de ANOVA para realizar o teste se há diferença significativa entre as escolaridades das mães. Para identificar, basta que o PR(>F) seja menor que 0,05 (nível de confiança para 95%) para contestar que há. (Hipótese Nula: Não há diferença significativa entre os grupos)."
      ]
    },
    {
      "cell_type": "code",
      "metadata": {
        "id": "BDjbWzgxUBzO"
      },
      "source": [
        "teste_escolaridade_mae = influencia_pais.dropna(subset=['NU_NOTA_MT', 'NU_NOTA_CN', 'NU_NOTA_LC', 'NU_NOTA_CH']) #eliminando os valores NaN para tornar o modelo visível e saudável."
      ],
      "execution_count": null,
      "outputs": []
    },
    {
      "cell_type": "markdown",
      "metadata": {
        "id": "dYuE8q2RUq63"
      },
      "source": [
        "Irei utilizar as respostas pelas alternativas, a fim de tornar a visualização das tabelas mais clara. Portanto, estou deixando aqui o que significa cada resposta:\n",
        "\n",
        "**A:** 'Nunca estudou.'\n",
        "\n",
        "**B:** 'Não completou a 4ª série/5º ano do Ensino Fundamental.',\n",
        "\n",
        "**C:**'Completou a 4ª série/5º ano, mas não completou a 8ª série/9º ano do Ensino Fundamental.',\n",
        "\n",
        "**D:** 'Completou a 8ª série/9º ano do Ensino Fundamental, mas não completou o Ensino Médio.',\n",
        "\n",
        "**E:**'Completou o Ensino Médio, mas não completou a Faculdade.',\n",
        "\n",
        "**F:** 'Completou a Faculdade, mas não completou a Pós-graduação.',\n",
        "\n",
        "**G:**'Completou a Pós-graduação.',\n",
        "\n",
        "**H:** 'Não sei.'"
      ]
    },
    {
      "cell_type": "markdown",
      "metadata": {
        "id": "JxPkDSCFUBzT"
      },
      "source": [
        "### **Matemática**"
      ]
    },
    {
      "cell_type": "code",
      "metadata": {
        "id": "_OCqpLdsUBzX"
      },
      "source": [
        "modelo1 = ols('NU_NOTA_MT ~ Q002_RESPOSTA_MAE', data = teste_escolaridade_mae).fit()\n",
        "resultados1 = sm.stats.anova_lm(modelo1)\n",
        "resultados1"
      ],
      "execution_count": null,
      "outputs": []
    },
    {
      "cell_type": "markdown",
      "metadata": {
        "id": "YCvmq5H7UBzb"
      },
      "source": [
        "**Rejeitar a hipótese nula.** O resultado demonstra que sim, há diferença significativa entre os grupos nas notas de matemática. (afirmando o argumento da seção acima)"
      ]
    },
    {
      "cell_type": "code",
      "metadata": {
        "id": "KwV8MOetUBzc"
      },
      "source": [
        "mc = MultiComparison(teste_escolaridade_mae['NU_NOTA_MT'], teste_escolaridade_mae['Q002'])\n",
        "resultado_teste1 = mc.tukeyhsd()\n",
        "resultado_teste1.summary()"
      ],
      "execution_count": null,
      "outputs": []
    },
    {
      "cell_type": "markdown",
      "metadata": {
        "id": "Ju1PU_y8UBzf"
      },
      "source": [
        "É nítido que há uma diferença significativa entre todas as escolaridades. Ademais, é possível ressaltar que NÃO HÁ DIFERENÇA SIGNIFICATIVA entre as mães que Não completou a 4ª série/5º ano do Ensino Fundamental e as que os candidatos Não sabem. "
      ]
    },
    {
      "cell_type": "markdown",
      "metadata": {
        "id": "-hz9AcGVUBzi"
      },
      "source": [
        "### **Ciências da Natureza**"
      ]
    },
    {
      "cell_type": "code",
      "metadata": {
        "id": "n9V5AN45UBzi"
      },
      "source": [
        "modelo2 = ols('NU_NOTA_CN ~ Q002_RESPOSTA_MAE', data = teste_escolaridade_mae).fit()\n",
        "resultados2 = sm.stats.anova_lm(modelo2)\n",
        "resultados2"
      ],
      "execution_count": null,
      "outputs": []
    },
    {
      "cell_type": "markdown",
      "metadata": {
        "id": "myNSLVCUUBzk"
      },
      "source": [
        "**Rejeitar a hipótese nula.** O resultado demonstra que sim, há diferença significativa entre os grupos nas notas de ciências da natureza. (afirmando o argumento da seção acima)"
      ]
    },
    {
      "cell_type": "code",
      "metadata": {
        "id": "d43L4i86UBzl"
      },
      "source": [
        "mc = MultiComparison(teste_escolaridade_mae['NU_NOTA_CN'], teste_escolaridade_mae['Q002'])\n",
        "resultado_teste2 = mc.tukeyhsd()\n",
        "resultado_teste2.summary()"
      ],
      "execution_count": null,
      "outputs": []
    },
    {
      "cell_type": "markdown",
      "metadata": {
        "id": "nWuK_P4IUBzn"
      },
      "source": [
        "Novamente, a dose anterior se repete. Não há diferença entre a categoria B e H."
      ]
    },
    {
      "cell_type": "markdown",
      "metadata": {
        "id": "yWWcBcIYUBzs"
      },
      "source": [
        "### **Linguagens e Códigos**"
      ]
    },
    {
      "cell_type": "code",
      "metadata": {
        "id": "8TqOjlStUBzs"
      },
      "source": [
        "modelo3 = ols('NU_NOTA_LC ~ Q002_RESPOSTA_MAE', data = teste_escolaridade_mae).fit()\n",
        "resultados3 = sm.stats.anova_lm(modelo3)\n",
        "resultados3"
      ],
      "execution_count": null,
      "outputs": []
    },
    {
      "cell_type": "markdown",
      "metadata": {
        "id": "Pp2BURasUBzu"
      },
      "source": [
        "**Rejeitar a hipótese nula.** O resultado demonstra que sim, há diferença significativa entre os grupos nas notas de linguagens e códigos. (afirmando o argumento da seção acima)"
      ]
    },
    {
      "cell_type": "code",
      "metadata": {
        "id": "GtDx54BmUBzv"
      },
      "source": [
        "mc = MultiComparison(teste_escolaridade_mae['NU_NOTA_LC'], teste_escolaridade_mae['Q002'])\n",
        "resultado_teste3 = mc.tukeyhsd()\n",
        "resultado_teste3.summary()"
      ],
      "execution_count": null,
      "outputs": []
    },
    {
      "cell_type": "markdown",
      "metadata": {
        "id": "AD5TCubFUBzx"
      },
      "source": [
        "Novamente, o efeito se repete."
      ]
    },
    {
      "cell_type": "markdown",
      "metadata": {
        "id": "j0STCeLQUBz4"
      },
      "source": [
        "### **Ciências Humanas**"
      ]
    },
    {
      "cell_type": "code",
      "metadata": {
        "id": "x4q61ZyCUBz5"
      },
      "source": [
        "modelo4 = ols('NU_NOTA_CH ~ Q002_RESPOSTA_MAE', data = teste_escolaridade_mae).fit()\n",
        "resultados4 = sm.stats.anova_lm(modelo4)\n",
        "resultados4"
      ],
      "execution_count": null,
      "outputs": []
    },
    {
      "cell_type": "markdown",
      "metadata": {
        "id": "0ABlRgitUBz7"
      },
      "source": [
        "**Rejeitar a hipótese nula.** O resultado demonstra que sim, há diferença significativa entre os grupos nas notas de ciências humanas. (afirmando o argumento da seção acima)"
      ]
    },
    {
      "cell_type": "code",
      "metadata": {
        "id": "MRTxfWlsUBz8"
      },
      "source": [
        "mc = MultiComparison(teste_escolaridade_mae['NU_NOTA_CH'], teste_escolaridade_mae['Q002'])\n",
        "resultado_teste4 = mc.tukeyhsd()\n",
        "resultado_teste4.summary()"
      ],
      "execution_count": null,
      "outputs": []
    },
    {
      "cell_type": "markdown",
      "metadata": {
        "id": "-GvTCz7PUBz-"
      },
      "source": [
        "De fato, EM TODAS AS ÁREAS, todas as escolaridades fazem diferença entre elas, menos entre a categoria B e H."
      ]
    },
    {
      "cell_type": "markdown",
      "metadata": {
        "id": "b6G0RMwrW-FC"
      },
      "source": [
        "### **Conclusão escolaridade mãe**\n",
        "De fato, a mãe ter uma escolaridade mais desenvolvida faz diferença, entretanto, não faz diferença se a mãe tem escolaridade que o filho não sabe ou que Não completou a 4ª série/5º ano do Ensino Fundamental."
      ]
    },
    {
      "cell_type": "markdown",
      "metadata": {
        "id": "xDI9RVOHSD6i"
      },
      "source": [
        "## **O comportamento das notas em Ciências Humanas de candidato com mãe certificada com pós-graduação completa**"
      ]
    },
    {
      "cell_type": "markdown",
      "metadata": {
        "id": "NIw45vnTvWMS"
      },
      "source": [
        "É perceptível uma possível simetria e coerência no boxplot gerado com as notas de Ciências Humanas. Irei plotar um histograma com os mesmos dados."
      ]
    },
    {
      "cell_type": "code",
      "metadata": {
        "id": "rrMZ2m8ivNh2"
      },
      "source": [
        "plt.figure(figsize=(10, 8))\n",
        "sns.set_theme(style=\"whitegrid\")\n",
        "enem_media_mae= plt.axvline(x = mae_com_pos['NU_NOTA_CH'].mean(), c = \"#05BA7F\", linewidth = 4, linestyle = '--')\n",
        "enem_mediana_mae = plt.axvline(x = mae_com_pos['NU_NOTA_CH'].median(), c = \"#A558C4\", linewidth = 4, linestyle = ':')\n",
        "enem_moda_mae = plt.axvline(x = mae_com_pos['NU_NOTA_CH'].mode()[0], c = \"#FF5733\", linewidth = 4, linestyle = '-.')\n",
        "plt.legend([enem_media_mae, enem_mediana_mae, enem_moda_mae], ['Média', 'Mediana', 'Moda'])\n",
        "sns.histplot(mae_com_pos['NU_NOTA_CH'], bins = 35).set_title('Distribuição das notas em Ciências Humanas dos candidatos com mãe que possui pós-graduação ENEM2019',  fontsize = 16);"
      ],
      "execution_count": null,
      "outputs": []
    },
    {
      "cell_type": "code",
      "metadata": {
        "id": "OjkYk8wvya0L"
      },
      "source": [
        " #Gerando a linha de densidade\n",
        "sns.distplot(a = mae_com_pos['NU_NOTA_CH']).set_title('Distribuição das notas em Ciências Humanas dos candidatos com mãe que possui pós-graduação ENEM2019',  fontsize = 16);"
      ],
      "execution_count": null,
      "outputs": []
    },
    {
      "cell_type": "markdown",
      "metadata": {
        "id": "YcVUlTvxwCpm"
      },
      "source": [
        "Instigado com o formato de sino, decidi verificar a partir de um teste de hipótese para verificar se os dados estão normalmente distribuídos."
      ]
    },
    {
      "cell_type": "markdown",
      "metadata": {
        "id": "04iZLq7SwLnc"
      },
      "source": [
        "### **Teste de Shapiro-Wilk**"
      ]
    },
    {
      "cell_type": "markdown",
      "metadata": {
        "id": "BhaArnBrMwlq"
      },
      "source": [
        "A fim de que uma distribuição seja normal, neste teste de hipótese o p-value deve ser **maior que 0,05**"
      ]
    },
    {
      "cell_type": "markdown",
      "metadata": {
        "id": "2EY-HrZ8MhgB"
      },
      "source": [
        "Eliminando os valores NaN"
      ]
    },
    {
      "cell_type": "code",
      "metadata": {
        "id": "AuVixmE5xCyA"
      },
      "source": [
        "ch_mae_pos = mae_com_pos['NU_NOTA_CH'].dropna()\n",
        "ch_mae_pos.shape"
      ],
      "execution_count": null,
      "outputs": []
    },
    {
      "cell_type": "markdown",
      "metadata": {
        "id": "1k31gUerMkxe"
      },
      "source": [
        "Gerando uma amostra aleatória, a fim de diminuir o dataset (a função shapiro se limita a 5000 instâncias)"
      ]
    },
    {
      "cell_type": "code",
      "metadata": {
        "id": "xrsjCg3gLZOk"
      },
      "source": [
        "np.random.seed(123)\n",
        "amostra = np.random.choice(a = [0,1], size = len(ch_mae_pos), replace = True, p = [0.3,0.7])\n",
        "amostra_ch_mae_pos = ch_mae_pos.loc[amostra == 0]\n",
        "amostra_ch_mae_pos.shape"
      ],
      "execution_count": null,
      "outputs": []
    },
    {
      "cell_type": "markdown",
      "metadata": {
        "id": "iyPqDmeMMvFq"
      },
      "source": [
        "Utilizando a função shapiro do módulo stats do pacore scipy"
      ]
    },
    {
      "cell_type": "code",
      "metadata": {
        "id": "M-KCUhAqwPGL"
      },
      "source": [
        "stats.shapiro(amostra_ch_mae_pos)[1]"
      ],
      "execution_count": null,
      "outputs": []
    },
    {
      "cell_type": "markdown",
      "metadata": {
        "id": "BZ9fAQ5mMgCL"
      },
      "source": [
        "O valor p-value, por consequência, declara que os valores das notas não estão efetivamente normalmente distribuidos. Entretanto, o formato de sino, a aproximação da média para mediana nos deduz uma tendência à normalização, **diferente do formato dos candidatos que a mãe não possui pós completa, onde há uma distorção maior.**"
      ]
    },
    {
      "cell_type": "markdown",
      "metadata": {
        "id": "y2hub5DSdHRA"
      },
      "source": [
        "# **A lingua estrangeira escolhida influencia de que modo no desempenho?**\n",
        "\n",
        "\n",
        "---\n",
        "\n",
        "![](https://i.ibb.co/Jnr5phs/Apresenta-o-sem-t-tulo-10.jpg)"
      ]
    },
    {
      "cell_type": "markdown",
      "metadata": {
        "id": "fX6htBPm8NN3"
      },
      "source": [
        "Na prova do ENEM é possível escolher duas línguas para realizar na prova de Linguagens e Códigos. São elas: inglês e espanhol. Nos dados da amostra, é possível identificar a escolha através da variável TP_LÍNGUA, sendo: 0 inglês e 1 espanhol."
      ]
    },
    {
      "cell_type": "code",
      "metadata": {
        "id": "sQRS7np_9oaM"
      },
      "source": [
        "ingles = dados_enem2019.query('TP_LINGUA == 0')[['NU_NOTA_CN', 'NU_NOTA_CH', 'NU_NOTA_MT', 'NU_NOTA_LC', 'SG_UF_RESIDENCIA']]\n",
        "espanhol = dados_enem2019.query('TP_LINGUA == 1')[['NU_NOTA_CN', 'NU_NOTA_CH', 'NU_NOTA_MT', 'NU_NOTA_LC', 'SG_UF_RESIDENCIA']]"
      ],
      "execution_count": null,
      "outputs": []
    },
    {
      "cell_type": "markdown",
      "metadata": {
        "id": "1cuk-GpMDESe"
      },
      "source": [
        "**Visualização a partir de gráficos**"
      ]
    },
    {
      "cell_type": "markdown",
      "metadata": {
        "id": "0QcOKJiNDLVW"
      },
      "source": [
        "### **Inglês**"
      ]
    },
    {
      "cell_type": "code",
      "metadata": {
        "id": "ljTodvwY879j"
      },
      "source": [
        "plt.figure(figsize=(20, 14))\n",
        "plt.subplot(2, 2, 1)\n",
        "sns.set_theme(style=\"whitegrid\")\n",
        "enem_media_ingles_lc = plt.axvline(x = ingles['NU_NOTA_LC'].mean(), c = \"#05BA7F\", linewidth = 4, linestyle = '--')\n",
        "enem_mediana_ingles_lc  = plt.axvline(x = ingles['NU_NOTA_LC'].median(), c = \"#A558C4\", linewidth = 4, linestyle = ':')\n",
        "enem_moda_ingles_lc  = plt.axvline(x = ingles['NU_NOTA_LC'].mode()[0], c = \"#FF5733\", linewidth = 4, linestyle = '-.')\n",
        "plt.legend([enem_media_ingles_lc , enem_mediana_ingles_lc , enem_moda_ingles_lc], ['Média', 'Mediana', 'Moda'])\n",
        "sns.histplot(ingles['NU_NOTA_LC'], bins = 35).set_title('Linguagens e Códigos com Inglês ENEM-2019', fontsize = 16);\n",
        "\n",
        "plt.subplot(2, 2, 2)\n",
        "sns.set_theme(style=\"whitegrid\")\n",
        "enem_media_ingles_ch = plt.axvline(x = ingles['NU_NOTA_CH'].mean(), c = \"#05BA7F\", linewidth = 4, linestyle = '--')\n",
        "enem_mediana_ingles_ch  = plt.axvline(x = ingles['NU_NOTA_CH'].median(), c = \"#A558C4\", linewidth = 4, linestyle = ':')\n",
        "enem_moda_ingles_ch  = plt.axvline(x = ingles['NU_NOTA_CH'].mode()[0], c = \"#FF5733\", linewidth = 4, linestyle = '-.')\n",
        "plt.legend([enem_media_ingles_ch , enem_mediana_ingles_ch , enem_moda_ingles_ch], ['Média', 'Mediana', 'Moda'])\n",
        "sns.histplot(ingles['NU_NOTA_CH'], bins = 35).set_title('Ciências Humanas com Inglês ENEM-2019',  fontsize = 16);\n",
        "\n",
        "plt.subplot(2, 2, 3)\n",
        "sns.set_theme(style=\"whitegrid\")\n",
        "enem_media_ingles_mt = plt.axvline(x = ingles['NU_NOTA_MT'].mean(), c = \"#05BA7F\", linewidth = 4, linestyle = '--')\n",
        "enem_mediana_ingles_mt  = plt.axvline(x = ingles['NU_NOTA_MT'].median(), c = \"#A558C4\", linewidth = 4, linestyle = ':')\n",
        "enem_moda_ingles_mt  = plt.axvline(x = ingles['NU_NOTA_MT'].mode()[0], c = \"#FF5733\", linewidth = 4, linestyle = '-.')\n",
        "plt.legend([enem_media_ingles_mt , enem_mediana_ingles_mt , enem_moda_ingles_mt], ['Média', 'Mediana', 'Moda'])\n",
        "sns.histplot(ingles['NU_NOTA_MT'], bins = 35).set_title('Matemática com Inglês ENEM-2019',  fontsize = 16);\n",
        "\n",
        "\n",
        "plt.subplot(2, 2, 4)\n",
        "sns.set_theme(style=\"whitegrid\")\n",
        "enem_media_ingles_cn = plt.axvline(x = ingles['NU_NOTA_CN'].mean(), c = \"#05BA7F\", linewidth = 4, linestyle = '--')\n",
        "enem_mediana_ingles_cn  = plt.axvline(x = ingles['NU_NOTA_CN'].median(), c = \"#A558C4\", linewidth = 4, linestyle = ':')\n",
        "enem_moda_ingles_cn  = plt.axvline(x = ingles['NU_NOTA_CN'].mode()[0], c = \"#FF5733\", linewidth = 4, linestyle = '-.')\n",
        "plt.legend([enem_media_ingles_cn , enem_mediana_ingles_cn , enem_moda_ingles_cn], ['Média', 'Mediana', 'Moda'])\n",
        "sns.histplot(ingles['NU_NOTA_CN'], bins = 35).set_title('Ciências da Natureza com Inglês ENEM-2019',  fontsize = 16);\n",
        "\n",
        "\n",
        "plt.tight_layout()\n",
        "plt.show()"
      ],
      "execution_count": null,
      "outputs": []
    },
    {
      "cell_type": "markdown",
      "metadata": {
        "id": "j6rWZgpPPE3A"
      },
      "source": [
        "**De onde são as pessoas que escolheram inglês?**"
      ]
    },
    {
      "cell_type": "code",
      "metadata": {
        "id": "ze7JbY-WPVFB"
      },
      "source": [
        "estado_ingles = pd.DataFrame(ingles['SG_UF_RESIDENCIA'].value_counts())\n",
        "#Plotando o gráfico com a escala da proporção \n",
        "plt.figure(figsize=(10, 8))\n",
        "sns.set_theme(style=\"whitegrid\")\n",
        "ax = sns.barplot(x=estado_ingles.index, y = estado_ingles['SG_UF_RESIDENCIA'], data=estado_ingles).set_title('Distribuição de candidatos que escolheram inglês por Estado',  fontsize = 16)"
      ],
      "execution_count": null,
      "outputs": []
    },
    {
      "cell_type": "markdown",
      "metadata": {
        "id": "TX_KkFg5QNqI"
      },
      "source": [
        "Há uma concentração exorbitante do Sudeste."
      ]
    },
    {
      "cell_type": "markdown",
      "metadata": {
        "id": "v8QqrkYbF73_"
      },
      "source": [
        "**Análise descritiva**"
      ]
    },
    {
      "cell_type": "code",
      "metadata": {
        "id": "-XO-wq-FF4U4"
      },
      "source": [
        "ingles.describe()"
      ],
      "execution_count": null,
      "outputs": []
    },
    {
      "cell_type": "markdown",
      "metadata": {
        "id": "Dga4pHTAB30u"
      },
      "source": [
        "### **Espanhol**"
      ]
    },
    {
      "cell_type": "markdown",
      "metadata": {
        "id": "1pEDShFyGPEa"
      },
      "source": [
        "**Visualização a partir de gráficos**"
      ]
    },
    {
      "cell_type": "code",
      "metadata": {
        "id": "T6b7C6k0B2sD"
      },
      "source": [
        "plt.figure(figsize=(20, 14))\n",
        "plt.subplot(2, 2, 1)\n",
        "sns.set_theme(style=\"whitegrid\")\n",
        "enem_media_espanhol_lc = plt.axvline(x = espanhol['NU_NOTA_LC'].mean(), c = \"#05BA7F\", linewidth = 4, linestyle = '--')\n",
        "enem_mediana_espanhol_lc  = plt.axvline(x = espanhol['NU_NOTA_LC'].median(), c = \"#A558C4\", linewidth = 4, linestyle = ':')\n",
        "enem_moda_espanhol_lc  = plt.axvline(x = espanhol['NU_NOTA_LC'].mode()[0], c = \"#FF5733\", linewidth = 4, linestyle = '-.')\n",
        "plt.legend([enem_media_espanhol_lc , enem_mediana_espanhol_lc , enem_moda_espanhol_lc], ['Média', 'Mediana', 'Moda'])\n",
        "sns.histplot(espanhol['NU_NOTA_LC'], bins = 35).set_title('Linguagens e Códigos com Espanhol ENEM-2019', fontsize = 16);\n",
        "\n",
        "plt.subplot(2, 2, 2)\n",
        "sns.set_theme(style=\"whitegrid\")\n",
        "enem_media_espanhol_ch = plt.axvline(x = espanhol['NU_NOTA_CH'].mean(), c = \"#05BA7F\", linewidth = 4, linestyle = '--')\n",
        "enem_mediana_espanhol_ch  = plt.axvline(x = espanhol['NU_NOTA_CH'].median(), c = \"#A558C4\", linewidth = 4, linestyle = ':')\n",
        "enem_moda_espanhol_ch  = plt.axvline(x = espanhol['NU_NOTA_CH'].mode()[0], c = \"#FF5733\", linewidth = 4, linestyle = '-.')\n",
        "plt.legend([enem_media_espanhol_ch , enem_mediana_espanhol_ch , enem_moda_espanhol_ch], ['Média', 'Mediana', 'Moda'])\n",
        "sns.histplot(espanhol['NU_NOTA_CH'], bins = 35).set_title('Ciências Humanas com Espanhol ENEM-2019',  fontsize = 16);\n",
        "\n",
        "plt.subplot(2, 2, 3)\n",
        "sns.set_theme(style=\"whitegrid\")\n",
        "enem_media_espanhol_mt = plt.axvline(x = espanhol['NU_NOTA_MT'].mean(), c = \"#05BA7F\", linewidth = 4, linestyle = '--')\n",
        "enem_mediana_espanhol_mt  = plt.axvline(x = espanhol['NU_NOTA_MT'].median(), c = \"#A558C4\", linewidth = 4, linestyle = ':')\n",
        "enem_moda_espanhol_mt  = plt.axvline(x = espanhol['NU_NOTA_MT'].mode()[0], c = \"#FF5733\", linewidth = 4, linestyle = '-.')\n",
        "plt.legend([enem_media_espanhol_mt , enem_mediana_espanhol_mt , enem_moda_espanhol_mt], ['Média', 'Mediana', 'Moda'])\n",
        "sns.histplot(espanhol['NU_NOTA_MT'], bins = 35).set_title('Matemática com Espanhol ENEM-2019',  fontsize = 16);\n",
        "\n",
        "\n",
        "plt.subplot(2, 2, 4)\n",
        "sns.set_theme(style=\"whitegrid\")\n",
        "enem_media_espanhol_cn = plt.axvline(x = espanhol['NU_NOTA_CN'].mean(), c = \"#05BA7F\", linewidth = 4, linestyle = '--')\n",
        "enem_mediana_espanhol_cn  = plt.axvline(x = espanhol['NU_NOTA_CN'].median(), c = \"#A558C4\", linewidth = 4, linestyle = ':')\n",
        "enem_moda_espanhol_cn  = plt.axvline(x = espanhol['NU_NOTA_CN'].mode()[0], c = \"#FF5733\", linewidth = 4, linestyle = '-.')\n",
        "plt.legend([enem_media_espanhol_cn , enem_mediana_espanhol_cn , enem_moda_espanhol_cn], ['Média', 'Mediana', 'Moda'])\n",
        "sns.histplot(espanhol['NU_NOTA_CN'], bins = 35).set_title('Ciências da Natureza com Espanhol ENEM-2019',  fontsize = 16);\n",
        "\n",
        "\n",
        "plt.tight_layout()\n",
        "plt.show()"
      ],
      "execution_count": null,
      "outputs": []
    },
    {
      "cell_type": "markdown",
      "metadata": {
        "id": "o0bb4aW0P33G"
      },
      "source": [
        "**De onde que são os candidatos que esolheram espanhol?**"
      ]
    },
    {
      "cell_type": "code",
      "metadata": {
        "id": "ZWcJJ2z1P64V"
      },
      "source": [
        "estado_espanhol = pd.DataFrame(espanhol['SG_UF_RESIDENCIA'].value_counts())\n",
        "#Plotando o gráfico com a escala da proporção \n",
        "plt.figure(figsize=(10, 8))\n",
        "sns.set_theme(style=\"whitegrid\")\n",
        "ax = sns.barplot(x=estado_espanhol.index, y = estado_espanhol['SG_UF_RESIDENCIA'], data=estado_espanhol).set_title('Distribuição de candidatos que escolheram espanhol por Estado', fontsize = 16)"
      ],
      "execution_count": null,
      "outputs": []
    },
    {
      "cell_type": "markdown",
      "metadata": {
        "id": "PFuVQYg9QUcs"
      },
      "source": [
        "Os dados estão bem mais distribuídos por estado, tendo maior participação da região norte/nordeste em relação ao inglês."
      ]
    },
    {
      "cell_type": "markdown",
      "metadata": {
        "id": "WL7nP6E6GT4Q"
      },
      "source": [
        "**Análise descritiva**"
      ]
    },
    {
      "cell_type": "code",
      "metadata": {
        "id": "tsHPmHLcGUrR"
      },
      "source": [
        "espanhol.describe()"
      ],
      "execution_count": null,
      "outputs": []
    },
    {
      "cell_type": "markdown",
      "metadata": {
        "id": "cYByNY-3OFiO"
      },
      "source": [
        "**IMPORTANTE**: A média e a mediana de Ciências Humanas estão bem próximas."
      ]
    },
    {
      "cell_type": "markdown",
      "metadata": {
        "id": "ZLieJkJyYNiP"
      },
      "source": [
        "## **Há diferença significativa nas notas das áreas para cada língua estrangeira? Testes estatísticos: ANOVA**"
      ]
    },
    {
      "cell_type": "markdown",
      "metadata": {
        "id": "wIOXQbGlYNiX"
      },
      "source": [
        "**Análise de variância** é a técnica estatística que permite avaliar afirmações sobre as médias de populações. A análise visa, fundamentalmente, verificar se existe uma diferença significativa entre as médias e se os fatores exercem influência em alguma variável dependente. \n",
        "\n",
        "*Fonte: https://pt.wikipedia.org/wiki/An%C3%A1lise_de_vari%C3%A2ncia*"
      ]
    },
    {
      "cell_type": "markdown",
      "metadata": {
        "id": "G8pM7Zm_YNiX"
      },
      "source": [
        "Para essa ocasião, estarei criando um modelo de ANOVA para realizar o teste se há diferença significativa entre as línguas escolhidas. Para identificar, basta que o PR(>F) seja menor que 0,05 (nível de confiança para 95%) para contestar que há. (Hipótese Nula: Não há diferença significativa entre os grupos)."
      ]
    },
    {
      "cell_type": "code",
      "metadata": {
        "id": "IKByRJjqYNiZ"
      },
      "source": [
        "teste_linguas = dados_enem2019.dropna(subset=['NU_NOTA_MT', 'NU_NOTA_CN', 'NU_NOTA_LC', 'NU_NOTA_CH']) #eliminando os valores NaN para tornar o modelo visível e saudável."
      ],
      "execution_count": null,
      "outputs": []
    },
    {
      "cell_type": "markdown",
      "metadata": {
        "id": "tMWErcMMYNil"
      },
      "source": [
        "### **Matemática**"
      ]
    },
    {
      "cell_type": "code",
      "metadata": {
        "id": "HgI9jELTYNim"
      },
      "source": [
        "modelo1 = ols('NU_NOTA_MT ~ TP_LINGUA', data = teste_linguas).fit()\n",
        "resultados1 = sm.stats.anova_lm(modelo1)\n",
        "resultados1"
      ],
      "execution_count": null,
      "outputs": []
    },
    {
      "cell_type": "markdown",
      "metadata": {
        "id": "n3l-PmLeYNir"
      },
      "source": [
        "**Rejeitar a hipótese nula.** O resultado demonstra que sim, há diferença significativa entre os grupos nas notas de matemática. (afirmando o argumento da seção acima)"
      ]
    },
    {
      "cell_type": "markdown",
      "metadata": {
        "id": "RFXkvELjYNi9"
      },
      "source": [
        "### **Ciências da Natureza**"
      ]
    },
    {
      "cell_type": "code",
      "metadata": {
        "id": "QM7gggm-YNi-"
      },
      "source": [
        "modelo2 = ols('NU_NOTA_CN ~ TP_LINGUA', data = teste_linguas).fit()\n",
        "resultados2 = sm.stats.anova_lm(modelo2)\n",
        "resultados2"
      ],
      "execution_count": null,
      "outputs": []
    },
    {
      "cell_type": "markdown",
      "metadata": {
        "id": "maEs1vpAYNjE"
      },
      "source": [
        "**Rejeitar a hipótese nula.** O resultado demonstra que sim, há diferença significativa entre os grupos nas notas de ciências da natureza. (afirmando o argumento da seção acima)"
      ]
    },
    {
      "cell_type": "markdown",
      "metadata": {
        "id": "lTPJ1WGgYNjQ"
      },
      "source": [
        "### **Linguagens e Códigos**"
      ]
    },
    {
      "cell_type": "code",
      "metadata": {
        "id": "Nby1JT5PYNjR"
      },
      "source": [
        "modelo3 = ols('NU_NOTA_LC ~ TP_LINGUA', data = teste_linguas).fit()\n",
        "resultados3 = sm.stats.anova_lm(modelo3)\n",
        "resultados3"
      ],
      "execution_count": null,
      "outputs": []
    },
    {
      "cell_type": "markdown",
      "metadata": {
        "id": "d1QIgtDgYNjV"
      },
      "source": [
        "**Rejeitar a hipótese nula.** O resultado demonstra que sim, há diferença significativa entre os grupos nas notas de linguagens e códigos. (afirmando o argumento da seção acima)"
      ]
    },
    {
      "cell_type": "markdown",
      "metadata": {
        "id": "hlOJKIpBYNjd"
      },
      "source": [
        "### **Ciências Humanas**"
      ]
    },
    {
      "cell_type": "code",
      "metadata": {
        "id": "6QAWuvzKYNjd"
      },
      "source": [
        "modelo4 = ols('NU_NOTA_CH ~ TP_LINGUA', data = teste_linguas).fit()\n",
        "resultados4 = sm.stats.anova_lm(modelo4)\n",
        "resultados4"
      ],
      "execution_count": null,
      "outputs": []
    },
    {
      "cell_type": "markdown",
      "metadata": {
        "id": "u7M19VErYNjh"
      },
      "source": [
        "**Rejeitar a hipótese nula.** O resultado demonstra que sim, há diferença significativa entre os grupos nas notas de ciências humanas. (afirmando o argumento da seção acima)"
      ]
    },
    {
      "cell_type": "markdown",
      "metadata": {
        "id": "XqMcE1ZLHmU3"
      },
      "source": [
        "### **Conclusão Língua estrangeira**"
      ]
    },
    {
      "cell_type": "markdown",
      "metadata": {
        "id": "Uq-iv6DZH1wR"
      },
      "source": [
        "De fato, o desempenho de quem escolheu a língua inglesa foi consideravelmente melhor e maior daqueles que escolheram espanhol. A distribuição da amostra está equivalente, com aproximadamente 46 mil para cada um. Vale ressaltar que, aqueles que escolheram a lingua ingles desempenharam de uma forma mais harmônica e normal (de acordo com os histogramas) em matemática e ciências da natureza.\n",
        "\n",
        "Esse efeito pode ser causado pela segregação social. De acordo com o levantamento feito pela British Council, apenas 5% da população brasileira fala inglês (Diponível em: https://www.britishcouncil.org.br/sites/default/files/demandas_de_aprendizagempesquisacompleta.pdf.  Acesso em: 22 out. 2020.). Há uma considerável desigualdade nesse quesito.\n",
        "\n",
        "Interpreto que, pela semelhança léxica e sintática que o espanhol tem com o português atrai os candidatos que não tem familiaridade com o inglês para selecionar a mesma como opção. Esse ato separa, de forma clara, os candidatos de maiores dificuldades daqueles que possuem menos.\n",
        "\n",
        "Aprender inglês exige, tanto um custo físico, quanto, pela maioria, um custo financeiro. Ter acesso á essas informações, acesso ao material é um cenário totalmente utópico para maioria dos Brasileiros. Portanto, é uma situação astronomicamente alarmante conquanto aos investimentos na língua inglesa, a fim de democratizar o acesso a mesma, com foco nas regiões norte/nordeste (dito que estão em menor aparição daqueles que escolheram inglês). "
      ]
    },
    {
      "cell_type": "markdown",
      "metadata": {
        "id": "Zafe373Adcs8"
      },
      "source": [
        "# **Taxa de evasão do primeiro para o segundo dia**\n",
        "\n",
        "\n",
        "---\n",
        "\n",
        "![](https://i.ibb.co/b6TWDsH/Apresenta-o-sem-t-tulo-11.jpg)"
      ]
    },
    {
      "cell_type": "markdown",
      "metadata": {
        "id": "aZk_YyRiLDxK"
      },
      "source": [
        "Será que todos os candidatos que foram no primeiro dia, também foram no segundo dia? Se não, qual fator impediu os mesmo?"
      ]
    },
    {
      "cell_type": "markdown",
      "metadata": {
        "id": "afl06WRTMXZT"
      },
      "source": [
        "Para identificar o primeiro e o segundo dia, basta uma pesquisa rápida. No primeiro dia caríam as provas de: Linguagens e Códigos, Ciências Humanas e Redação, sendo as demais no segundo dia. (Disponível em: https://g1.globo.com/educacao/enem/2019/noticia/2019/10/29/enem-2019-datas-e-horarios-das-provas.ghtml. Acesso em: 22 out. 2020.) \n",
        "\n",
        "Eu, Matheus Leite Llorente, participei do ENEM 2019 e constato a afirmação acima."
      ]
    },
    {
      "cell_type": "code",
      "metadata": {
        "id": "lk3Q4hKHLUYa"
      },
      "source": [
        "evasao_primeiro_segundo = dados_enem2019.query('TP_PRESENCA_LC == 1 & TP_PRESENCA_CH == 1 & TP_PRESENCA_CN == 0 & TP_PRESENCA_MT == 0')#Basta verificar a presença nas provas\n",
        "evasao_primeiro_segundo[provas].head()"
      ],
      "execution_count": null,
      "outputs": []
    },
    {
      "cell_type": "markdown",
      "metadata": {
        "id": "dnxiZjI9OxT-"
      },
      "source": [
        "Constatanto que, os valores NaN significam que o candidato não compareceu no dia."
      ]
    },
    {
      "cell_type": "code",
      "metadata": {
        "id": "O8MLKCjfQ0AZ"
      },
      "source": [
        "len(evasao_primeiro_segundo)/len(dados_enem2019)*100 #Proporção de evasão"
      ],
      "execution_count": null,
      "outputs": []
    },
    {
      "cell_type": "markdown",
      "metadata": {
        "id": "NjZxmBR-RIjs"
      },
      "source": [
        "De toda a amostra, aproximadamente 4,3% dos candidatos foram no primeiro dia e não foram no segundo dia."
      ]
    },
    {
      "cell_type": "markdown",
      "metadata": {
        "id": "1MuK-B1SRT4U"
      },
      "source": [
        "##**Como foram as notas do primeiro dia deles?**"
      ]
    },
    {
      "cell_type": "code",
      "metadata": {
        "id": "_VYb_yXARaCT"
      },
      "source": [
        "plt.figure(figsize=(20, 14))\n",
        "plt.subplot(2, 2, 1)\n",
        "sns.set_theme(style=\"whitegrid\")\n",
        "enem_media_evasao_primeiro_segundo_lc = plt.axvline(x = evasao_primeiro_segundo['NU_NOTA_LC'].mean(), c = \"#05BA7F\", linewidth = 4, linestyle = '--')\n",
        "enem_mediana_evasao_primeiro_segundo_lc  = plt.axvline(x = evasao_primeiro_segundo['NU_NOTA_LC'].median(), c = \"#A558C4\", linewidth = 4, linestyle = ':')\n",
        "enem_moda_evasao_primeiro_segundo_lc  = plt.axvline(x = evasao_primeiro_segundo['NU_NOTA_LC'].mode()[0], c = \"#FF5733\", linewidth = 4, linestyle = '-.')\n",
        "plt.legend([enem_media_evasao_primeiro_segundo_lc , enem_mediana_evasao_primeiro_segundo_lc , enem_moda_evasao_primeiro_segundo_lc], ['Média', 'Mediana', 'Moda'])\n",
        "sns.histplot(evasao_primeiro_segundo['NU_NOTA_LC'], bins = 35).set_title('Linguagens e Códigos de candidatos que não foram para o segundo dia ENEM-2019', fontsize = 16);\n",
        "\n",
        "plt.subplot(2, 2, 2)\n",
        "sns.set_theme(style=\"whitegrid\")\n",
        "enem_media_evasao_primeiro_segundo_ch = plt.axvline(x = evasao_primeiro_segundo['NU_NOTA_CH'].mean(), c = \"#05BA7F\", linewidth = 4, linestyle = '--')\n",
        "enem_mediana_evasao_primeiro_segundo_ch  = plt.axvline(x = evasao_primeiro_segundo['NU_NOTA_CH'].median(), c = \"#A558C4\", linewidth = 4, linestyle = ':')\n",
        "enem_moda_evasao_primeiro_segundo_ch  = plt.axvline(x = evasao_primeiro_segundo['NU_NOTA_CH'].mode()[0], c = \"#FF5733\", linewidth = 4, linestyle = '-.')\n",
        "plt.legend([enem_media_evasao_primeiro_segundo_ch , enem_mediana_evasao_primeiro_segundo_ch , enem_moda_evasao_primeiro_segundo_ch], ['Média', 'Mediana', 'Moda'])\n",
        "sns.histplot(evasao_primeiro_segundo['NU_NOTA_CH'], bins = 35).set_title('Ciências Humanas de candidatos que não foram para o segundo dia ENEM-2019',  fontsize = 16);\n",
        "\n",
        "plt.subplot(2, 2, 3)\n",
        "sns.set_theme(style=\"whitegrid\")\n",
        "enem_media_evasao_primeiro_segundo_RD = plt.axvline(x = evasao_primeiro_segundo['NU_NOTA_REDACAO'].mean(), c = \"#05BA7F\", linewidth = 4, linestyle = '--')\n",
        "enem_mediana_evasao_primeiro_segundo_RD  = plt.axvline(x = evasao_primeiro_segundo['NU_NOTA_REDACAO'].median(), c = \"#A558C4\", linewidth = 4, linestyle = ':')\n",
        "enem_moda_evasao_primeiro_segundo_RD = plt.axvline(x = evasao_primeiro_segundo['NU_NOTA_REDACAO'].mode()[0], c = \"#FF5733\", linewidth = 4, linestyle = '-.')\n",
        "plt.legend([enem_media_evasao_primeiro_segundo_RD,  enem_mediana_evasao_primeiro_segundo_RD , enem_moda_evasao_primeiro_segundo_RD], ['Média', 'Mediana', 'Moda'])\n",
        "sns.histplot(evasao_primeiro_segundo['NU_NOTA_REDACAO'], bins = 35).set_title('Redação de candidatos que não foram para o segundo dia ENEM-2019',  fontsize = 16);\n",
        "\n",
        "\n",
        "plt.tight_layout()\n",
        "plt.show()"
      ],
      "execution_count": null,
      "outputs": []
    },
    {
      "cell_type": "markdown",
      "metadata": {
        "id": "rT8CTdmkW0N2"
      },
      "source": [
        "**Análise descritiva**"
      ]
    },
    {
      "cell_type": "code",
      "metadata": {
        "id": "IDrsib9yW2UW"
      },
      "source": [
        "evasao_primeiro_segundo[['NU_NOTA_LC', 'NU_NOTA_CH', 'NU_NOTA_REDACAO']].describe()"
      ],
      "execution_count": null,
      "outputs": []
    },
    {
      "cell_type": "code",
      "metadata": {
        "id": "7edGVbY2XFs2"
      },
      "source": [
        "evasao_primeiro_segundo['NU_NOTA_REDACAO'].value_counts(normalize = True).head()*100"
      ],
      "execution_count": null,
      "outputs": []
    },
    {
      "cell_type": "markdown",
      "metadata": {
        "id": "-YxIxd95VD-Z"
      },
      "source": [
        "##**E como foram as notas do primeiro dia de quem foi para o segundo dia?**"
      ]
    },
    {
      "cell_type": "code",
      "metadata": {
        "id": "MXHMhknLVVT5"
      },
      "source": [
        "permanencia_primeiro_segundo = dados_enem2019.query('TP_PRESENCA_LC == 1 & TP_PRESENCA_CH == 1 & TP_PRESENCA_CN == 1 & TP_PRESENCA_MT == 1')#Basta verificar a presença nas provas\n",
        "\n",
        "plt.figure(figsize=(20, 14))\n",
        "plt.subplot(2, 2, 1)\n",
        "sns.set_theme(style=\"whitegrid\")\n",
        "enem_media_permanencia_primeiro_segundo_lc = plt.axvline(x = permanencia_primeiro_segundo['NU_NOTA_LC'].mean(), c = \"#05BA7F\", linewidth = 4, linestyle = '--')\n",
        "enem_mediana_permanencia_primeiro_segundo_lc  = plt.axvline(x = permanencia_primeiro_segundo['NU_NOTA_LC'].median(), c = \"#A558C4\", linewidth = 4, linestyle = ':')\n",
        "enem_moda_permanencia_primeiro_segundo_lc  = plt.axvline(x = permanencia_primeiro_segundo['NU_NOTA_LC'].mode()[0], c = \"#FF5733\", linewidth = 4, linestyle = '-.')\n",
        "plt.legend([enem_media_permanencia_primeiro_segundo_lc , enem_mediana_permanencia_primeiro_segundo_lc , enem_moda_permanencia_primeiro_segundo_lc], ['Média', 'Mediana', 'Moda'])\n",
        "sns.histplot(permanencia_primeiro_segundo['NU_NOTA_LC'], bins = 35).set_title('Linguagens e Códigos de candidatos que foram para o segundo dia ENEM-2019', fontsize = 16);\n",
        "\n",
        "plt.subplot(2, 2, 2)\n",
        "sns.set_theme(style=\"whitegrid\")\n",
        "enem_media_permanencia_primeiro_segundo_ch = plt.axvline(x = permanencia_primeiro_segundo['NU_NOTA_CH'].mean(), c = \"#05BA7F\", linewidth = 4, linestyle = '--')\n",
        "enem_mediana_permanencia_primeiro_segundo_ch  = plt.axvline(x = permanencia_primeiro_segundo['NU_NOTA_CH'].median(), c = \"#A558C4\", linewidth = 4, linestyle = ':')\n",
        "enem_moda_permanencia_primeiro_segundo_ch  = plt.axvline(x = permanencia_primeiro_segundo['NU_NOTA_CH'].mode()[0], c = \"#FF5733\", linewidth = 4, linestyle = '-.')\n",
        "plt.legend([enem_media_permanencia_primeiro_segundo_ch , enem_mediana_permanencia_primeiro_segundo_ch , enem_moda_permanencia_primeiro_segundo_ch], ['Média', 'Mediana', 'Moda'])\n",
        "sns.histplot(permanencia_primeiro_segundo['NU_NOTA_CH'], bins = 35).set_title('Ciências Humanas de candidatos que foram para o segundo dia ENEM-2019',  fontsize = 16);\n",
        "\n",
        "plt.subplot(2, 2, 3)\n",
        "sns.set_theme(style=\"whitegrid\")\n",
        "enem_media_permanencia_primeiro_segundo_RD = plt.axvline(x = permanencia_primeiro_segundo['NU_NOTA_REDACAO'].mean(), c = \"#05BA7F\", linewidth = 4, linestyle = '--')\n",
        "enem_mediana_permanencia_primeiro_segundo_RD  = plt.axvline(x = permanencia_primeiro_segundo['NU_NOTA_REDACAO'].median(), c = \"#A558C4\", linewidth = 4, linestyle = ':')\n",
        "enem_moda_permanencia_primeiro_segundo_RD = plt.axvline(x = permanencia_primeiro_segundo['NU_NOTA_REDACAO'].mode()[0], c = \"#FF5733\", linewidth = 4, linestyle = '-.')\n",
        "plt.legend([enem_media_permanencia_primeiro_segundo_RD,  enem_mediana_permanencia_primeiro_segundo_RD , enem_moda_permanencia_primeiro_segundo_RD], ['Média', 'Mediana', 'Moda'])\n",
        "sns.histplot(permanencia_primeiro_segundo['NU_NOTA_REDACAO'], bins = 35).set_title('Redação de candidatos que foram para o segundo dia ENEM-2019',  fontsize = 16);\n",
        "\n",
        "\n",
        "plt.tight_layout()\n",
        "plt.show()"
      ],
      "execution_count": null,
      "outputs": []
    },
    {
      "cell_type": "markdown",
      "metadata": {
        "id": "_EmRxG97XNlz"
      },
      "source": [
        "**Análise descritiva**"
      ]
    },
    {
      "cell_type": "code",
      "metadata": {
        "id": "HoMd-TjGXQMm"
      },
      "source": [
        "permanencia_primeiro_segundo[['NU_NOTA_LC', 'NU_NOTA_CH', 'NU_NOTA_REDACAO']].describe()"
      ],
      "execution_count": null,
      "outputs": []
    },
    {
      "cell_type": "code",
      "metadata": {
        "id": "W2w5gaCKXVFn"
      },
      "source": [
        "permanencia_primeiro_segundo['NU_NOTA_REDACAO'].value_counts(normalize = True).head()*100"
      ],
      "execution_count": null,
      "outputs": []
    },
    {
      "cell_type": "markdown",
      "metadata": {
        "id": "dGXZ7dTkX3SQ"
      },
      "source": [
        "É fato que, além das médias das notas serem consideravelmente menores, os alunos que zeraram a redação no primeiro dia foi exorbitantemente representativo. 17% dos candidatos que não foram para o segundo dia tiraram 0 na redação.\n",
        "\n",
        "Leva-se em conta que, o terceito quartil de quem não foi para o segundo dia é de 580, enquanto de quem foi é de 680. Sendo assim, é possível levar em consideração que, a própria redação é um fator para evasão dos candidatos."
      ]
    },
    {
      "cell_type": "markdown",
      "metadata": {
        "id": "RNHMQVVyY1GU"
      },
      "source": [
        "## **Por quais motivos as pessoas que não foram no primeiro dia, foram mal na redação?**"
      ]
    },
    {
      "cell_type": "markdown",
      "metadata": {
        "id": "vYLdiWX1Y8EQ"
      },
      "source": [
        "É possível analisar a variável TP_STATUS_REDACAO, que dita uma descrição das redações avaliadas."
      ]
    },
    {
      "cell_type": "code",
      "metadata": {
        "id": "4EDRnm6-ZCF2"
      },
      "source": [
        "#Criando um dicionário com as descrições\n",
        "dic_redacao = {\n",
        "    1: 'Sem problemas',\n",
        "    2: 'Anulada',\n",
        "    3: 'Cópia Texto Motivador',\n",
        "    4: 'Em Branco',\n",
        "    6: 'Fuga ao tema',\n",
        "    7: 'Não atendimento ao tipo textual',\n",
        "    8: 'Texto insuficiente',\n",
        "    9: 'Parte desconectada'\n",
        "}\n",
        "\n",
        "evasao_primeiro_segundo['TP_STATUS_REDACAO_RESPOSTA'] = [dic_redacao[resposta] for resposta in evasao_primeiro_segundo.TP_STATUS_REDACAO]\n",
        "\n",
        "evasao_primeiro_segundo[['TP_STATUS_REDACAO', 'TP_STATUS_REDACAO_RESPOSTA']].head()"
      ],
      "execution_count": null,
      "outputs": []
    },
    {
      "cell_type": "code",
      "metadata": {
        "id": "c-OpNy8MahqL"
      },
      "source": [
        "status_redacao_evasao = pd.DataFrame(evasao_primeiro_segundo['TP_STATUS_REDACAO_RESPOSTA'].value_counts())\n",
        "status_redacao_evasao.plot.barh().set_title('Status da redação de quem não foi para o Segundo dia de Prova ENEM 2019',  fontsize = 16);"
      ],
      "execution_count": null,
      "outputs": []
    },
    {
      "cell_type": "markdown",
      "metadata": {
        "id": "uRPS-_yva_5Y"
      },
      "source": [
        "Aparentemente, a maioria das redações estavam sem problemas, seguido de provas em branco. De fato, a redação pode impulsionar uma possível desmotivação nos candidados, sendo que a maior parte zerou e aparentava estar sem problemas."
      ]
    },
    {
      "cell_type": "markdown",
      "metadata": {
        "id": "5MCP3GCPtrwA"
      },
      "source": [
        "## **Quantos candidatos fizeram a prova em um município diferente do que reside? Isso influencia na evasão?**"
      ]
    },
    {
      "cell_type": "markdown",
      "metadata": {
        "id": "VXVrU5a2bhzT"
      },
      "source": [
        "A localidade da prova pode ser um fator que compromota a ida dos candidatos até o local da prova. Irei analisar quantos candidatos fizeram a prova em local diferente do município (geral)."
      ]
    },
    {
      "cell_type": "code",
      "metadata": {
        "id": "dymmxZz4bvYF"
      },
      "source": [
        "municipio_diferente = dados_enem2019.query('NO_MUNICIPIO_RESIDENCIA != NO_MUNICIPIO_PROVA')\n",
        "municipio_diferente[['NO_MUNICIPIO_RESIDENCIA', 'NO_MUNICIPIO_PROVA']].head()"
      ],
      "execution_count": null,
      "outputs": []
    },
    {
      "cell_type": "code",
      "metadata": {
        "id": "6AEp6YTzcRJ9"
      },
      "source": [
        "print('{}%  dos candidatos ENEM2019 fizeram a prova em um município diferente do que residia'.format(round(len(municipio_diferente)/len(dados_enem2019)*100, 2)))"
      ],
      "execution_count": null,
      "outputs": []
    },
    {
      "cell_type": "markdown",
      "metadata": {
        "id": "3tEbNQCYeY72"
      },
      "source": [
        "**E os candidatos que não foram para o segundo dia? Quantos moravam em município diferente do que fez a prova?**"
      ]
    },
    {
      "cell_type": "code",
      "metadata": {
        "id": "l4kpoDKxeCEL"
      },
      "source": [
        "municipio_diferente_evasao = evasao_primeiro_segundo.query('NO_MUNICIPIO_RESIDENCIA != NO_MUNICIPIO_PROVA')\n",
        "municipio_diferente_evasao[['NO_MUNICIPIO_RESIDENCIA', 'NO_MUNICIPIO_PROVA']].head()"
      ],
      "execution_count": null,
      "outputs": []
    },
    {
      "cell_type": "code",
      "metadata": {
        "id": "-lGHUUR-eOmS"
      },
      "source": [
        "print('{}%  dos candidatos que não fizeram o segundo dia no ENEM2019 fizeram a prova em um município diferente do que residia'.format(round(len(municipio_diferente_evasao)/len(evasao_primeiro_segundo)*100, 2)))"
      ],
      "execution_count": null,
      "outputs": []
    },
    {
      "cell_type": "markdown",
      "metadata": {
        "id": "-a2uKfDUe94Z"
      },
      "source": [
        "Morar em um município e realizar a prova em outro pode sim influenciar na evasão dos alunos do primeiro para o segundo dia. Dentre vários fatores, podemos análisar alguns, como o transporte particular."
      ]
    },
    {
      "cell_type": "markdown",
      "metadata": {
        "id": "uSl3SPYGeXaC"
      },
      "source": [
        "## **Não ter transporte particular pode influenciar na evasão?**"
      ]
    },
    {
      "cell_type": "markdown",
      "metadata": {
        "id": "zHLdDsRaok0Q"
      },
      "source": [
        "Depender do transporte público, principalmente em casos de alogmeração em um local, pode ser uma situação caótica. Vamos analisar quantos candidatos, no geral, não tinham transporte particular.\n",
        "\n",
        "Para isso, utilizarei as questões 10 e 11 das pesquisas:\n",
        "\n",
        "**Q010** Na sua residência tem carro?\n",
        "\n",
        "**Q011** Na sua residência tem motocicleta?"
      ]
    },
    {
      "cell_type": "markdown",
      "metadata": {
        "id": "g42SOab3pkDw"
      },
      "source": [
        "**Criando um dicionário para as respostas**"
      ]
    },
    {
      "cell_type": "code",
      "metadata": {
        "id": "320RxlX8pE_f"
      },
      "source": [
        "tem_carro_moto = {\n",
        "    'A': 'Não.',\n",
        "    'B': 'Sim, um.',\n",
        "    'C': 'Sim, dois.',\n",
        "    'D': 'Sim, três.',\n",
        "    'E': 'Sim, quatro ou mais.'\n",
        "}\n",
        "dados_enem2019_transporte = dados_enem2019.copy()\n",
        "dados_enem2019_transporte['Q010_RESPOSTA'] = [tem_carro_moto[resposta] for resposta in dados_enem2019.Q010]\n",
        "dados_enem2019_transporte['Q011_RESPOSTA'] = [tem_carro_moto[resposta] for resposta in dados_enem2019.Q011]\n",
        "\n",
        "dados_enem2019_transporte[['Q010','Q010_RESPOSTA', 'Q011', 'Q011_RESPOSTA']]"
      ],
      "execution_count": null,
      "outputs": []
    },
    {
      "cell_type": "markdown",
      "metadata": {
        "id": "yw0KuydIquy5"
      },
      "source": [
        "**Analisando a partir de gráficos**"
      ]
    },
    {
      "cell_type": "code",
      "metadata": {
        "id": "McZpgxZ-qtRF"
      },
      "source": [
        "carros_enem_terounao = pd.DataFrame(dados_enem2019_transporte['Q010_RESPOSTA'].value_counts(normalize = True))\n",
        "carros_enem_terounao.plot.barh().set_title('Proporção para candidatos que tem carro em sua residência', fontsize = 16);"
      ],
      "execution_count": null,
      "outputs": []
    },
    {
      "cell_type": "code",
      "metadata": {
        "id": "DtQbKKEVrPkW"
      },
      "source": [
        "motos_enem_terounao = pd.DataFrame(dados_enem2019_transporte['Q011_RESPOSTA'].value_counts(normalize = True))\n",
        "motos_enem_terounao.plot.barh().set_title('Proporção para candidatos que tem moto em sua residência', fontsize = 16);"
      ],
      "execution_count": null,
      "outputs": []
    },
    {
      "cell_type": "markdown",
      "metadata": {
        "id": "ufazzp3Nrdqe"
      },
      "source": [
        "Percebe-se que, a maioria esmagadora dos candidatos do ENEM2019 **NÃO** possuíam algum tipo de transporte particular (Moto ou Carro)."
      ]
    },
    {
      "cell_type": "markdown",
      "metadata": {
        "id": "NlB7kSIirooX"
      },
      "source": [
        "### **Não ter um transporte particular influenciou como em quem não foi para o segundo dia?**"
      ]
    },
    {
      "cell_type": "code",
      "metadata": {
        "id": "EbqQXCtNroXK"
      },
      "source": [
        "evasao_primeiro_segundo['Q010_RESPOSTA'] = [tem_carro_moto[resposta] for resposta in evasao_primeiro_segundo.Q010]\n",
        "evasao_primeiro_segundo['Q011_RESPOSTA'] = [tem_carro_moto[resposta] for resposta in evasao_primeiro_segundo.Q011]\n",
        "\n",
        "evasao_primeiro_segundo[['Q010','Q010_RESPOSTA', 'Q011', 'Q011_RESPOSTA']]"
      ],
      "execution_count": null,
      "outputs": []
    },
    {
      "cell_type": "markdown",
      "metadata": {
        "id": "JpxfRblfsNVG"
      },
      "source": [
        "**Analisando a partir de gráficos**"
      ]
    },
    {
      "cell_type": "code",
      "metadata": {
        "id": "CWU5TzhisJsT"
      },
      "source": [
        "carros_enem_terounao_evasao_primeiro_segundo = pd.DataFrame(evasao_primeiro_segundo['Q010_RESPOSTA'].value_counts(normalize = True))\n",
        "carros_enem_terounao_evasao_primeiro_segundo.plot.barh().set_title('Proporção para candidatos que tem carro em sua residência', fontsize = 16);"
      ],
      "execution_count": null,
      "outputs": []
    },
    {
      "cell_type": "code",
      "metadata": {
        "id": "KJY4frvwsgdZ"
      },
      "source": [
        "motos_enem_terounao_evasao_primeiro_segundo = pd.DataFrame(evasao_primeiro_segundo['Q011_RESPOSTA'].value_counts(normalize = True))\n",
        "motos_enem_terounao_evasao_primeiro_segundo.plot.barh().set_title('Proporção para candidatos que tem moto em sua residência');"
      ],
      "execution_count": null,
      "outputs": []
    },
    {
      "cell_type": "markdown",
      "metadata": {
        "id": "k0TbuwaEsolz"
      },
      "source": [
        "Os valores aumentam consideravelmente."
      ]
    },
    {
      "cell_type": "markdown",
      "metadata": {
        "id": "QJRaNIiUs2b1"
      },
      "source": [
        "### **Quantos que tinham carro(s) faltaram no ENEM2019 em algum dia? Como foi a distribuição?**"
      ]
    },
    {
      "cell_type": "code",
      "metadata": {
        "id": "JRt-aiJ6tUHG"
      },
      "source": [
        "tinham_carro_enem2019 = dados_enem2019_transporte.loc[dados_enem2019_transporte['Q010_RESPOSTA'] != 'Não.']\n",
        "\n",
        "tinham_carro_enem2019.head()"
      ],
      "execution_count": null,
      "outputs": []
    },
    {
      "cell_type": "code",
      "metadata": {
        "id": "XbknuuE0w3PY"
      },
      "source": [
        "carro_presenca_ch = pd.DataFrame(tinham_carro_enem2019['TP_PRESENCA_CH'].value_counts())\n",
        "carro_presenca_cn = pd.DataFrame(tinham_carro_enem2019['TP_PRESENCA_CN'].value_counts())"
      ],
      "execution_count": null,
      "outputs": []
    },
    {
      "cell_type": "code",
      "metadata": {
        "id": "HObX_gXOxK2n"
      },
      "source": [
        "plt.figure(figsize=(20, 14))\n",
        "\n",
        "plt.subplot(2, 2, 1)\n",
        "sns.set_theme(style=\"whitegrid\")\n",
        "\n",
        "ax = sns.barplot(data=carro_presenca_ch, x=['Não Faltou' , 'Faltou', 'Eliminado'], y=carro_presenca_ch['TP_PRESENCA_CH'], hue='TP_PRESENCA_CH')\n",
        "labels=['Eliminado', 'Faltou', 'Não Faltou']\n",
        "h, l = ax.get_legend_handles_labels()\n",
        "ax.legend(h, labels, title=\"Descrição\")\n",
        "plt.title('Presença no primeiro dia', fontsize = 16)\n",
        "\n",
        "plt.subplot(2, 2, 2)\n",
        "sns.set_theme(style=\"whitegrid\")\n",
        "\n",
        "ax = sns.barplot(data=carro_presenca_cn, x=['Não Faltou', 'Faltou', 'Eliminado'], y=carro_presenca_cn['TP_PRESENCA_CN'], hue='TP_PRESENCA_CN')\n",
        "labels=['Eliminado', 'Faltou', 'Não Faltou']\n",
        "h, l = ax.get_legend_handles_labels()\n",
        "ax.legend(h, labels, title=\"Descrição\")\n",
        "plt.title('Presença no segundo dia',  fontsize = 16)\n",
        "\n",
        "plt.tight_layout()\n",
        "plt.show()"
      ],
      "execution_count": null,
      "outputs": []
    },
    {
      "cell_type": "code",
      "metadata": {
        "id": "oObPOyV_1waU"
      },
      "source": [
        "print('{} candidatos que tinham carro faltaram no primeiro dia, ou seja {}% dos que tinham carro'.format(carro_presenca_ch.iloc[1,][0], round((carro_presenca_ch.iloc[1,][0]/len(tinham_carro_enem2019))*100,2)))"
      ],
      "execution_count": null,
      "outputs": []
    },
    {
      "cell_type": "code",
      "metadata": {
        "id": "4HyrNCcN2KfX"
      },
      "source": [
        "print('{} candidatos que tinham carro faltaram no segundo dia, ou seja {}% dos que tinham carro'.format(carro_presenca_cn.iloc[1,][0], round((carro_presenca_cn.iloc[1,][0]/len(tinham_carro_enem2019))*100,2)))"
      ],
      "execution_count": null,
      "outputs": []
    },
    {
      "cell_type": "markdown",
      "metadata": {
        "id": "tKLsgF_o6uzk"
      },
      "source": [
        "### **Quantos que tinham moto(s) faltaram no ENEM2019 em algum dia? Como foi a distribuição?**"
      ]
    },
    {
      "cell_type": "code",
      "metadata": {
        "id": "gcteqo5S6ySr"
      },
      "source": [
        "tinham_moto_enem2019 = dados_enem2019_transporte.loc[dados_enem2019_transporte['Q011_RESPOSTA'] != 'Não.']\n",
        "\n",
        "tinham_moto_enem2019.head()"
      ],
      "execution_count": null,
      "outputs": []
    },
    {
      "cell_type": "code",
      "metadata": {
        "id": "wbRcAqzv65TQ"
      },
      "source": [
        "moto_presenca_ch = pd.DataFrame(tinham_moto_enem2019['TP_PRESENCA_CH'].value_counts())\n",
        "moto_presenca_cn = pd.DataFrame(tinham_moto_enem2019['TP_PRESENCA_CN'].value_counts())\n",
        "\n",
        "plt.figure(figsize=(20, 14))\n",
        "\n",
        "plt.subplot(2, 2, 1)\n",
        "sns.set_theme(style=\"whitegrid\")\n",
        "\n",
        "ax = sns.barplot(data=moto_presenca_ch, x=['Não Faltou' , 'Faltou', 'Eliminado'], y=moto_presenca_ch['TP_PRESENCA_CH'], hue='TP_PRESENCA_CH')\n",
        "labels=['Eliminado', 'Faltou', 'Não Faltou']\n",
        "h, l = ax.get_legend_handles_labels()\n",
        "ax.legend(h, labels, title=\"Descrição\")\n",
        "plt.title('Presença no primeiro dia', fontsize = 16)\n",
        "\n",
        "plt.subplot(2, 2, 2)\n",
        "sns.set_theme(style=\"whitegrid\")\n",
        "\n",
        "ax = sns.barplot(data=moto_presenca_cn, x=['Não Faltou', 'Faltou', 'Eliminado'], y=moto_presenca_cn['TP_PRESENCA_CN'], hue='TP_PRESENCA_CN')\n",
        "labels=['Eliminado', 'Faltou', 'Não Faltou']\n",
        "h, l = ax.get_legend_handles_labels()\n",
        "ax.legend(h, labels, title=\"Descrição\")\n",
        "plt.title('Presença no segundo dia',  fontsize = 16)\n",
        "\n",
        "plt.tight_layout()\n",
        "plt.show()"
      ],
      "execution_count": null,
      "outputs": []
    },
    {
      "cell_type": "code",
      "metadata": {
        "id": "b-sMAsRx8RaN"
      },
      "source": [
        "print('{} candidatos que tinham moto faltaram no primeiro dia, ou seja {}% dos que tinham moto'.format(moto_presenca_ch.iloc[1,][0], round((moto_presenca_ch.iloc[1,][0]/len(tinham_moto_enem2019))*100,2)))"
      ],
      "execution_count": null,
      "outputs": []
    },
    {
      "cell_type": "code",
      "metadata": {
        "id": "YD-NZZH28SgG"
      },
      "source": [
        "print('{} candidatos que tinham moto faltaram no segundo dia, ou seja {}% dos que tinham moto'.format(moto_presenca_cn.iloc[1,][0], round((moto_presenca_cn.iloc[1,][0]/len(tinham_moto_enem2019))*100,2)))"
      ],
      "execution_count": null,
      "outputs": []
    },
    {
      "cell_type": "markdown",
      "metadata": {
        "id": "Gur7FJM93NIL"
      },
      "source": [
        "### **Quantos que não tinham carro(s) e nem moto(s) faltaram no ENEM2019 em algum dia? Como foi a distribuição?**"
      ]
    },
    {
      "cell_type": "code",
      "metadata": {
        "id": "WMeHvkcw3sEx"
      },
      "source": [
        "nao_tinham_carro_moto_enem2019 = dados_enem2019_transporte.loc[dados_enem2019_transporte['Q010_RESPOSTA'] == 'Não.']\n",
        "nao_tinham_carro_moto_enem2019 = nao_tinham_carro_moto_enem2019.loc[nao_tinham_carro_moto_enem2019['Q011_RESPOSTA'] == 'Não.']\n",
        "nao_tinham_carro_moto_enem2019.head()"
      ],
      "execution_count": null,
      "outputs": []
    },
    {
      "cell_type": "code",
      "metadata": {
        "id": "AJAV02OM82BK"
      },
      "source": [
        "nao_carro_moto_presenca_ch = pd.DataFrame(nao_tinham_carro_moto_enem2019['TP_PRESENCA_CH'].value_counts())\n",
        "nao_carro_moto_presenca_cn = pd.DataFrame(nao_tinham_carro_moto_enem2019['TP_PRESENCA_CN'].value_counts())\n",
        "\n",
        "plt.figure(figsize=(20, 14))\n",
        "\n",
        "plt.subplot(2, 2, 1)\n",
        "sns.set_theme(style=\"whitegrid\")\n",
        "\n",
        "ax = sns.barplot(data=nao_carro_moto_presenca_ch, x=['Não Faltou' , 'Faltou', 'Eliminado'], y=nao_carro_moto_presenca_ch['TP_PRESENCA_CH'], hue='TP_PRESENCA_CH')\n",
        "labels=['Eliminado', 'Faltou', 'Não Faltou']\n",
        "h, l = ax.get_legend_handles_labels()\n",
        "ax.legend(h, labels, title=\"Descrição\")\n",
        "plt.title('Presença no primeiro dia', fontsize = 16)\n",
        "\n",
        "plt.subplot(2, 2, 2)\n",
        "sns.set_theme(style=\"whitegrid\")\n",
        "\n",
        "ax = sns.barplot(data=nao_carro_moto_presenca_cn, x=['Não Faltou', 'Faltou', 'Eliminado'], y=nao_carro_moto_presenca_cn['TP_PRESENCA_CN'], hue='TP_PRESENCA_CN')\n",
        "labels=['Eliminado', 'Faltou', 'Não Faltou']\n",
        "h, l = ax.get_legend_handles_labels()\n",
        "ax.legend(h, labels, title=\"Descrição\")\n",
        "plt.title('Presença no segundo dia',  fontsize = 16)\n",
        "\n",
        "plt.tight_layout()\n",
        "plt.show()"
      ],
      "execution_count": null,
      "outputs": []
    },
    {
      "cell_type": "code",
      "metadata": {
        "id": "rERNjsl09Blh"
      },
      "source": [
        "print('{} candidatos que não tinham moto nem carro faltaram no primeiro dia, ou seja {}% dos que não tinham moto nem carro'.format(nao_carro_moto_presenca_ch.iloc[1,][0], round((nao_carro_moto_presenca_ch.iloc[1,][0]/len(nao_tinham_carro_moto_enem2019))*100,2)))"
      ],
      "execution_count": null,
      "outputs": []
    },
    {
      "cell_type": "code",
      "metadata": {
        "id": "PBxca7vj9E2T"
      },
      "source": [
        "print('{} candidatos que não tinham moto nem carro faltaram no segundo dia, ou seja {}% os que não tinham moto nem carro'.format(nao_carro_moto_presenca_cn.iloc[1,][0], round((nao_carro_moto_presenca_cn.iloc[1,][0]/len(nao_tinham_carro_moto_enem2019))*100,2)))"
      ],
      "execution_count": null,
      "outputs": []
    },
    {
      "cell_type": "markdown",
      "metadata": {
        "id": "Vu3aEIzR9fBW"
      },
      "source": [
        "### **Conclusão**"
      ]
    },
    {
      "cell_type": "markdown",
      "metadata": {
        "id": "gLIUrFPv9jDJ"
      },
      "source": [
        "É considerável que, a medida que o candidato não tem transporte particular, a possibilidade dele não ir algum dos dias é maior daqueles que tem ao menos algum tipo de transporte particular, seja moto, seja carro.  Esse índice pode demonstrar a impossibilidade de descolcamento com o transporte público, dito que nesses eventos o trânsito e a procura são maiores pela aglomeração, não sendo possível atender totalmente a população. De fato, é necessária uma melhora no transporte público."
      ]
    },
    {
      "cell_type": "markdown",
      "metadata": {
        "id": "1YzyuYnKdmS2"
      },
      "source": [
        "# **Ter internet em casa influencia nas notas?**\n",
        "\n",
        "\n",
        "---\n",
        "\n",
        "![](https://i.ibb.co/xjvWjD1/Apresenta-o-sem-t-tulo-12.jpg)"
      ]
    },
    {
      "cell_type": "markdown",
      "metadata": {
        "id": "GhQJTXue-pQG"
      },
      "source": [
        "Para analisar essa situação, irei utilizar a variável Q025 do dataset:\n",
        "\n",
        "**Q025**: Na sua residência tem acesso à Internet?"
      ]
    },
    {
      "cell_type": "markdown",
      "metadata": {
        "id": "0CEM6t2D-0j8"
      },
      "source": [
        "**Criando um dicionário**"
      ]
    },
    {
      "cell_type": "code",
      "metadata": {
        "id": "fpKNL5RY-3cG"
      },
      "source": [
        "acesso_internet = {\n",
        "    'A': 'Não',\n",
        "    'B': 'Sim'\n",
        "}"
      ],
      "execution_count": null,
      "outputs": []
    },
    {
      "cell_type": "code",
      "metadata": {
        "id": "HfDbZtIb-_kS"
      },
      "source": [
        "dados_internet = dados_enem2019.copy()\n",
        "dados_internet['Q025_RESPOSTA'] = [acesso_internet[resposta] for resposta in dados_internet.Q025]\n",
        "\n",
        "dados_internet[['Q025', 'Q025_RESPOSTA']]"
      ],
      "execution_count": null,
      "outputs": []
    },
    {
      "cell_type": "markdown",
      "metadata": {
        "id": "nfW19k4j_Zrd"
      },
      "source": [
        "**Quantos candidatos do enem tinham internet?**"
      ]
    },
    {
      "cell_type": "code",
      "metadata": {
        "id": "UMaBUZsd_f9p"
      },
      "source": [
        "tinham_acesso_internet = pd.DataFrame(dados_internet['Q025_RESPOSTA'].value_counts())\n",
        "tinham_acesso_internet.plot.barh().set_title('O candidato tem acesso a internet? ENEM2019',  fontsize = 16);"
      ],
      "execution_count": null,
      "outputs": []
    },
    {
      "cell_type": "code",
      "metadata": {
        "id": "A31-oFj__-wz"
      },
      "source": [
        "tinham_acesso_internet = pd.DataFrame(dados_internet['Q025_RESPOSTA'].value_counts(normalize =True))\n",
        "tinham_acesso_internet"
      ],
      "execution_count": null,
      "outputs": []
    },
    {
      "cell_type": "markdown",
      "metadata": {
        "id": "Gr9tdp0dADKa"
      },
      "source": [
        "Aproximadamente 77,56% dos candidatos do ENEM2019 tinham acesso a internet."
      ]
    },
    {
      "cell_type": "code",
      "metadata": {
        "id": "KTpHdB3zCluZ"
      },
      "source": [
        "internet_ordenada = dados_internet[\"Q025_RESPOSTA\"].unique()\n",
        "internet_ordenada.sort()"
      ],
      "execution_count": null,
      "outputs": []
    },
    {
      "cell_type": "code",
      "metadata": {
        "id": "w5w7ffmKC7pI"
      },
      "source": [
        "dados_internet['NU_NOTA_MT']"
      ],
      "execution_count": null,
      "outputs": []
    },
    {
      "cell_type": "code",
      "metadata": {
        "id": "qOgJRuijCyva"
      },
      "source": [
        "plt.figure(figsize=(15, 20))\n",
        "\n",
        "plt.subplot(2, 2, 1)\n",
        "sns.boxplot(x=\"Q025_RESPOSTA\", y = \"NU_NOTA_MT\", data = dados_internet, order = internet_ordenada)\n",
        "plt.title(\"Boxplot das notas de matemática pelo acesso a internet\");\n",
        "plt.subplot(2, 2, 2)\n",
        "sns.boxplot(x=\"Q025_RESPOSTA\", y = \"NU_NOTA_LC\", data = dados_internet, order = internet_ordenada)\n",
        "plt.title(\"Boxplot das notas de linguagens e códigos pelo acesso a internet\");\n",
        "plt.subplot(2, 2, 3)\n",
        "sns.boxplot(x=\"Q025_RESPOSTA\", y = \"NU_NOTA_CN\", data = dados_internet, order = internet_ordenada)\n",
        "plt.title(\"Boxplot das notas de ciências da natureza pelo acesso a internet\");\n",
        "plt.subplot(2, 2, 4)\n",
        "sns.boxplot(x=\"Q025_RESPOSTA\", y = \"NU_NOTA_CH\", data = dados_internet, order = internet_ordenada)\n",
        "plt.title(\"Boxplot das notas de ciências humanas pelo acesso a internet\");"
      ],
      "execution_count": null,
      "outputs": []
    },
    {
      "cell_type": "markdown",
      "metadata": {
        "id": "jvj1nGbHaQQi"
      },
      "source": [
        "## **Há diferença significativa nas notas das áreas para quem tem internet e quem não tem? Testes estatísticos: ANOVA, TUKEY**"
      ]
    },
    {
      "cell_type": "markdown",
      "metadata": {
        "id": "eEZG4GozaQQl"
      },
      "source": [
        "**Análise de variância** é a técnica estatística que permite avaliar afirmações sobre as médias de populações. A análise visa, fundamentalmente, verificar se existe uma diferença significativa entre as médias e se os fatores exercem influência em alguma variável dependente. \n",
        "\n",
        "*Fonte: https://pt.wikipedia.org/wiki/An%C3%A1lise_de_vari%C3%A2ncia*"
      ]
    },
    {
      "cell_type": "markdown",
      "metadata": {
        "id": "aon-2gouaQQl"
      },
      "source": [
        "Para essa ocasião, estarei criando um modelo de ANOVA para realizar o teste se há diferença significativa entre quem tem internet e quem não tem em sua residência. Para identificar, basta que o PR(>F) seja menor que 0,05 (nível de confiança para 95%) para contestar que há. (Hipótese Nula: Não há diferença significativa entre os grupos)."
      ]
    },
    {
      "cell_type": "code",
      "metadata": {
        "id": "4vB_pwp3aQQm"
      },
      "source": [
        "teste_internet = dados_internet.dropna(subset=['NU_NOTA_MT', 'NU_NOTA_CN', 'NU_NOTA_LC', 'NU_NOTA_CH']) #eliminando os valores NaN para tornar o modelo visível e saudável."
      ],
      "execution_count": null,
      "outputs": []
    },
    {
      "cell_type": "markdown",
      "metadata": {
        "id": "YeJWdcgOaQQr"
      },
      "source": [
        "### **Matemática**"
      ]
    },
    {
      "cell_type": "code",
      "metadata": {
        "id": "EJiHSaNIaQQs"
      },
      "source": [
        "modelo1 = ols('NU_NOTA_MT ~ Q025_RESPOSTA', data = teste_internet).fit()\n",
        "resultados1 = sm.stats.anova_lm(modelo1)\n",
        "resultados1"
      ],
      "execution_count": null,
      "outputs": []
    },
    {
      "cell_type": "markdown",
      "metadata": {
        "id": "Li_K6roHaQQ0"
      },
      "source": [
        "**Rejeitar a hipótese nula.** O resultado demonstra que sim, há diferença significativa entre os grupos nas notas de matemática. (afirmando o argumento da seção acima)"
      ]
    },
    {
      "cell_type": "markdown",
      "metadata": {
        "id": "hM80fOUUaQRL"
      },
      "source": [
        "### **Ciências da Natureza**"
      ]
    },
    {
      "cell_type": "code",
      "metadata": {
        "id": "F7TwXaRlaQRM"
      },
      "source": [
        "modelo2 = ols('NU_NOTA_CN ~ Q025_RESPOSTA', data = teste_internet).fit()\n",
        "resultados2 = sm.stats.anova_lm(modelo2)\n",
        "resultados2"
      ],
      "execution_count": null,
      "outputs": []
    },
    {
      "cell_type": "markdown",
      "metadata": {
        "id": "E8ImNBjaaQRd"
      },
      "source": [
        "**Rejeitar a hipótese nula.** O resultado demonstra que sim, há diferença significativa entre os grupos nas notas de ciências da natureza. (afirmando o argumento da seção acima)"
      ]
    },
    {
      "cell_type": "markdown",
      "metadata": {
        "id": "Y45-f_-6aQRr"
      },
      "source": [
        "### **Linguagens e Códigos**"
      ]
    },
    {
      "cell_type": "code",
      "metadata": {
        "id": "FCeqZbpRaQRr"
      },
      "source": [
        "modelo3 = ols('NU_NOTA_LC ~ Q025_RESPOSTA', data = teste_internet).fit()\n",
        "resultados3 = sm.stats.anova_lm(modelo3)\n",
        "resultados3"
      ],
      "execution_count": null,
      "outputs": []
    },
    {
      "cell_type": "markdown",
      "metadata": {
        "id": "dzD8XpHnaQRt"
      },
      "source": [
        "**Rejeitar a hipótese nula.** O resultado demonstra que sim, há diferença significativa entre os grupos nas notas de linguagens e códigos. (afirmando o argumento da seção acima)"
      ]
    },
    {
      "cell_type": "markdown",
      "metadata": {
        "id": "kZiDAtxbaQR7"
      },
      "source": [
        "### **Ciências Humanas**"
      ]
    },
    {
      "cell_type": "code",
      "metadata": {
        "id": "y1306wbTaQR7"
      },
      "source": [
        "modelo4 = ols('NU_NOTA_CH ~ Q025_RESPOSTA', data = teste_internet).fit()\n",
        "resultados4 = sm.stats.anova_lm(modelo4)\n",
        "resultados4"
      ],
      "execution_count": null,
      "outputs": []
    },
    {
      "cell_type": "markdown",
      "metadata": {
        "id": "K4ttckCjaQSA"
      },
      "source": [
        "**Rejeitar a hipótese nula.** O resultado demonstra que sim, há diferença significativa entre os grupos nas notas de ciências humanas. (afirmando o argumento da seção acima)"
      ]
    },
    {
      "cell_type": "markdown",
      "metadata": {
        "id": "VxWaFYxbY1YS"
      },
      "source": [
        "## **Conclusão internet**\n",
        "Os gráficos acima demonstram a relativa diferença entre quem tem internet em casa em quem não tem internet na residência. O cunho de informações que a internet proporciona e as oportunidades levam os alunos a se desempenharem melhor, ao passo que a prova consiste em questões sociais onde, na internet, pela globalização são dispostas com facilidade."
      ]
    },
    {
      "cell_type": "markdown",
      "metadata": {
        "id": "Y0iWr3uHdsAW"
      },
      "source": [
        "# **Como a renda familiar pode gerar algum efeito nas notas?**\n",
        "\n",
        "\n",
        "---\n",
        "\n",
        "![](https://i.ibb.co/KF13VdV/Apresenta-o-sem-t-tulo-13.jpg)"
      ]
    },
    {
      "cell_type": "markdown",
      "metadata": {
        "id": "u70_HLeNiqSz"
      },
      "source": [
        "A renda familiar pode ditar vários comportamentos de uma família. Irei analisar qual é o comportamento das rendas e qual é a sua relação com as notas."
      ]
    },
    {
      "cell_type": "markdown",
      "metadata": {
        "id": "bqPlkOusjJ--"
      },
      "source": [
        "## **A média de renda por município e a média de notas por município**"
      ]
    },
    {
      "cell_type": "markdown",
      "metadata": {
        "id": "xdiEnCokjRQd"
      },
      "source": [
        "**Realizando a média de renda por município**\n",
        "\n"
      ]
    },
    {
      "cell_type": "markdown",
      "metadata": {
        "id": "l4_97RE1kHXC"
      },
      "source": [
        "Para essa situação, irei considerar uma renda fixa para cada situação. Na questão 6, as respostas são, por exemplo: de R$1000,00 a R$1500,00. Para isso, realizarei a média entre esses dois valores, e irei considerar a média como resposta. "
      ]
    },
    {
      "cell_type": "code",
      "metadata": {
        "id": "LP8XrLeWjsRI"
      },
      "source": [
        "rendas = {\n",
        "    'A': [0,0],\n",
        "    'B': [0, 998],\n",
        "    'C' : [998.01, 1497],\n",
        "    'D' : [1497.01, 1996],\n",
        "    'E' : [1996.01, 2495],\n",
        "    'F': [2495.01, 2994],\n",
        "    'G' : [2994.01, 3992],\n",
        "    'H' : [3992.01, 4990],\n",
        "    'I' : [4990.01, 5988],\n",
        "    'J' : [5988.01, 6896],\n",
        "    'K' : [6896.01, 7984],\n",
        "    'L' : [7984.01, 8982],\n",
        "    'M' : [8982.01, 9980],\n",
        "    'N' : [9980.01, 11976],\n",
        "    'O' : [11976.01, 14970],\n",
        "    'P' : [14970.01, 19960],\n",
        "    'Q' : [19960.01, 25000] #Considerei o aumento anterior \n",
        "}\n",
        "\n",
        "rendas = pd.DataFrame(rendas).T\n",
        "rendas.columns = ['Min', 'Max']\n",
        "rendas['Mean'] = round((rendas['Min'] + rendas['Max'])/2, 2)\n",
        "rendas.head()"
      ],
      "execution_count": null,
      "outputs": []
    },
    {
      "cell_type": "code",
      "metadata": {
        "id": "EwgJSyeyopW6"
      },
      "source": [
        "renda_media = rendas['Mean'].to_dict()\n",
        "renda_media"
      ],
      "execution_count": null,
      "outputs": []
    },
    {
      "cell_type": "code",
      "metadata": {
        "id": "ua8NWJYEpULG"
      },
      "source": [
        "dados_renda = dados_enem2019.copy()\n",
        "dados_renda['Q006_RESPOSTA'] = [renda_media[resposta] for resposta in dados_renda.Q006]\n",
        "dados_renda[['Q006', 'Q006_RESPOSTA']].head()"
      ],
      "execution_count": null,
      "outputs": []
    },
    {
      "cell_type": "markdown",
      "metadata": {
        "id": "vCSqZTC9p6XO"
      },
      "source": [
        "### **Distribuição de renda pelo país**"
      ]
    },
    {
      "cell_type": "code",
      "metadata": {
        "id": "TJFRkr4qp5u2"
      },
      "source": [
        "renda_media_grafico = dados_renda[['NO_MUNICIPIO_RESIDENCIA', 'CO_MUNICIPIO_RESIDENCIA',  'Q006_RESPOSTA']]\n",
        "\n",
        "media_renda_familiar = renda_media_grafico.groupby(['NO_MUNICIPIO_RESIDENCIA']).sum()['Q006_RESPOSTA']\n",
        "quantidade_renda =renda_media_grafico.groupby(['NO_MUNICIPIO_RESIDENCIA']).count()\n",
        "quantidade_renda['Quantidade'] = quantidade_renda['Q006_RESPOSTA']\n",
        "quantidade_renda = quantidade_renda.drop(columns=['CO_MUNICIPIO_RESIDENCIA','Q006_RESPOSTA'])\n",
        "media_renda = media_renda_familiar/quantidade_renda['Quantidade']\n",
        "\n",
        "data_renda = pd.DataFrame(media_renda)\n",
        "data_renda.columns = ['Mean']\n",
        "municipios_renda = data_renda.index\n",
        "\n",
        "data_renda['Municipio'] = municipios_renda\n",
        "\n",
        "concatenado_renda = pd.merge(data_renda, coordenadas, how = 'left', left_on=['Municipio'], right_on = ['nome'])\n",
        "\n",
        "concatenado_renda.plot.scatter(y='latitude', x = 'longitude', \n",
        "                         c = concatenado_renda['Mean'],\n",
        "                         cmap = 'YlGnBu',\n",
        "                         figsize = (12,10)).set_title('Distribuição de renda familiar dos candidatos ENEM 2019 por Município',  fontsize = 16);"
      ],
      "execution_count": null,
      "outputs": []
    },
    {
      "cell_type": "markdown",
      "metadata": {
        "id": "Vj9TkWdGu_R5"
      },
      "source": [
        "Há uma nítida expressão de renda baixa nas regiões ao norte/nordeste do país. Reforçando os argumentos anteriores disponibilizados pelos gráficos e pelas conclusões aqui presentes, a região sul/sudeste é aquela que disponibiliza maior renda familiar, como também, de uma educação mais qualificada para o ENEM. Vamos comparar o mesmo gráfico, agora observando as médias das notas gerais do ENEM2019 para cada candidato."
      ]
    },
    {
      "cell_type": "markdown",
      "metadata": {
        "id": "MQGzegHcZ5oW"
      },
      "source": [
        "### **Distribuição da média de notas pelo país**"
      ]
    },
    {
      "cell_type": "code",
      "metadata": {
        "id": "nKtEV-NvaKz4"
      },
      "source": [
        "media_notas_geral = dados_enem2019[['NO_MUNICIPIO_RESIDENCIA', 'CO_MUNICIPIO_RESIDENCIA',  'NU_NOTA_MT', 'NU_NOTA_CH', 'NU_NOTA_LC', 'NU_NOTA_CN', 'NU_NOTA_REDACAO']]\n",
        "media_notas_geral['Média Geral'] = round((media_notas_geral['NU_NOTA_MT'] + media_notas_geral['NU_NOTA_CH'] + media_notas_geral['NU_NOTA_LC'] + media_notas_geral['NU_NOTA_CN'] + media_notas_geral['NU_NOTA_REDACAO'])/5, 2)\n",
        "media_notas_geral.head()"
      ],
      "execution_count": null,
      "outputs": []
    },
    {
      "cell_type": "markdown",
      "metadata": {
        "id": "7Crpgm8Zb5Ie"
      },
      "source": [
        "Há medias contém valores faltantes, irei filtrar apenas aquelas médias que obtém uma constante fixa."
      ]
    },
    {
      "cell_type": "code",
      "metadata": {
        "id": "ZKpJMuiPcA16"
      },
      "source": [
        "media_sem_nota_zero = media_notas_geral.loc[media_notas_geral['Média Geral'].isna() == False]\n",
        "media_sem_nota_zero.head()"
      ],
      "execution_count": null,
      "outputs": []
    },
    {
      "cell_type": "markdown",
      "metadata": {
        "id": "-a6FYKAzcVkW"
      },
      "source": [
        "Irei, agora, realizar uma média de nota para cada município"
      ]
    },
    {
      "cell_type": "code",
      "metadata": {
        "id": "QmxD0DPbcgx6"
      },
      "source": [
        "media_nota_municipio = media_sem_nota_zero.groupby(['NO_MUNICIPIO_RESIDENCIA']).sum()['Média Geral']\n",
        "quantidade_notas_municpio =media_sem_nota_zero.groupby(['NO_MUNICIPIO_RESIDENCIA']).count()\n",
        "quantidade_notas_municpio['Quantidade'] = quantidade_notas_municpio['Média Geral']\n",
        "quantidade_notas_municpio = quantidade_notas_municpio.drop(columns=['CO_MUNICIPIO_RESIDENCIA','Média Geral'])\n",
        "media_notas_por_municipio = media_nota_municipio/quantidade_renda['Quantidade']\n",
        "\n",
        "data_nota_municipio = pd.DataFrame(media_notas_por_municipio)\n",
        "data_nota_municipio.columns = ['Mean']\n",
        "municipios_nota_municipio = data_nota_municipio.index\n",
        "\n",
        "data_nota_municipio['Municipio'] = municipios_nota_municipio\n",
        "data_nota_municipio.head()"
      ],
      "execution_count": null,
      "outputs": []
    },
    {
      "cell_type": "code",
      "metadata": {
        "id": "a67PDVDZxNKV"
      },
      "source": [
        "concatenado_media_nota_municipio = pd.merge(data_nota_municipio, coordenadas, how = 'left', left_on=['Municipio'], right_on = ['nome'])\n",
        "\n",
        "concatenado_media_nota_municipio.plot.scatter(y='latitude', x = 'longitude', \n",
        "                         c = concatenado_media_nota_municipio['Mean'],\n",
        "                         cmap = 'OrRd',\n",
        "                         figsize = (12,10)).set_title('Distribuição média geral ENEM 2019 por Município',  fontsize = 16);"
      ],
      "execution_count": null,
      "outputs": []
    },
    {
      "cell_type": "markdown",
      "metadata": {
        "id": "Z8mXV6xKfDrW"
      },
      "source": [
        "Observando o gráfico acima, é visível que há uma aparição maior de maiores médias na região Sul e Sudeste, reafirmando a situação anterior, onde há mais renda há um melhor desempenho no Enem."
      ]
    },
    {
      "cell_type": "code",
      "metadata": {
        "id": "pz8LLpI5pGWP"
      },
      "source": [
        "plt.figure(figsize=(10, 8))\n",
        "sns.set_theme(style=\"whitegrid\")\n",
        "ax = sns.barplot(x=estado_aacima.index, y = estado_aacima['SG_UF_RESIDENCIA'], data=estado_aacima).set_title('Distribuição de candidatos com Idade menor que 17 por Estado',  fontsize = 16)"
      ],
      "execution_count": null,
      "outputs": []
    },
    {
      "cell_type": "markdown",
      "metadata": {
        "id": "ujTZFRzEf86_"
      },
      "source": [
        "## **Como as rendas influenciam diretamente nas notas?**"
      ]
    },
    {
      "cell_type": "markdown",
      "metadata": {
        "id": "3_gXhfeigsBE"
      },
      "source": [
        "Reorganizando a resposta, de forma a torná-la categórica"
      ]
    },
    {
      "cell_type": "code",
      "metadata": {
        "id": "pFwJ8ls7gruw"
      },
      "source": [
        "rendas = {\n",
        "    'A': 'Nenhuma renda.',\n",
        "    'B': 'Até R$ 998,00.',\n",
        "    'C' : 'De R$ 998,01 até R$ 1.497,00.',\n",
        "    'D' : 'De R$ 1.497,01 até R$ 1.996,00.',\n",
        "    'E' : 'De R$ 1.996,01 até R$ 2.495,00.',\n",
        "    'F': 'De R$ 2.495,01 até R$ 2.994,00.',\n",
        "    'G' :'De R$ 2.994,01 até R$ 3.992,00.',\n",
        "    'H' : 'De R$ 3.992,01 até R$ 4.990,00.',\n",
        "    'I' : 'De R$ 4.990,01 até R$ 5.988,00.',\n",
        "    'J' : 'De R$ 5.988,01 até R$ 6.986,00.',\n",
        "    'K' : 'De R$ 6.986,01 até R$ 7.984,00.',\n",
        "    'L' : 'De R$ 7.984,01 até R$ 8.982,00.',\n",
        "    'M' :'De R$ 8.982,01 até R$ 9.980,00.',\n",
        "    'N' : 'De R$ 9.980,01 até R$ 11.976,00.',\n",
        "    'O' : 'De R$ 11.976,01 até R$ 14.970,00.',\n",
        "    'P' : 'De R$ 14.970,01 até R$ 19.960,00.',\n",
        "    'Q' :'Mais de R$ 19.960,00.'\n",
        "}\n",
        "\n",
        "dados_renda = dados_enem2019.copy()\n",
        "dados_renda['Q006_RESPOSTA'] = [rendas[resposta] for resposta in dados_renda.Q006]\n",
        "dados_renda[['Q006', 'Q006_RESPOSTA']].head()"
      ],
      "execution_count": null,
      "outputs": []
    },
    {
      "cell_type": "code",
      "metadata": {
        "id": "Fh2t8jQJgdHw"
      },
      "source": [
        "renda_ordenada = pd.DataFrame([rendas])\n",
        "renda_ordenada = list(renda_ordenada.T[0])"
      ],
      "execution_count": null,
      "outputs": []
    },
    {
      "cell_type": "code",
      "metadata": {
        "id": "SW4JZaLUf59i"
      },
      "source": [
        "plt.figure(figsize=(10, 8))\n",
        "\n",
        "sns.boxplot(x=\"NU_NOTA_MT\", y = \"Q006_RESPOSTA\", data = dados_renda, order = renda_ordenada)\n",
        "plt.title(\"Boxplot das notas de matemática pela renda\",  fontsize = 16);"
      ],
      "execution_count": null,
      "outputs": []
    },
    {
      "cell_type": "code",
      "metadata": {
        "id": "YPMvk1N3kCWr"
      },
      "source": [
        "plt.figure(figsize=(10, 8))\n",
        "\n",
        "sns.boxplot(x=\"NU_NOTA_LC\", y = \"Q006_RESPOSTA\", data = dados_renda, order = renda_ordenada)\n",
        "plt.title(\"Boxplot das notas de linguagens e códigos pela renda\",  fontsize = 16);"
      ],
      "execution_count": null,
      "outputs": []
    },
    {
      "cell_type": "code",
      "metadata": {
        "id": "YOGOzgpokJ3N"
      },
      "source": [
        "plt.figure(figsize=(10, 8))\n",
        "\n",
        "sns.boxplot(x=\"NU_NOTA_CH\", y = \"Q006_RESPOSTA\", data = dados_renda, order = renda_ordenada)\n",
        "plt.title(\"Boxplot das notas de ciências humanas e códigos pela renda\",  fontsize = 16);"
      ],
      "execution_count": null,
      "outputs": []
    },
    {
      "cell_type": "code",
      "metadata": {
        "id": "92FflOyRkKk8"
      },
      "source": [
        "plt.figure(figsize=(10, 8))\n",
        "\n",
        "sns.boxplot(x=\"NU_NOTA_CN\", y = \"Q006_RESPOSTA\", data = dados_renda, order = renda_ordenada)\n",
        "plt.title(\"Boxplot das notas de ciências da natureza e códigos pela renda\",  fontsize = 16);"
      ],
      "execution_count": null,
      "outputs": []
    },
    {
      "cell_type": "code",
      "metadata": {
        "id": "pg85UOd6l8L6"
      },
      "source": [
        "plt.figure(figsize=(10, 8))\n",
        "\n",
        "sns.boxplot(x=\"NU_NOTA_REDACAO\", y = \"Q006_RESPOSTA\", data = dados_renda, order = renda_ordenada)\n",
        "plt.title(\"Boxplot das notas da redação pela renda\",  fontsize = 16);"
      ],
      "execution_count": null,
      "outputs": []
    },
    {
      "cell_type": "markdown",
      "metadata": {
        "id": "bdRQzXzikmqz"
      },
      "source": [
        "Quanto maior a renda do candidato, maior será seu desempenho. Esse argumento é nítido nos boxplots acima. Em quase todos os gráficos, o limite superior do gráfico de quem tem renda maior que 19.960 reais é o mesmo que o maior outlier de quem não tem nenhuma renda. Há de se observar o segundo quartil, ou a mediana, para cada nível de renda. De fato, há uma disparidade considerável e significativa em relação aos níveis. \n",
        "\n",
        "Infelizmente, os gráficos demonstram a desigualdade social estruturada no próprio país, onde o acesso à informação e aos materiais é garantido àqueles que tem renda suficiente para suprir uma qualidade de ensino adequada e satisfatória. \n",
        "\n",
        "**Importante**: A categoria 'De 8.982,01 até 9.980,00 reais' demonstra uma leve queda no desempenho em relação as outras categorias mais próximas. \n",
        "\n",
        "**Hipótese**: há uma amostra pequena de candidatos nessa categoria\n",
        "\n"
      ]
    },
    {
      "cell_type": "markdown",
      "metadata": {
        "id": "VOfqzsgecrHy"
      },
      "source": [
        "## **Há diferença significativa nas notas das áreas para cada renda? Testes estatísticos: ANOVA, TUKEY**"
      ]
    },
    {
      "cell_type": "markdown",
      "metadata": {
        "id": "rW1KBnuVcrH3"
      },
      "source": [
        "**Análise de variância** é a técnica estatística que permite avaliar afirmações sobre as médias de populações. A análise visa, fundamentalmente, verificar se existe uma diferença significativa entre as médias e se os fatores exercem influência em alguma variável dependente. \n",
        "\n",
        "*Fonte: https://pt.wikipedia.org/wiki/An%C3%A1lise_de_vari%C3%A2ncia*"
      ]
    },
    {
      "cell_type": "markdown",
      "metadata": {
        "id": "K_juPv7tcrH4"
      },
      "source": [
        "Para essa ocasião, estarei criando um modelo de ANOVA para realizar o teste se há diferença significativa entre as rendas. Para identificar, basta que o PR(>F) seja menor que 0,05 (nível de confiança para 95%) para contestar que há. (Hipótese Nula: Não há diferença significativa entre os grupos)."
      ]
    },
    {
      "cell_type": "markdown",
      "metadata": {
        "id": "SFysTh3dmU9g"
      },
      "source": [
        "Irei utilizar as respostas pelas alternativas, a fim de tornar a visualização das tabelas mais clara. Portanto, estou deixando aqui o que significa cada resposta:\n",
        "\n",
        "    'A': 'Nenhuma renda.',\n",
        "    'B': 'Até R$ 998,00.',\n",
        "    'C' : 'De R$ 998,01 até R$ 1.497,00.',\n",
        "    'D' : 'De R$ 1.497,01 até R$ 1.996,00.',\n",
        "    'E' : 'De R$ 1.996,01 até R$ 2.495,00.',\n",
        "    'F': 'De R$ 2.495,01 até R$ 2.994,00.',\n",
        "    'G' :'De R$ 2.994,01 até R$ 3.992,00.',\n",
        "    'H' : 'De R$ 3.992,01 até R$ 4.990,00.',\n",
        "    'I' : 'De R$ 4.990,01 até R$ 5.988,00.',\n",
        "    'J' : 'De R$ 5.988,01 até R$ 6.986,00.',\n",
        "    'K' : 'De R$ 6.986,01 até R$ 7.984,00.',\n",
        "    'L' : 'De R$ 7.984,01 até R$ 8.982,00.',\n",
        "    'M' :'De R$ 8.982,01 até R$ 9.980,00.',\n",
        "    'N' : 'De R$ 9.980,01 até R$ 11.976,00.',\n",
        "    'O' : 'De R$ 11.976,01 até R$ 14.970,00.',\n",
        "    'P' : 'De R$ 14.970,01 até R$ 19.960,00.',\n",
        "    'Q' :'Mais de R$ 19.960,00.'"
      ]
    },
    {
      "cell_type": "code",
      "metadata": {
        "id": "fndN50vScrH4"
      },
      "source": [
        "teste_renda = dados_renda.dropna(subset=['NU_NOTA_MT', 'NU_NOTA_CN', 'NU_NOTA_LC', 'NU_NOTA_CH']) #eliminando os valores NaN para tornar o modelo visível e saudável."
      ],
      "execution_count": null,
      "outputs": []
    },
    {
      "cell_type": "markdown",
      "metadata": {
        "id": "hgp8FInocrH8"
      },
      "source": [
        "### **Matemática**"
      ]
    },
    {
      "cell_type": "code",
      "metadata": {
        "id": "-dYFOazScrH9"
      },
      "source": [
        "modelo1 = ols('NU_NOTA_MT ~ Q006_RESPOSTA', data = teste_renda).fit()\n",
        "resultados1 = sm.stats.anova_lm(modelo1)\n",
        "resultados1"
      ],
      "execution_count": null,
      "outputs": []
    },
    {
      "cell_type": "markdown",
      "metadata": {
        "id": "RjbDI5G9crH_"
      },
      "source": [
        "**Rejeitar a hipótese nula.** O resultado demonstra que sim, há diferença significativa entre os grupos nas notas de matemática. (afirmando o argumento da seção acima)"
      ]
    },
    {
      "cell_type": "code",
      "metadata": {
        "id": "hGVYPxpdcrIA"
      },
      "source": [
        "mc = MultiComparison(teste_renda['NU_NOTA_MT'], teste_renda['Q006'])\n",
        "resultado_teste1 = mc.tukeyhsd()\n",
        "resultado_teste1.summary()"
      ],
      "execution_count": null,
      "outputs": []
    },
    {
      "cell_type": "markdown",
      "metadata": {
        "id": "EX9WEAcOcrIC"
      },
      "source": [
        "Em alguns casos não há diferença sifnigicativa na nota de matemática. São as rendas: F e G, I e J, J e K, K e L, K e M, L e M, L e N, N e O, P e Q. Ao passo que as categorias vão aumentando, maior será a combinação entre elas. De fato, são muitas rendas que, se comparadas entre si, possuem uma diferença significativa. Entretanto, as aqui listadas não possuem nenhuma diferença significativa se comparadas entre si."
      ]
    },
    {
      "cell_type": "markdown",
      "metadata": {
        "id": "eK_qNWP5crIK"
      },
      "source": [
        "### **Ciências da Natureza**"
      ]
    },
    {
      "cell_type": "code",
      "metadata": {
        "id": "hXcrniXEcrIK"
      },
      "source": [
        "modelo2 = ols('NU_NOTA_CN ~ Q006_RESPOSTA', data = teste_renda).fit()\n",
        "resultados2 = sm.stats.anova_lm(modelo2)\n",
        "resultados2"
      ],
      "execution_count": null,
      "outputs": []
    },
    {
      "cell_type": "markdown",
      "metadata": {
        "id": "dUKRxDzrcrIO"
      },
      "source": [
        "**Rejeitar a hipótese nula.** O resultado demonstra que sim, há diferença significativa entre os grupos nas notas de ciências da natureza. (afirmando o argumento da seção acima)"
      ]
    },
    {
      "cell_type": "code",
      "metadata": {
        "id": "OAUxGQxXcrIO"
      },
      "source": [
        "mc = MultiComparison(teste_renda['NU_NOTA_CN'], teste_renda['Q006'])\n",
        "resultado_teste2 = mc.tukeyhsd()\n",
        "resultado_teste2.summary()"
      ],
      "execution_count": null,
      "outputs": []
    },
    {
      "cell_type": "markdown",
      "metadata": {
        "id": "JUAXS2l9crIR"
      },
      "source": [
        "Em alguns casos não há diferença sifnigicativa na nota de ciências da natureza. São as rendas: A e B, H e I, L e M, L e N, L e O, N e O, P e Q. Ao passo que as categorias vão aumentando, maior será a combinação entre elas. De fato, são muitas rendas que, se comparadas entre si, possuem uma diferença significativa. Entretanto, as aqui listadas não possuem nenhuma diferença significativa se comparadas entre si."
      ]
    },
    {
      "cell_type": "markdown",
      "metadata": {
        "id": "ulK3JfAacrIU"
      },
      "source": [
        "### **Linguagens e Códigos**"
      ]
    },
    {
      "cell_type": "code",
      "metadata": {
        "id": "mFVhX-r4crIW"
      },
      "source": [
        "modelo3 = ols('NU_NOTA_LC ~ Q006_RESPOSTA', data = teste_renda).fit()\n",
        "resultados3 = sm.stats.anova_lm(modelo3)\n",
        "resultados3"
      ],
      "execution_count": null,
      "outputs": []
    },
    {
      "cell_type": "markdown",
      "metadata": {
        "id": "i8hBIUvPcrIZ"
      },
      "source": [
        "**Rejeitar a hipótese nula.** O resultado demonstra que sim, há diferença significativa entre os grupos nas notas de linguagens e códigos. (afirmando o argumento da seção acima)"
      ]
    },
    {
      "cell_type": "code",
      "metadata": {
        "id": "Rij7n830crIa"
      },
      "source": [
        "mc = MultiComparison(teste_renda['NU_NOTA_LC'], teste_renda['Q006'])\n",
        "resultado_teste3 = mc.tukeyhsd()\n",
        "resultado_teste3.summary()"
      ],
      "execution_count": null,
      "outputs": []
    },
    {
      "cell_type": "markdown",
      "metadata": {
        "id": "n3q6egoUcrIc"
      },
      "source": [
        "Em alguns casos não há diferença sifnigicativa na nota de linguagens e códigos. São as rendas: F e G, H e I, I e J, J e K, K e L, K e M, L e M, L e N, L e O,  M e N, M e O, N e O, O e P, P e Q. Ao passo que as categorias vão aumentando, maior será a combinação entre elas. De fato, são muitas rendas que, se comparadas entre si, possuem uma diferença significativa. Entretanto, as aqui listadas não possuem nenhuma diferença significativa se comparadas entre si."
      ]
    },
    {
      "cell_type": "markdown",
      "metadata": {
        "id": "7Of8i5TVcrIf"
      },
      "source": [
        "### **Ciências Humanas**"
      ]
    },
    {
      "cell_type": "code",
      "metadata": {
        "id": "qCzIvCZlcrIf"
      },
      "source": [
        "modelo4 = ols('NU_NOTA_CH ~ Q006_RESPOSTA', data = teste_renda).fit()\n",
        "resultados4 = sm.stats.anova_lm(modelo4)\n",
        "resultados4"
      ],
      "execution_count": null,
      "outputs": []
    },
    {
      "cell_type": "markdown",
      "metadata": {
        "id": "7Zo6hQ5icrIi"
      },
      "source": [
        "**Rejeitar a hipótese nula.** O resultado demonstra que sim, há diferença significativa entre os grupos nas notas de ciências humanas. (afirmando o argumento da seção acima)"
      ]
    },
    {
      "cell_type": "code",
      "metadata": {
        "id": "zmqOD7hFcrIj"
      },
      "source": [
        "mc = MultiComparison(teste_renda['NU_NOTA_CH'], teste_renda['Q006'])\n",
        "resultado_teste4 = mc.tukeyhsd()\n",
        "resultado_teste4.summary()"
      ],
      "execution_count": null,
      "outputs": []
    },
    {
      "cell_type": "markdown",
      "metadata": {
        "id": "NgMhxo4YcrIk"
      },
      "source": [
        "Em alguns casos não há diferença sifnigicativa na nota de ciências humanas. São as rendas: F e G, H e I, H e J, I e J, K e L, K e M, L e M, L e N, L e O, M e N, M e O, N e O, P e Q. Ao passo que as categorias vão aumentando, maior será a combinação entre elas. De fato, são muitas rendas que, se comparadas entre si, possuem uma diferença significativa. Entretanto, as aqui listadas não possuem nenhuma diferença significativa se comparadas entre si."
      ]
    },
    {
      "cell_type": "markdown",
      "metadata": {
        "id": "xzFP8UkjnIcd"
      },
      "source": [
        "## **A distribuição de renda no ENEM 2019**"
      ]
    },
    {
      "cell_type": "code",
      "metadata": {
        "id": "yy22aikCpSkW"
      },
      "source": [
        "distrib_renda = pd.DataFrame(dados_renda['Q006_RESPOSTA'].value_counts(normalize = True)*100)\n",
        "distrib_renda.columns = ['Proporção (%)']\n",
        "distrib_renda.head()"
      ],
      "execution_count": null,
      "outputs": []
    },
    {
      "cell_type": "code",
      "metadata": {
        "id": "mRiLZ1lYpO1t"
      },
      "source": [
        "plt.figure(figsize=(10, 8))\n",
        "sns.set_theme(style=\"whitegrid\")\n",
        "sns.barplot(x=distrib_renda['Proporção (%)'], y = distrib_renda.index, data=distrib_renda).set_title('Distribuição de candidatos pela renda ENEM 2019',  fontsize = 16);"
      ],
      "execution_count": null,
      "outputs": []
    },
    {
      "cell_type": "markdown",
      "metadata": {
        "id": "y8rUNiTTuHzu"
      },
      "source": [
        "Metade dos candidatos do ENEM2019 tinham renda familiar de até 1497 reais. Há de se esperar que as rendas não estariam normalmente distribuídas. Um vídeo que elucida bem essa situação é o [O segredo da MERITOCRACIA (clique aqui para visualizar o vídeo)](https://www.youtube.com/watch?v=YINTTVjBrY4) do Átila Iamarino (biólogo e pesquisador).\n",
        "\n",
        "Apesar do desempenho melhorar conforme a renda cresce, a maioria dos candidatos possuem renda precária. Esse é um reflexo histórico, político e econômico do país brasileiro que: passou por crises econômicas, sofreu golpe militar, foi explorado e escravizado (gerando um preconceiro estrutural), entre outros, os  quais refletem, intrinsecamente, nas questões sociais e educacionais do próprio país.\n",
        "\n",
        "Tanto como há uma má distribuição de renda, o Brasil NÃO se dispõem de um ensino educacional público de qualidade, onde se encontram as pessoas de menor renda.\n",
        " \n",
        "**Adendo**\n",
        "\n",
        "**Constatação da hipótese anterior**: candidatos da renda sugerida ('De 8.982,01 até 9.980,00 reais') são os menos representados pelos candidatos."
      ]
    },
    {
      "cell_type": "markdown",
      "metadata": {
        "id": "0y8HRgRiNvws"
      },
      "source": [
        "# **Análise treineiros do ENEM 2019**\n",
        "\n",
        "\n",
        "---\n",
        "\n",
        "\n",
        "![](https://i.ibb.co/dJf66Ny/Apresenta-o-sem-t-tulo-8.jpg)"
      ]
    },
    {
      "cell_type": "markdown",
      "metadata": {
        "id": "4JSTt57iOPG3"
      },
      "source": [
        "## **Qual estado foi mais participativo em candidatos treineiros no ENEM 2019, ou seja, aquele que incentivou mais seus discentes?**"
      ]
    },
    {
      "cell_type": "markdown",
      "metadata": {
        "id": "siUFIc6ZOlUG"
      },
      "source": [
        "**Para constar se o aluno é treineiro ou não, basta encontrar a variável que indica por \"IN_TREINEIRO\" como verdadeiro, ou seja, em booleano igual a 1.**"
      ]
    },
    {
      "cell_type": "code",
      "metadata": {
        "id": "N3I-2_dYOOEO"
      },
      "source": [
        "treineiros_enem2019 = dados_enem2019.query('IN_TREINEIRO == 1') #Utilizando o query para buscar onde o dataset é igual a 1 em IN_TREINEIRO\n",
        "treineiros_enem2019.head()"
      ],
      "execution_count": null,
      "outputs": []
    },
    {
      "cell_type": "code",
      "metadata": {
        "id": "otuZLdb7POGP"
      },
      "source": [
        "estados_treineiros2019 = treineiros_enem2019['SG_UF_RESIDENCIA'] #Coletando os estados\n",
        "\n",
        "serie_estados_t2019 = estados_treineiros2019.value_counts(normalize = True)*100 #Referenciando a proporção para cada um\n",
        "\n",
        "lista_estados_treineiros = pd.DataFrame(data = serie_estados_t2019) #Criando um dataframe com os dados\n",
        "lista_estados_treineiros.columns = ['Proporção (%)'] #Renomeando a coluna\n",
        "\n",
        "#Plotando o gráfico com a escala da proporção \n",
        "plt.figure(figsize=(10, 8))\n",
        "sns.set_theme(style=\"whitegrid\")\n",
        "ax = sns.barplot(x=lista_estados_treineiros.index, y = lista_estados_treineiros['Proporção (%)'], data=lista_estados_treineiros).set_title('Participação de treineiros no ENEM-2019 por Estado',  fontsize = 16)"
      ],
      "execution_count": null,
      "outputs": []
    },
    {
      "cell_type": "markdown",
      "metadata": {
        "id": "eAQUL4QXSNJs"
      },
      "source": [
        "Percebe-se que, a partir do gráfico de barras é visível a maior participação de treineiros nos Estados de São Paulo e Minas Gerais. É possível relacionar com a população de cada estado, como também relaiconar com a maior presença de mães com pós-graduação nos mesmos estados, aos quais instigam seus filhos à se aventurarem no enem. Vamos analisar por categorias."
      ]
    },
    {
      "cell_type": "markdown",
      "metadata": {
        "id": "q_rF1Jy9W_PY"
      },
      "source": [
        "## **É possível analisar a proporção do sexo declarado para os treineiros com a coluna TP_SEXO**"
      ]
    },
    {
      "cell_type": "code",
      "metadata": {
        "id": "kecTtDliXJ0J"
      },
      "source": [
        "tipo_sexo_treineiros = treineiros_enem2019['TP_SEXO'] #Coletando a Série\n",
        "tipo_sexo_treineiros.value_counts(normalize = True)"
      ],
      "execution_count": null,
      "outputs": []
    },
    {
      "cell_type": "markdown",
      "metadata": {
        "id": "Uuh8dq8OXda3"
      },
      "source": [
        "Pode-se concluir que, 62,9% dos treineiros são compostos pelo sexo feminino visível no gráfico a seguir."
      ]
    },
    {
      "cell_type": "code",
      "metadata": {
        "id": "PCVPDx8DYDxi"
      },
      "source": [
        "plt.figure(figsize=(5, 5))\n",
        "tipo_sexo_treineiros.value_counts(normalize = True).plot.pie().set_title('Distribuição de Sexo nos candidatos Treineiros', fontsize = 16);"
      ],
      "execution_count": null,
      "outputs": []
    },
    {
      "cell_type": "markdown",
      "metadata": {
        "id": "7GTCJe1pxGR3"
      },
      "source": [
        "## **Qual a escolaridade dos pais de quem é treineiro?**"
      ]
    },
    {
      "cell_type": "markdown",
      "metadata": {
        "id": "OG9yWvZqxqoe"
      },
      "source": [
        "Concatenando as respostas"
      ]
    },
    {
      "cell_type": "code",
      "metadata": {
        "id": "xZYlj51-xNk9"
      },
      "source": [
        "treineiros_enem2019['Q001_RESPOSTA_PAI'] = [respostas_escolaridade_pais[respostas] for respostas in treineiros_enem2019.Q001]\n",
        "treineiros_enem2019['Q002_RESPOSTA_MAE'] = [respostas_escolaridade_pais[respostas] for respostas in treineiros_enem2019.Q002]\n",
        "\n",
        "treineiros_enem2019[['Q002', 'Q002_RESPOSTA_MAE']].head()"
      ],
      "execution_count": null,
      "outputs": []
    },
    {
      "cell_type": "markdown",
      "metadata": {
        "id": "ru7Z4ZuUyI8C"
      },
      "source": [
        "### **Distribuição de escolaridade do pai para candidatos treineiros**"
      ]
    },
    {
      "cell_type": "code",
      "metadata": {
        "id": "WTgSFZKjyV80"
      },
      "source": [
        "treineiros_pai = pd.DataFrame(treineiros_enem2019['Q001_RESPOSTA_PAI'].value_counts(normalize = True))\n",
        "\n",
        "treineiros_pai.plot.barh().set_title('Proporção de escolaridade do pai para treineiros ENEM2019',  fontsize = 16);"
      ],
      "execution_count": null,
      "outputs": []
    },
    {
      "cell_type": "markdown",
      "metadata": {
        "id": "74UYeDA8zP12"
      },
      "source": [
        "### **Distribuição de escolaridade da mãe para candidatos treineiros**"
      ]
    },
    {
      "cell_type": "code",
      "metadata": {
        "id": "PWmMZ6VhzCnA"
      },
      "source": [
        "treineiros_mae = pd.DataFrame(treineiros_enem2019['Q002_RESPOSTA_MAE'].value_counts(normalize = True))\n",
        "\n",
        "treineiros_mae.plot.barh().set_title('Proporção de escolaridade da mãe para treineiros ENEM2019',  fontsize = 16);"
      ],
      "execution_count": null,
      "outputs": []
    },
    {
      "cell_type": "markdown",
      "metadata": {
        "id": "jWyWOMPCzSsa"
      },
      "source": [
        "### **Conclusão distribuição escolaridade**"
      ]
    },
    {
      "cell_type": "markdown",
      "metadata": {
        "id": "CVcVfSpfzWfV"
      },
      "source": [
        "Por geral, os candidatos treineiros são pouco influenciados por pais que nunca estudaram ou que são ausentes (Resposta igual a Não sei). Entretanto, quando mais desenvolvida a escolaridade dos pais, seja até o ensino médio completo, a influência dos pais é maior.  "
      ]
    },
    {
      "cell_type": "markdown",
      "metadata": {
        "id": "Fa1d58sM0H_q"
      },
      "source": [
        "## **Qual é a renda familiar de quem é treineiro?**"
      ]
    },
    {
      "cell_type": "markdown",
      "metadata": {
        "id": "uF3M4hXS0kbt"
      },
      "source": [
        "Concatenando as respostas"
      ]
    },
    {
      "cell_type": "code",
      "metadata": {
        "id": "CEIczVTK0OrK"
      },
      "source": [
        "treineiros_enem2019['Q006_RESPOSTA'] = [rendas[resposta] for resposta in treineiros_enem2019.Q006]\n",
        "treineiros_enem2019[['Q006', 'Q006_RESPOSTA']].head()"
      ],
      "execution_count": null,
      "outputs": []
    },
    {
      "cell_type": "markdown",
      "metadata": {
        "id": "4fv71osi0v8G"
      },
      "source": [
        "### **Distribuição de renda familiar para treineiros**"
      ]
    },
    {
      "cell_type": "code",
      "metadata": {
        "id": "NGR2X2tT0tmh"
      },
      "source": [
        "treineiros_renda = pd.DataFrame(treineiros_enem2019['Q006_RESPOSTA'].value_counts(normalize = True))\n",
        "\n",
        "treineiros_renda.plot.barh().set_title('Proporção de renda familiar para treineiros ENEM2019',  fontsize = 16);"
      ],
      "execution_count": null,
      "outputs": []
    },
    {
      "cell_type": "markdown",
      "metadata": {
        "id": "cwauIYvZ1ZWK"
      },
      "source": [
        "A maioria dos treineiros, possuem uma renda de até 998 reais seguido daqueles que estão entre 998 e 1497 reais. O enem disponibiliza a isenção de valor para candidatos com rendas inferiores, que estudam em escolas públicas ou que participam do Cadastro único para Programas Sociais do Governo Federal. O reflexo dessa política pode estar no incentivo desses treineiros com rendas mais precárias"
      ]
    },
    {
      "cell_type": "markdown",
      "metadata": {
        "id": "zgVc2hHG5wPo"
      },
      "source": [
        "# **Por que o Sul e o Sudeste se desempenharam melhor?**\n",
        "\n",
        "\n",
        "---\n",
        "\n",
        "![](https://i.ibb.co/cDTHDRz/Apresenta-o-sem-t-tulo-14.jpg)"
      ]
    },
    {
      "cell_type": "markdown",
      "metadata": {
        "id": "lx_h9Wl6Kss1"
      },
      "source": [
        "A maioria das análises compostas por aqui dispõem de resultados que demonstram as regiões Sul e Sudeste como as que obtiveram os melhores desempenhos. Agora, qual o motivo desses acontecimentos?\n",
        "\n",
        "A priori, observe o mapa a seguir:"
      ]
    },
    {
      "cell_type": "markdown",
      "metadata": {
        "id": "pp30MjUu89ga"
      },
      "source": [
        "![](https://www.infoescola.com/wp-content/uploads/2008/10/regioes-do-brasil.jpg)"
      ]
    },
    {
      "cell_type": "markdown",
      "metadata": {
        "id": "3lr-AeTbJouL"
      },
      "source": [
        "Observe o mapa acima para identificar as regiões brasileiras. Irei me referenciar sobre as regiões em amarelo e azul, ou seja, sudeste e sul do Brasil."
      ]
    },
    {
      "cell_type": "markdown",
      "metadata": {
        "id": "AVO18BxB1jEm"
      },
      "source": [
        "**Separando os dados das regiões Sul e Sudeste**"
      ]
    },
    {
      "cell_type": "code",
      "metadata": {
        "id": "OM8BZazt1oNJ"
      },
      "source": [
        "rs = dados_enem2019.loc[dados_enem2019['SG_UF_RESIDENCIA'] == 'RS']\n",
        "sc = dados_enem2019.loc[dados_enem2019['SG_UF_RESIDENCIA'] == 'SC']\n",
        "pr = dados_enem2019.loc[dados_enem2019['SG_UF_RESIDENCIA'] == 'PR']\n",
        "sp = dados_enem2019.loc[dados_enem2019['SG_UF_RESIDENCIA'] == 'SP']\n",
        "rj = dados_enem2019.loc[dados_enem2019['SG_UF_RESIDENCIA'] == 'RJ']\n",
        "mg = dados_enem2019.loc[dados_enem2019['SG_UF_RESIDENCIA'] == 'MG']\n",
        "es = dados_enem2019.loc[dados_enem2019['SG_UF_RESIDENCIA'] == 'ES']\n",
        "dados_enem2019_sul_sudeste = pd.concat([rs,sc,pr,sp,rj,mg,es], axis=0)\n",
        "dados_enem2019_sul_sudeste['SG_UF_RESIDENCIA'].value_counts()"
      ],
      "execution_count": null,
      "outputs": []
    },
    {
      "cell_type": "markdown",
      "metadata": {
        "id": "mB2I5vVN6Rrn"
      },
      "source": [
        "## **Questões sociais**"
      ]
    },
    {
      "cell_type": "markdown",
      "metadata": {
        "id": "XJTpDiR0KPEA"
      },
      "source": [
        "Como visto nos relatórios de análises distruídas por todo esse projeto, é nítido que há diferenças significativas entre questões sociais sobre os candidatos que, intrinsecamente, inferem sobre suas notas e seu desempenho no ENEM. Cabe, então, analisar se essas mesmas estão interferindo a região Sul e Sudeste do país."
      ]
    },
    {
      "cell_type": "markdown",
      "metadata": {
        "id": "xxmOWddoMHvp"
      },
      "source": [
        "### **Raças**"
      ]
    },
    {
      "cell_type": "markdown",
      "metadata": {
        "id": "H5xabmaxLIUj"
      },
      "source": [
        "As diferentes cores de raças interferem de forma astronômica nas notas dos candidatos do ENEM 2019. A partir dos testes realizados aqui, foi possível concluir que há uma diferença significativa entre elas. Em todos os boxplots, a cor que se demonstrou disparada foi a Branca. Os motivos foram desenvolvidos e parcialmente explicados nas seções sobre as raças. É nítida a desigualdade social. \n",
        "\n",
        "Diante disso, como as cores das raças estão distribuídas no sul e no sudeste?"
      ]
    },
    {
      "cell_type": "code",
      "metadata": {
        "id": "qG_U-vWd7Bkg"
      },
      "source": [
        "dados_enem2019_sul_sudeste['TP_COR_RACA_RESPOSTA'] = [cor_raca[i] for i in dados_enem2019_sul_sudeste.TP_COR_RACA]\n",
        "\n",
        "racas_enem_atual_sul_sudeste = pd.DataFrame(dados_enem2019_sul_sudeste['TP_COR_RACA_RESPOSTA'].value_counts())\n",
        "\n",
        "#Plotando o gráfico com a escala da proporção \n",
        "plt.figure(figsize=(10, 8))\n",
        "sns.set_theme(style=\"whitegrid\")\n",
        "ax = sns.barplot(x=racas_enem_atual_sul_sudeste.index, y = racas_enem_atual_sul_sudeste['TP_COR_RACA_RESPOSTA'], data=racas_enem_atual_sul_sudeste, order = racas_ordenadas).set_title('Distribuição candidatos do Sul e do Sudeste no ENEM 2019 por Raça',  fontsize = 16)"
      ],
      "execution_count": null,
      "outputs": []
    },
    {
      "cell_type": "code",
      "metadata": {
        "id": "tnjPxnaq7ng-"
      },
      "source": [
        "racas_enem_atual_sul_sudeste = pd.DataFrame(dados_enem2019_sul_sudeste['TP_COR_RACA_RESPOSTA'].value_counts(normalize = True))\n",
        "racas_enem_atual_sul_sudeste"
      ],
      "execution_count": null,
      "outputs": []
    },
    {
      "cell_type": "markdown",
      "metadata": {
        "id": "ALXQuGMdL5DN"
      },
      "source": [
        "Captamos um possível fator capaz de explicar o porquê do desempenho dessa região. A maioria dos candidatos eram Brancos que, por \"consequência\", tiveram um desempenho melhor."
      ]
    },
    {
      "cell_type": "markdown",
      "metadata": {
        "id": "PNpkoLHL8xcm"
      },
      "source": [
        "### **Distribuição de renda**"
      ]
    },
    {
      "cell_type": "markdown",
      "metadata": {
        "id": "RdVmK5u5MGui"
      },
      "source": [
        "Ficou nítido o efeito que a renda familiar tem sob as notas do enem dos candidatos. Quanto maior a renda, maiores serão as notas dos candidatos. De fato, localizar onde as rendas tem seu maior nível pode ajudar a identificar mais um ponto sob a hipótese aqui deixada."
      ]
    },
    {
      "cell_type": "code",
      "metadata": {
        "id": "f3fqPsb08Bzy"
      },
      "source": [
        "concatenado_renda.plot.scatter(y='latitude', x = 'longitude', \n",
        "                         c = concatenado_renda['Mean'],\n",
        "                         cmap = 'YlGnBu',\n",
        "                         figsize = (8,8)).set_title('Distribuição de renda familiar dos candidatos ENEM 2019 por Município',  fontsize = 16);"
      ],
      "execution_count": null,
      "outputs": []
    },
    {
      "cell_type": "markdown",
      "metadata": {
        "id": "RajZ9bueMhKW"
      },
      "source": [
        "De acordo com o mapa deixado no início dessa seção, é possível visualizar com nitidez onde há uma maior renda familiar. A região em azul (onde o nuance tende ao Sul do País) reflete exatamente os pontos onde as regiões propostas se desempenharam melhor. Outro ponto a ser levado como argumento."
      ]
    },
    {
      "cell_type": "markdown",
      "metadata": {
        "id": "OruYmUHl7L4C"
      },
      "source": [
        "### **Acesso à internet**"
      ]
    },
    {
      "cell_type": "markdown",
      "metadata": {
        "id": "_QgPAEEdNDTg"
      },
      "source": [
        "Ter acesso à internet tem um efeito positivo nas notas dos candidatos, onde as mesmas se elevam significamente. O mundo globalizado possibilita o acesso à informação de forma fácil e rápida, principalmente pelo atributo dessa parte: a internet. Garantir esse \"corta caminho\" de não precisar, necessariamente, de livros físicos, e sim ter a disponibilidade deles digitalmente, como também obter todo o suporte de portais educacionais e de estudos disponíveis na internet, leva o candidato a ter um desempenho melhor.\n",
        "\n",
        "Avaliar a proporção de candidatos que tinham acesso a internet nessa região, ajuda a ressaltar mais um argumento."
      ]
    },
    {
      "cell_type": "code",
      "metadata": {
        "id": "6z1BTCvt9_bA"
      },
      "source": [
        "dados_enem2019_sul_sudeste['Q025_RESPOSTA'] = [acesso_internet[resposta] for resposta in dados_enem2019_sul_sudeste.Q025]\n",
        "tinham_acesso_internet_sul_sudeste = pd.DataFrame(dados_enem2019_sul_sudeste['Q025_RESPOSTA'].value_counts())\n",
        "tinham_acesso_internet_sul_sudeste.plot.barh().set_title('O candidato tem acesso a internet? ENEM2019 (Sul, Sudeste)',  fontsize = 16);"
      ],
      "execution_count": null,
      "outputs": []
    },
    {
      "cell_type": "code",
      "metadata": {
        "id": "BE9QbaHa__5Q"
      },
      "source": [
        "tinham_acesso_internet_sul_sudeste = pd.DataFrame(dados_enem2019_sul_sudeste['Q025_RESPOSTA'].value_counts(normalize =True))\n",
        "tinham_acesso_internet_sul_sudeste"
      ],
      "execution_count": null,
      "outputs": []
    },
    {
      "cell_type": "markdown",
      "metadata": {
        "id": "CfnROoETN5ie"
      },
      "source": [
        "A maioria esmagadora dos candidatos que viviam no Sul ou no Sudeste tinham acesso à internet. Outro ponto explicativo do porquê."
      ]
    },
    {
      "cell_type": "markdown",
      "metadata": {
        "id": "gTZXXwsYZ2t4"
      },
      "source": [
        "### **Escolha do inglês**"
      ]
    },
    {
      "cell_type": "markdown",
      "metadata": {
        "id": "K_JbjGjZOIqs"
      },
      "source": [
        "Os candidatos que escolheram o inglês como língua estrangeira se desempenharam relativamente melhor daqueles que escolheram o espanhol. Os motivos pelos quais eu suponho são desenvolvidos na própria seção sobre esse tema. Quantos candidatos escolheram o inglês nessa região?"
      ]
    },
    {
      "cell_type": "code",
      "metadata": {
        "id": "VBUxtS3SAhJq"
      },
      "source": [
        "lingua = {\n",
        "    0: 'Inglês',\n",
        "    1: 'Espanhol'\n",
        "}\n",
        "\n",
        "dados_enem2019_sul_sudeste['LINGUA_ESTRANGEIRA'] = [lingua[resposta] for resposta in dados_enem2019_sul_sudeste.TP_LINGUA]\n",
        "\n",
        "lingua_estrangeira_sul_sudeste = pd.DataFrame(dados_enem2019_sul_sudeste['LINGUA_ESTRANGEIRA'].value_counts())\n",
        "lingua_estrangeira_sul_sudeste.plot.barh().set_title('Distribuição para escolha da língua estrangeira ENEM2019 (Sul, Sudeste)',  fontsize = 16);"
      ],
      "execution_count": null,
      "outputs": []
    },
    {
      "cell_type": "code",
      "metadata": {
        "id": "pm2HmMaOBM5U"
      },
      "source": [
        "lingua_estrangeira_sul_sudeste = pd.DataFrame(dados_enem2019_sul_sudeste['LINGUA_ESTRANGEIRA'].value_counts(normalize =True))\n",
        "lingua_estrangeira_sul_sudeste"
      ],
      "execution_count": null,
      "outputs": []
    },
    {
      "cell_type": "markdown",
      "metadata": {
        "id": "7B-E9VobOidU"
      },
      "source": [
        "Apesar de aproximadamente dois quintos escolherem espanhol, três quintos escolheram o inglês como língua estrangeira no Sul ou no Sudeste. Mais um ponto a argumentar pelo desempenho."
      ]
    },
    {
      "cell_type": "markdown",
      "metadata": {
        "id": "nTUAvN1P8OKr"
      },
      "source": [
        "### **IDH Para cada estado**"
      ]
    },
    {
      "cell_type": "markdown",
      "metadata": {
        "id": "AscVvjQ8TNTO"
      },
      "source": [
        "Na seção onde avalio se há relação entre o IDH Municipal e o desempenho do aluno, é possível visualizar que há uma leve tendência de correlação entre as variáveis. Vamos observar como que o Índice de Desenvolvimento Humano está distribuído no País de acordo com os Estados."
      ]
    },
    {
      "cell_type": "markdown",
      "metadata": {
        "id": "fqcrGM3b25Ye"
      },
      "source": [
        "**Definindo a função para baixar arquivos**"
      ]
    },
    {
      "cell_type": "code",
      "metadata": {
        "id": "7bPvalsl24Yx"
      },
      "source": [
        "def baixar_arquivo(url, endereco=None): \n",
        "    if endereco is None:\n",
        "        endereco = os.path.basename(url.split(\"?\")[0])\n",
        "    resposta = requests.get(url, stream=True) \n",
        "    if resposta.status_code == requests.codes.OK: \n",
        "        with open(endereco, 'wb') as novo_arquivo: \n",
        "            for parte in resposta.iter_content(chunk_size=256): \n",
        "                novo_arquivo.write(parte)\n",
        "        print(\"Download finalizado. Arquivo salvo em: {}\".format(endereco))\n",
        "    else:\n",
        "        resposta.raise_for_status() "
      ],
      "execution_count": null,
      "outputs": []
    },
    {
      "cell_type": "markdown",
      "metadata": {
        "id": "ratrHY8K2-D4"
      },
      "source": [
        "**Gerando o mapa de IDH por Estado (Aguarde o mapa aparecer e mexa com o scroll do mouse)**"
      ]
    },
    {
      "cell_type": "code",
      "metadata": {
        "id": "EjKlsZbh2yHZ"
      },
      "source": [
        "estados_br = 'https://raw.githubusercontent.com/sandeco/CanalSandeco/master/covid-19/br_states.json'\n",
        "baixar_arquivo(estados_br)\n",
        "\n",
        "idh_estados = pd.read_csv('https://raw.githubusercontent.com/mathllorente/idh/main/mapa.csv')\n",
        "idh_estados['ID'] = ['RO', 'PA', 'AM', 'RR', 'TO', 'AC', 'AP', 'PI', 'MA', 'CE', 'PE', 'AL', 'SE', 'PB', 'BA', 'MG', 'ES', 'RN', 'SP', 'SC', 'RJ', 'PR', 'RS', 'MS', 'MT', 'GO', 'DF']\n",
        "idh_estados.columns = ['Local', 'IDH', 'ID']\n",
        "\n",
        "geo_json_data = json.load(open('br_states.json'))\n",
        "\n",
        "mapa = folium.Map(\n",
        "    width=800, height=800,\n",
        "    location=[-15.77972, -47.92972], \n",
        "    zoom_start=4\n",
        ")\n",
        "\n",
        "mapa.choropleth(\n",
        "    geo_data = geo_json_data,\n",
        "    name = 'IDH',\n",
        "    data = idh_estados,\n",
        "    columns = ['ID', 'IDH'],\n",
        "    key_on = 'feature.id',\n",
        "    fill_color = 'Blues',\n",
        "    fill_opacity = 0.8,\n",
        "    line_color = 'white',\n",
        "    line_opacity = 0.8,\n",
        "    show = True,\n",
        "    legend_name = 'IDH por Estado'\n",
        ")\n",
        "\n",
        "mapa"
      ],
      "execution_count": null,
      "outputs": []
    },
    {
      "cell_type": "markdown",
      "metadata": {
        "id": "LGRz95eK4pYG"
      },
      "source": [
        "Referência https://cidades.ibge.gov.br/brasil/sp/pesquisa/37/30255?tipo=cartograma"
      ]
    },
    {
      "cell_type": "markdown",
      "metadata": {
        "id": "kpKo3GiPTpyx"
      },
      "source": [
        "É nítido que as regiões Sul e Sudeste são as que concentram um IDH maior que o resto do País. Outro ponto a ser considerado como argumento."
      ]
    },
    {
      "cell_type": "markdown",
      "metadata": {
        "id": "S2Ed2YcS6XJM"
      },
      "source": [
        "## **Questões demográficas**"
      ]
    },
    {
      "cell_type": "markdown",
      "metadata": {
        "id": "yIS_IyvH8NB-"
      },
      "source": [
        "### **População no ENEM 2019**"
      ]
    },
    {
      "cell_type": "markdown",
      "metadata": {
        "id": "_T5y1wAGSI3B"
      },
      "source": [
        "Avaliar pela maioria também pode ser um fator a ser levantado. Irei visualizar quantos candidatos eram dessa região."
      ]
    },
    {
      "cell_type": "code",
      "metadata": {
        "id": "CF5EfpFjRh84"
      },
      "source": [
        "print('{}% dos candidatos do ENEM 2019 residiam na região Sudeste ou Sul do Brasil.'.format(round((len(dados_enem2019_sul_sudeste)/len(dados_enem2019)*100), 2)))"
      ],
      "execution_count": null,
      "outputs": []
    },
    {
      "cell_type": "markdown",
      "metadata": {
        "id": "DxWq9Qex6Wnk"
      },
      "source": [
        "## **Questões históricas**"
      ]
    },
    {
      "cell_type": "markdown",
      "metadata": {
        "id": "l5HrQVXnR6aw"
      },
      "source": [
        "### **Movimentos sociais**"
      ]
    },
    {
      "cell_type": "markdown",
      "metadata": {
        "id": "I_N1PnutO1FD"
      },
      "source": [
        "O movimento feminista, como desenvolido na hipótese da seção sobre a desigualdade de sexo entre os candidatos, pode ajudar no desempenho das mulheres na prova de linguagens. Essa área ocupa um comportamento linguístico social, onde o mesmo movimento de luta pela igualdade de gênero tem força. Sua força tem avançado por todo o país, possibilitando um melhor desempenho nessas questões sociais. Essas forças realizam manifestações em polos, populacionais aos quais o Sul e o Sudeste têm forças. Um ponto a ser levado em consideração."
      ]
    },
    {
      "cell_type": "markdown",
      "metadata": {
        "id": "BqcygVJI7_Ev"
      },
      "source": [
        "### **Escolaridade dos pais**"
      ]
    },
    {
      "cell_type": "markdown",
      "metadata": {
        "id": "nyDiPnvQQkw6"
      },
      "source": [
        "De fato, quanto mais desenvolvida a escolaridade dos pais, melhor será o desempenho de seus filhos. Esse argumento foi desenvolvido na seção \"Como que a escolaridade dos pais influencia nas notas?\". Analisar como estão distribuídas as maiores notas pela escolaridade dos pais é um meio útil de se avaliar essa região. \n",
        "\n",
        "Dentre as maiores notas, quais foram as escolaridades dos pais dos candidatos que tiveram maior relevância? Essas escolaridades estão distribuídas como pelo país?"
      ]
    },
    {
      "cell_type": "markdown",
      "metadata": {
        "id": "7gQp1awVFeiK"
      },
      "source": [
        "**Mães**"
      ]
    },
    {
      "cell_type": "code",
      "metadata": {
        "id": "WxsrVbvyFgUg"
      },
      "source": [
        "notas_maiores_mae_atual.plot.barh().set_title('Escolaridade das Mães dos candidatos com notas maiores que 600 ENEM 2019',  fontsize = 16);"
      ],
      "execution_count": null,
      "outputs": []
    },
    {
      "cell_type": "markdown",
      "metadata": {
        "id": "WXXJ7TWiFjaq"
      },
      "source": [
        "**O quanto o Sul e o Sudeste representam das maiores categorias?**"
      ]
    },
    {
      "cell_type": "code",
      "metadata": {
        "id": "K0boG00kDOf8"
      },
      "source": [
        "mae_com_pos_sul_sudeste = influencia_pais.loc[influencia_pais['Q002_RESPOSTA_MAE'] == 'Completou a Pós-graduação.']\n",
        "estado_mae_com_pos_sul_sudeste = mae_com_pos_sul_sudeste['SG_UF_RESIDENCIA'].value_counts(normalize =True)*100\n",
        "print('{}% das mães dos candidatos do ENEM 2019 que tinham escolaridade até a Pós-graduação eram do Sul ou do Sudeste.'.format(round(estado_mae_com_pos_sul_sudeste[['SP', 'MG', 'RJ', 'ES', 'PR', 'RS', 'SC']].sum(), 2)))"
      ],
      "execution_count": null,
      "outputs": []
    },
    {
      "cell_type": "code",
      "metadata": {
        "id": "WUyl1oTQDqfZ"
      },
      "source": [
        "mae_com_faculdade_sul_sudeste = influencia_pais.loc[influencia_pais['Q002_RESPOSTA_MAE'] == 'Completou a Faculdade, mas não completou a Pós-graduação.']\n",
        "estado_mae_com_faculdade_sul_sudeste = mae_com_faculdade_sul_sudeste['SG_UF_RESIDENCIA'].value_counts(normalize =True)*100\n",
        "print('{}% das mães dos candidatos do ENEM 2019 que tinham escolaridade até a Faculdade completa eram do Sul ou do Sudeste.'.format(round(estado_mae_com_faculdade_sul_sudeste[['SP', 'MG', 'RJ', 'ES', 'PR', 'RS', 'SC']].sum(), 2)))"
      ],
      "execution_count": null,
      "outputs": []
    },
    {
      "cell_type": "code",
      "metadata": {
        "id": "tFY1DoSnEdS_"
      },
      "source": [
        "mae_com_em_sul_sudeste = influencia_pais.loc[influencia_pais['Q002_RESPOSTA_MAE'] == 'Completou o Ensino Médio, mas não completou a Faculdade.']\n",
        "estado_mae_com_em_sul_sudeste = mae_com_em_sul_sudeste['SG_UF_RESIDENCIA'].value_counts(normalize =True)*100\n",
        "print('{}% das mães dos candidatos do ENEM 2019 que tinham escolaridade até o Ensino Médio Completo eram do Sul ou do Sudeste.'.format(round(estado_mae_com_em_sul_sudeste[['SP', 'MG', 'RJ', 'ES', 'PR', 'RS', 'SC']].sum(), 2)))"
      ],
      "execution_count": null,
      "outputs": []
    },
    {
      "cell_type": "markdown",
      "metadata": {
        "id": "aHRnuX0kGuOc"
      },
      "source": [
        "**Pais**"
      ]
    },
    {
      "cell_type": "code",
      "metadata": {
        "id": "liFMRpxkGy0O"
      },
      "source": [
        "notas_maiores_pai_atual.plot.barh().set_title('Escolaridade dos Pais dos candidatos com notas maiores que 600 ENEM 2019',  fontsize = 16);"
      ],
      "execution_count": null,
      "outputs": []
    },
    {
      "cell_type": "markdown",
      "metadata": {
        "id": "zc3tNGrbG7HI"
      },
      "source": [
        "**O quanto o Sul e o Sudeste representam das maiores categorias?**"
      ]
    },
    {
      "cell_type": "code",
      "metadata": {
        "id": "6GIA5HHCG-df"
      },
      "source": [
        "pai_com_pos_sul_sudeste = influencia_pais.loc[influencia_pais['Q001_RESPOSTA_PAI'] == 'Completou a Pós-graduação.']\n",
        "estado_pai_com_pos_sul_sudeste = pai_com_pos_sul_sudeste['SG_UF_RESIDENCIA'].value_counts(normalize =True)*100\n",
        "print('{}% dos pais dos candidatos do ENEM 2019 que tinham escolaridade até a Pós-graduação eram do Sul ou do Sudeste.'.format(round(estado_pai_com_pos_sul_sudeste[['SP', 'MG', 'RJ', 'ES', 'PR', 'RS', 'SC']].sum(), 2)))"
      ],
      "execution_count": null,
      "outputs": []
    },
    {
      "cell_type": "code",
      "metadata": {
        "id": "F2FKEyHkHAZC"
      },
      "source": [
        "pai_com_faculdade_sul_sudeste = influencia_pais.loc[influencia_pais['Q001_RESPOSTA_PAI'] == 'Completou a Faculdade, mas não completou a Pós-graduação.']\n",
        "estado_pai_com_faculdade_sul_sudeste = pai_com_faculdade_sul_sudeste['SG_UF_RESIDENCIA'].value_counts(normalize =True)*100\n",
        "print('{}% dos pais dos candidatos do ENEM 2019 que tinham escolaridade até a Faculdade completa eram do Sul ou do Sudeste.'.format(round(estado_pai_com_faculdade_sul_sudeste[['SP', 'MG', 'RJ', 'ES', 'PR', 'RS', 'SC']].sum(), 2)))"
      ],
      "execution_count": null,
      "outputs": []
    },
    {
      "cell_type": "code",
      "metadata": {
        "id": "aIHTIr4PHCRZ"
      },
      "source": [
        "pai_com_em_sul_sudeste = influencia_pais.loc[influencia_pais['Q001_RESPOSTA_PAI'] == 'Completou o Ensino Médio, mas não completou a Faculdade.']\n",
        "estado_pai_com_em_sul_sudeste = pai_com_em_sul_sudeste['SG_UF_RESIDENCIA'].value_counts(normalize =True)*100\n",
        "print('{}% dos pais dos candidatos do ENEM 2019 que tinham escolaridade até o Ensino Médio Completo eram do Sul ou do Sudeste.'.format(round(estado_pai_com_em_sul_sudeste[['SP', 'MG', 'RJ', 'ES', 'PR', 'RS', 'SC']].sum(), 2)))"
      ],
      "execution_count": null,
      "outputs": []
    },
    {
      "cell_type": "markdown",
      "metadata": {
        "id": "t31KcP3RRPwb"
      },
      "source": [
        "Mais da metade, na maioria dos casos, as mães e os pais se locaizam na região Sul/Sudeste. Outro argumento a ser considerado como resposta."
      ]
    },
    {
      "cell_type": "markdown",
      "metadata": {
        "id": "U0hr0wXUdxdS"
      },
      "source": [
        "# **Machine Learning (ATENÇÃO: execute célula por célula!)**\n",
        "\n",
        "\n",
        "---\n",
        "\n",
        "![](https://i.ibb.co/d48kWm2/Apresenta-o-sem-t-tulo-17.jpg)"
      ]
    },
    {
      "cell_type": "markdown",
      "metadata": {
        "id": "HgjWd8wY2PV8"
      },
      "source": [
        "**Para rodar os códigos, é necessária a instalação dos seguintes pacotes**\n",
        "\n",
        "ATENÇÃO: Possivelmente será necessária a reconexão com o colab para que os pacotes sejam rodados corretamente"
      ]
    },
    {
      "cell_type": "markdown",
      "metadata": {
        "id": "Iu0kyy_Nqsby"
      },
      "source": [
        "![](https://i.ibb.co/dKxCQ3D/Apresenta-o-sem-t-tulo-18.jpg)"
      ]
    },
    {
      "cell_type": "code",
      "metadata": {
        "id": "vUa9pZ46SJ2U"
      },
      "source": [
        "!pip install pycaret\n",
        "!pip install shap"
      ],
      "execution_count": null,
      "outputs": []
    },
    {
      "cell_type": "markdown",
      "metadata": {
        "id": "T_RVX4-hnUrW"
      },
      "source": [
        "## **Bibliotecas utilizadas (EXECUTE NOVAMENTE)**"
      ]
    },
    {
      "cell_type": "markdown",
      "metadata": {
        "id": "3rlhC4z8nUrX"
      },
      "source": [
        "**Bibliotecas**"
      ]
    },
    {
      "cell_type": "code",
      "metadata": {
        "id": "PwXvEbSxnUrY"
      },
      "source": [
        "import os\n",
        "import requests\n",
        "import pandas as pd\n",
        "import numpy as np\n",
        "import matplotlib.pyplot as plt\n",
        "import seaborn as sns\n",
        "from scipy import stats\n",
        "import folium\n",
        "from folium import plugins\n",
        "import json\n",
        "import statsmodels.api as sm\n",
        "from statsmodels.formula.api import ols\n",
        "from statsmodels.stats.multicomp import MultiComparison\n",
        "from sklearn.model_selection import train_test_split"
      ],
      "execution_count": null,
      "outputs": []
    },
    {
      "cell_type": "markdown",
      "metadata": {
        "id": "-6IZLKDknUrb"
      },
      "source": [
        "### **Carregando os dados**"
      ]
    },
    {
      "cell_type": "code",
      "metadata": {
        "id": "vGKklsGHnUrc"
      },
      "source": [
        "#Coletando a fonte dos dados\n",
        "font = \"https://github.com/alura-cursos/imersao-dados-2-2020/blob/master/MICRODADOS_ENEM_2019_SAMPLE_43278.csv?raw=true\" \n",
        "\n",
        "#Utilizando o pandas para ler o arquivo csv\n",
        "dados_enem2019 = pd.read_csv(font)\n",
        "\n",
        "#Visualizando as 5 primeiras linhas dos dados carregados\n",
        "dados_enem2019.head()"
      ],
      "execution_count": null,
      "outputs": []
    },
    {
      "cell_type": "markdown",
      "metadata": {
        "id": "rfSGYrYv5hwA"
      },
      "source": [
        "## **O que é o PyCaret?**"
      ]
    },
    {
      "cell_type": "markdown",
      "metadata": {
        "id": "rYbbKBVz5dA8"
      },
      "source": [
        "PyCaret é uma biblioteca que possibilita o automachinelearning (AutoML), de código aberto, onde para desenvolver um modelo de aprendizagem de máquinas são necessárias poucas linhas de código. Sua capacidade é astronômica!\n",
        "\n",
        "A  documentação pode ser encontrada aqui: https://pycaret.org/"
      ]
    },
    {
      "cell_type": "markdown",
      "metadata": {
        "id": "fQYvffHc5_QQ"
      },
      "source": [
        "## **Modelo**"
      ]
    },
    {
      "cell_type": "markdown",
      "metadata": {
        "id": "5fN3t5ZY4YNT"
      },
      "source": [
        "Para realizar as predições, estarei utilizando modelos de Regressão, pelo fato de: irei utilizar as notas nas outras áreas, que assumem um valor numérico para prever um valor numérico. n"
      ]
    },
    {
      "cell_type": "code",
      "metadata": {
        "id": "pfjYkVDPSVfe"
      },
      "source": [
        "from pycaret.regression import *\n",
        "import pycaret\n",
        "from pycaret.utils import enable_colab"
      ],
      "execution_count": null,
      "outputs": []
    },
    {
      "cell_type": "markdown",
      "metadata": {
        "id": "HePe2vSL4nD7"
      },
      "source": [
        "Como dito anteriormente, estarei separando apenas as notas, estarei eliminando os Missing Values para tornar o modelo mais coerente e saudável e também estarei analisando a correlação entre essas variáveis."
      ]
    },
    {
      "cell_type": "code",
      "metadata": {
        "id": "GXN-PdGtj4IM"
      },
      "source": [
        "dados_machine_learning = dados_enem2019[['NU_NOTA_MT', 'NU_NOTA_CH', 'NU_NOTA_LC', 'NU_NOTA_CN']]\n",
        "\n",
        "dados_machine_learning = dados_machine_learning.dropna()\n",
        "\n",
        "correlacao = dados_machine_learning.corr()\n",
        "correlacao"
      ],
      "execution_count": null,
      "outputs": []
    },
    {
      "cell_type": "markdown",
      "metadata": {
        "id": "z2gAD6SN4xLw"
      },
      "source": [
        "**Plotando um gráfico para analisar a correlação de pearson**"
      ]
    },
    {
      "cell_type": "code",
      "metadata": {
        "id": "lucUR_uCkmHA"
      },
      "source": [
        "sns.heatmap(correlacao, cmap=\"Blues\", center=0, annot=True);"
      ],
      "execution_count": null,
      "outputs": []
    },
    {
      "cell_type": "markdown",
      "metadata": {
        "id": "h36aVJrZ6HEN"
      },
      "source": [
        "De fato, visivelmente a nota de Linguagens e Códigos é a que mais influencia a nota de Ciências Humanas. Qual é o comportamento dessas variáveis em um modelo de machine learning para prever a nota de Ciências Humanas?"
      ]
    },
    {
      "cell_type": "markdown",
      "metadata": {
        "id": "2fH6C5He42cX"
      },
      "source": [
        "**Visualizando os dados**"
      ]
    },
    {
      "cell_type": "code",
      "metadata": {
        "id": "tix39dFRIJZU"
      },
      "source": [
        "dados_machine_learning.head()"
      ],
      "execution_count": null,
      "outputs": []
    },
    {
      "cell_type": "markdown",
      "metadata": {
        "id": "FTGDssc744yH"
      },
      "source": [
        "*   Separando os dados entre avaliação do modelo e para teste de valiação posterior (train_test_plit se refere ao módulo model_selection do sklearn)\n",
        "*   Criando o setup para criação dos modelos da biblioteca PyCaret. Estarei utilizando o data \"trai\" setado pelo item anterior. A target é a variável que eu estarei prevendo baseada nas outras. Analisei com um tamanho de treino por 70% e 30% para testes de validação, onde serão utilizados nas as métricas de avaliação. Session_id significa a SEED, para que o processo e os resultados sejam sempre os mesmos.\n",
        "\n"
      ]
    },
    {
      "cell_type": "markdown",
      "metadata": {
        "id": "Vy_WjurB8qN1"
      },
      "source": [
        "![](https://i.ibb.co/1nQ2ny1/Apresenta-o-sem-t-tulo-19.jpg)"
      ]
    },
    {
      "cell_type": "markdown",
      "metadata": {
        "id": "fs027XzL8t9h"
      },
      "source": [
        "![](https://i.ibb.co/5ktMky0/Apresenta-o-sem-t-tulo-20.jpg)"
      ]
    },
    {
      "cell_type": "code",
      "metadata": {
        "id": "PFruds5REHtX"
      },
      "source": [
        "train, validation = train_test_split(dados_machine_learning, test_size=0.2,\n",
        "                                     random_state=1234)\n",
        "\n",
        "reg = setup(data = train, \n",
        "              target = 'NU_NOTA_CH', train_size = 0.7, session_id = 1234)"
      ],
      "execution_count": null,
      "outputs": []
    },
    {
      "cell_type": "markdown",
      "metadata": {
        "id": "78qzdmMEBGGo"
      },
      "source": [
        "Execute a célula abaixo e aguarde o processo ser finalizado.\n",
        "\n",
        "A declaração `fold = 10` significa que as métricas estão sendo baseadas em dez camadas de cross-validation. \n",
        "\n",
        "![](https://ethen8181.github.io/machine-learning/model_selection/img/kfolds.png)\n",
        "\n",
        "*Fonte: https://ethen8181.github.io/machine-learning/model_selection/model_selection.html*\n",
        "\n",
        "O objetivo da validação cruzada é testar a capacidade do modelo de prever novos dados que não foram usados para estimá-los, a fim de sinalizar problemas como o excesso de adequação ou viés de seleção e dar uma visão de como o modelo se generalizará para um conjunto de dados independente (ou seja, um conjunto de dados desconhecido, por exemplo, a partir de um problema real). *Referência: https://en.wikipedia.org/wiki/Cross-validation_(statistics)*"
      ]
    },
    {
      "cell_type": "code",
      "metadata": {
        "id": "e3MGOy9IFKGn"
      },
      "source": [
        "# Treinar modelos\n",
        "\n",
        "compare_models(fold = 10)"
      ],
      "execution_count": null,
      "outputs": []
    },
    {
      "cell_type": "markdown",
      "metadata": {
        "id": "lHJpx2ipCNA3"
      },
      "source": [
        "> **As referências foram extraídas de um post no medium do Felipe Azank. Sigam ele clicando aqui: https://medium.com/@felipeazank**\n",
        "\n",
        "> **O post utilizado foi: https://medium.com/turing-talks/como-avaliar-seu-modelo-de-regress%C3%A3o-c2c8d73dab96**\n",
        "\n",
        "Como visto pela tabela acima, o modelo de Extreme Gradient Boosting gerou, pela maioria, os melhores resultados. Mas o que significa cada resultado?\n",
        "\n",
        "**MAE**\n",
        "\n",
        "O Erro Absoluto Médio (Mean Absolute Error) consiste na média das distâncias entre valores preditos e reais. Essa métrica não depende muito da variância dos dados.\n",
        "\n",
        " ![](https://miro.medium.com/max/700/0*OnnG-crQXu6ERq16.png)\n",
        "\n",
        "**MSE**\n",
        "\n",
        "Métrica mais utilizada, o Erro Quadrático Médio (Mean Squared Error) consiste na média do erro das previsões ao quadrado. Essa métrica é fortemente influenciada pela variância dos dados.\n",
        "\n",
        "![](https://miro.medium.com/proxy/0*-VOaIrijsfa-_pyA.png)\n",
        "\n",
        "**RMSE**\n",
        "\n",
        "Raiz do erro quadrático médio (RMSE), como o próprio nome diz, realiza a raiz quadrada da métrica anterior. Entretanto, essa medida, assim como o MSE, penaliza predições muito distantes da real.\n",
        "\n",
        "![](https://miro.medium.com/max/700/0*1Tkuqt6mbsBkLfY0.png)\n",
        "\n",
        "**R2**\n",
        "\n",
        "O valor do seu R-Quadrado varia de 0 a 1 e geralmente é representado em porcentagem.  Um R² = 80% explica que 80% da variância de nossos dados podem ser explicados pelo modelo construído, enquanto os outros 20%, teoricamente, se tratariam de uma variância residual.\n",
        "\n",
        "![](https://miro.medium.com/max/700/0*kYm-Z7G_N8D_YBtQ.png)\n",
        "![](https://miro.medium.com/max/700/1*ovulJZVeDOHyTqlzSLnQAg.png)\n",
        "\n",
        "**RMSLE**\n",
        "Raiz do erro médio quadrático e logarítmico, essa métrica realiza um cálculo similar ao do RMSE. \n",
        "\n",
        "![](https://miro.medium.com/max/700/0*ETVK49g5aGgPuO7o.png)\n",
        "\n",
        "**MAPE**\n",
        "Erro Percentual Absoluto Médio (MAPE), assume uma avaliação de, assim como o MSE e o MAE, quanto menor o valor, mais preciso seria o modelo de regressão. Obter um MAPE= 10% significa que, em média, nosso modelo faz previsões que erram por 10% do valor real. \n",
        "\n",
        "![](https://miro.medium.com/max/700/0*dI77cpoFj_DeQwSz.png)"
      ]
    },
    {
      "cell_type": "markdown",
      "metadata": {
        "id": "jP1qchlRFsaT"
      },
      "source": [
        "Agora que cada métrica foi brevemente explicada, vamos observar o desempenho para cada uma delas nas 10 gerações e grupos de bateria de testes do modelo. "
      ]
    },
    {
      "cell_type": "code",
      "metadata": {
        "id": "kwhJlx6SGnkm"
      },
      "source": [
        "xgboost = create_model('xgboost')"
      ],
      "execution_count": null,
      "outputs": []
    },
    {
      "cell_type": "markdown",
      "metadata": {
        "id": "VUEDkyerGeJ4"
      },
      "source": [
        "## **Intervalo de confiança para as métricas**"
      ]
    },
    {
      "cell_type": "markdown",
      "metadata": {
        "id": "DicTSAwuF_x_"
      },
      "source": [
        "As métricas acima foram retiradas do conjunto de treino. É possível realizar um intervalo de confiança em 95% para limitar um possível intervalo de correspondência ao valor real.\n",
        "\n",
        "![](https://www.comdinheiro.com.br/wiki/wp-content/uploads/2019/11/curva-normal.png)"
      ]
    },
    {
      "cell_type": "markdown",
      "metadata": {
        "id": "qlPOdwDhGdHV"
      },
      "source": [
        "Os nossos modelos estão distribuídos dispersos da média em questão. A partir da média é possível avaliar o desvio padrão. Em poucas palavras, essa métrica avalia o quão distantes os dados estão dispersos da média (ele é a raiz quadrada da variância).\n",
        "\n",
        "No gráfico acima é possível visualizar que, o valor da média menos um desvio padrão até o valor da média mais um desvio padrão ocupa 68% dos nossos dados. Nosso objetivo é ocupar um intervalo de 95%. \n",
        "\n",
        "**O que significa isso?** Podemos simplicar dizendo que, se repitirmos nossos experimentos 100 vezes, 95 deles estarão dentro do intervalo predeterminado."
      ]
    },
    {
      "cell_type": "markdown",
      "metadata": {
        "id": "281sTpcQJHdB"
      },
      "source": [
        "**Coletando as médias e o desvio padrão.**"
      ]
    },
    {
      "cell_type": "code",
      "metadata": {
        "id": "7YylpwO_Hj_d"
      },
      "source": [
        "dicionario_metricas = {\n",
        "    'MAE': {'Média': 36.8409, 'Desvio Padrão': 0.6424},\n",
        "    'MSE': {'Média': 2294.2634, 'Desvio Padrão': 86.8002},\n",
        "    'RMSE':  {'Média': 47.8899,  'Desvio Padrão':  0.9054},\n",
        "    'R2': {'Média': 0.6484,  'Desvio Padrão': 0.0223},\n",
        "    'RMSLE': {'Média': 0.1707, 'Desvio Padrão': 0.0497},\n",
        "    'MAPE': {'Média': 0.0765, 'Desvio Padrão': 0.0016}\n",
        "}"
      ],
      "execution_count": null,
      "outputs": []
    },
    {
      "cell_type": "markdown",
      "metadata": {
        "id": "jSGQycpwPjM2"
      },
      "source": [
        "**Gerando o intervalo de confiança:**"
      ]
    },
    {
      "cell_type": "code",
      "metadata": {
        "id": "0_yRccm0M0n0"
      },
      "source": [
        "for x in dicionario_metricas:\n",
        "  media = dicionario_metricas[x]['Média']\n",
        "  sd = dicionario_metricas[x]['Desvio Padrão']\n",
        "  print('O intervalo de confiança (de 95%) para {} é de {} até {}'.format(x, round(media - 1.96*sd, 5), round(media + 1.96*sd, 5)))"
      ],
      "execution_count": null,
      "outputs": []
    },
    {
      "cell_type": "markdown",
      "metadata": {
        "id": "kcknktp6PiDV"
      },
      "source": [
        "**Conferindo com o treino se o intervalo corresponde:**"
      ]
    },
    {
      "cell_type": "code",
      "metadata": {
        "id": "McRERha4dU9E"
      },
      "source": [
        "predict_model(xgboost)"
      ],
      "execution_count": null,
      "outputs": []
    },
    {
      "cell_type": "markdown",
      "metadata": {
        "id": "G8hxXpmaPqfi"
      },
      "source": [
        "De fato, todos as métricas estão dentro do intervalo de confiança."
      ]
    },
    {
      "cell_type": "markdown",
      "metadata": {
        "id": "OA5Ss6YgP2hn"
      },
      "source": [
        "## **Analisando o modelo**"
      ]
    },
    {
      "cell_type": "markdown",
      "metadata": {
        "id": "YMtji0IjQDlj"
      },
      "source": [
        "**Como podemos interpretar as variáveis?**\n",
        "\n",
        "No gráfico a seguir, é possível visualizar que há uma coerência entre as cores. Como podemos interpretá-lo? Basta identificar onde há o 0 no gráfico. A direita desse zero, ressalta que quanto mais a direita mais influente será a variável. A esquerda desse zero, ressalta que quanto mais a esquerda menos influente será a variável. E com relação a cor, quanto mais rosa, maior será o valor correspondente.\n",
        "\n",
        "Por exemplo, no caso, a nota em Linguagens e Códigos é a que mais influencia, e de forma proporcional. Quanto maior a nota em linguagens, maior será a nota em ciências humanas. O mesmo acontece com as outras, mas de forma menos influente (estão mais perto do zero)."
      ]
    },
    {
      "cell_type": "code",
      "metadata": {
        "id": "McJ4Vfr5mWtb"
      },
      "source": [
        "interpret_model(xgboost)"
      ],
      "execution_count": null,
      "outputs": []
    },
    {
      "cell_type": "markdown",
      "metadata": {
        "id": "mGcjDnR4Q5zc"
      },
      "source": [
        "Podemos visualizar a importância de cada variável de acordo com o seguinte gráfico:"
      ]
    },
    {
      "cell_type": "code",
      "metadata": {
        "id": "peXuEKiPRATH"
      },
      "source": [
        "plot_model(xgboost, 'feature')"
      ],
      "execution_count": null,
      "outputs": []
    },
    {
      "cell_type": "markdown",
      "metadata": {
        "id": "x1_qJZJnRCWA"
      },
      "source": [
        "Concluímos que, quanto maior a linguagens do candidato em Linguagens, maior será sua nota em Ciências Humanas. Esse efeito pode ser por causa das duas provas serem no mesmo dia, em que o candidado possa ter se preparado de forma mais sutil e delicada, não tendo uma referência de um dia de prova anterior."
      ]
    },
    {
      "cell_type": "markdown",
      "metadata": {
        "id": "f30jGYHmRp4t"
      },
      "source": [
        "![](https://slideplayer.com.br/slide/9174515/27/images/9/Modelo+de+Regress%C3%A3o+Linear+Simples.jpg)\n",
        "\n",
        "*Fonte: https://slideplayer.com.br/slide/9174515/27/images/9/Modelo+de+Regress%C3%A3o+Linear+Simples.jpg*\n",
        "\n",
        "Um modelo de regressão tenta ajudar uma linha de tendência nos valores para que seja o mais próximo possível do real. No gráfico da imagem acima, perceba que os pontos amarelos são os valores reais. A reta linear é uma reta que analisa a tendência e os possível valores mais próximos desses pontos dita uma inclinação. Os pontos dessa reta são os que o modelo irá prever de acordo com o valor em X. A distância entre o ponto real e a reta é chamada de Erro Aleatório, ou resíduos.\n",
        "\n",
        "Como repassado na seção de métricas, o R quadrado é influenciado pelos resíduos, pelos valores previstos, entre outros. Quanto maior o R², melhor o modelo estará performando. Entretanto, é necessária a avaliação de outras métricas para que não haja um enviesamento em interpretar somente essa variável."
      ]
    },
    {
      "cell_type": "code",
      "metadata": {
        "id": "JOH0VhPuG_0Q"
      },
      "source": [
        "plot_model(xgboost, plot='error')"
      ],
      "execution_count": null,
      "outputs": []
    },
    {
      "cell_type": "markdown",
      "metadata": {
        "id": "0rYSP3hoS3NI"
      },
      "source": [
        "64,9% da variância de nossos dados podem ser explicados pelo modelo construído, enquanto os outros 35,1%, teoricamente, se tratariam de uma variância residual. (observando os dados de teste).\n",
        "\n",
        "Para o gráfico a seguir, iremos analisar a variação dos resíduos e a distribuição deles. Para um modelo coerente, o ideal é que os modelos estejam normalmente distribuídos."
      ]
    },
    {
      "cell_type": "code",
      "metadata": {
        "id": "9wEp4p85HHRg"
      },
      "source": [
        "plot_model(xgboost, plot='residuals')"
      ],
      "execution_count": null,
      "outputs": []
    },
    {
      "cell_type": "markdown",
      "metadata": {
        "id": "FiScLZg6TgSs"
      },
      "source": [
        "De fato o modelo atende a algumas características da regressão linear, onde estão variados e normalmente distribuídos (pelo gráfico de sino demonstrado na horizontal)."
      ]
    },
    {
      "cell_type": "markdown",
      "metadata": {
        "id": "i12VTucHSzHy"
      },
      "source": [
        "**Os parâmetros do modelo utilizado**"
      ]
    },
    {
      "cell_type": "code",
      "metadata": {
        "id": "O3TSd-M2S1rV"
      },
      "source": [
        "plot_model(xgboost, plot='parameter')"
      ],
      "execution_count": null,
      "outputs": []
    },
    {
      "cell_type": "markdown",
      "metadata": {
        "id": "hXQZ72cFUQzc"
      },
      "source": [
        "## **Conclusões sobre o modelo**"
      ]
    },
    {
      "cell_type": "markdown",
      "metadata": {
        "id": "rzmdY5cQUUgS"
      },
      "source": [
        "De fato o nosso modelo pode explicar algumas coisas. Com ele podemos prever um valor em que, em média, pode estar apenas 7,65% distante do valor real.\n",
        "\n",
        "Há de se considerar esse valor, em que o modelo possa explicar de forma razoável a nota de Ciências Humanas de um candidato. Seu objetivo é ficar nos 0%, mas seu cenário é utópico. \n",
        "\n",
        "64,9% da variância de nossos dados podem ser explicados pelo modelo construído, assim possibilitando uma aproximação maior do real.\n",
        "\n",
        "Em relação à todos os modelos testados, o nosso modelo gerou uma melhora em 64,94% na métrica MSE, em comparação com o modelo Lasso Least Angle Regression. É o melhor modelo que se desempenha em toda a bateria de testes.\n",
        "\n",
        "Também podemos concluir que, a nota de Linguagens e Códigos dos candidatos influencia diretamente na nota de Ciências Humanas. Podemos concluir que, há uma correlação forte entre Linguagens e Humanas."
      ]
    },
    {
      "cell_type": "markdown",
      "metadata": {
        "id": "L4PfDO5MWkc1"
      },
      "source": [
        "## **Validando e salvando nosso modelo para um possível deploy**"
      ]
    },
    {
      "cell_type": "markdown",
      "metadata": {
        "id": "lhvzK3P5XQue"
      },
      "source": [
        "**Finalizando o modelo**"
      ]
    },
    {
      "cell_type": "code",
      "metadata": {
        "id": "6kR7I9Y9XSXT"
      },
      "source": [
        "modelo_finalizado = finalize_model(xgboost)\n",
        "save_model(modelo_finalizado, 'ciencias_humanas_ml')"
      ],
      "execution_count": null,
      "outputs": []
    },
    {
      "cell_type": "markdown",
      "metadata": {
        "id": "WoM5JU1GXtbJ"
      },
      "source": [
        "**Carregando o modelo para testes**"
      ]
    },
    {
      "cell_type": "code",
      "metadata": {
        "id": "DRFH6PXZXxTO"
      },
      "source": [
        "loaded_model = load_model('ciencias_humanas_ml')"
      ],
      "execution_count": null,
      "outputs": []
    },
    {
      "cell_type": "markdown",
      "metadata": {
        "id": "8Kr7uujHX-lb"
      },
      "source": [
        "**Validando o modelo**"
      ]
    },
    {
      "cell_type": "code",
      "metadata": {
        "id": "LmzMCVUhHs2_"
      },
      "source": [
        "previsoes = predict_model(loaded_model, data=validation)\n",
        "previsoes"
      ],
      "execution_count": null,
      "outputs": []
    },
    {
      "cell_type": "code",
      "metadata": {
        "id": "8CdFJ1uWYeWu"
      },
      "source": [
        "from sklearn.metrics import mean_absolute_error\n",
        "from sklearn.metrics import mean_squared_error\n",
        "from sklearn.metrics import mean_squared_error\n",
        "from math import sqrt\n",
        "\n",
        "def rmsle(y_pred, y_test) : \n",
        "    assert len(y_test) == len(y_pred)\n",
        "    return np.sqrt(np.mean((np.log(1+y_pred) - np.log(1+y_test))**2))\n",
        "\n",
        "\n",
        "def mape_vectorized_v2(a, b): \n",
        "    mask = a != 0\n",
        "    return (np.fabs(a - b)/a)[mask].mean()\n",
        "\n",
        "rmse = sqrt(mean_squared_error(previsoes['NU_NOTA_CH'], previsoes['Label']))\n",
        "\n",
        "print('MSE {}'.format(mean_squared_error(previsoes['NU_NOTA_CH'], previsoes['Label'])))\n",
        "print('MAE {}'.format(mean_absolute_error(previsoes['NU_NOTA_CH'], previsoes['Label'])))\n",
        "print('RMSE {}'.format(rmse))\n",
        "print('MAPE {}'.format(mape_vectorized_v2(previsoes['NU_NOTA_CH'], previsoes['Label'])))\n",
        "print('RMSLE {}'.format(rmsle(previsoes['Label'],previsoes['NU_NOTA_CH'])))"
      ],
      "execution_count": null,
      "outputs": []
    },
    {
      "cell_type": "markdown",
      "metadata": {
        "id": "tfks4fASfkII"
      },
      "source": [
        "Todas as métricas estão dentro dos intervalos determinados nesta seção."
      ]
    },
    {
      "cell_type": "markdown",
      "metadata": {
        "id": "NT49UeP3nvj1"
      },
      "source": [
        "# **Agradecimentos**"
      ]
    },
    {
      "cell_type": "markdown",
      "metadata": {
        "id": "5SvAVEEDny7y"
      },
      "source": [
        "Agradeço primordialmente a [Alura](https://www.alura.com.br/) por proporcionar essa esperiência incrível!\n",
        "\n",
        "Foram dias analisando, criando hipóteses e explorando o universo de DataScience. Foi um grande aprendizado. \n",
        "\n",
        "> Agradeço ao interlocutor que acompanhou minhas análises. Ficarei imensamente grato por qualquer feedback. Meu linkedin é: https://www.linkedin.com/in/matheus-llorente/\n",
        "\n",
        "\n",
        "\n",
        "> Agradeço à comunidade da Imersão Dados 2º edição. Foi incrível compartilhar o espaço(virtual)-tempo com vocês!\n",
        "\n",
        "\n",
        "\n",
        "**Meus agradecimentos especiais vão para:**\n",
        "\n",
        "Thiago G. Santos, o melhor Coordenador e instrutor existente,\n",
        "\n",
        "Thainá Mariani, a criadora dos desafios mais incríveis,\n",
        "\n",
        "Guilherme Silveira, o gênio de DataScience e\n",
        "\n",
        "Paulo Silveira, a melhor figura da imersão dados.\n",
        "\n",
        "Obrigado :)\n",
        "\n"
      ]
    }
  ]
}